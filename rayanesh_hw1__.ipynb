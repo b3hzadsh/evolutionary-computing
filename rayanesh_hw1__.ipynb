{
  "cells": [
    {
      "cell_type": "code",
      "execution_count": 3,
      "metadata": {
        "id": "cQck8m_SDiU5"
      },
      "outputs": [],
      "source": [
        "import numpy as np\n",
        "# import jax.numpy as jnp\n",
        "import random\n",
        "import math\n",
        "import random\n",
        "import json"
      ]
    },
    {
      "cell_type": "code",
      "execution_count": 2,
      "metadata": {},
      "outputs": [],
      "source": [
        "import json\n",
        "\n",
        "def addToJson(crossover_type, mutation_type, tuple1,fitness):\n",
        "\n",
        "  # Get two strings and a tuple\n",
        "  string1 = crossover_type\n",
        "  string2 = mutation_type\n",
        "  tuple1 = tuple1\n",
        "\n",
        "  # Load the existing JSON data (if it exists)\n",
        "  data = {}\n",
        "  try:\n",
        "    with open('data.json') as f:\n",
        "      existing_data = json.load(f)\n",
        "      data.update(existing_data)\n",
        "  except FileNotFoundError:\n",
        "    pass\n",
        "\n",
        "  # Find the next available index based on existing keys\n",
        "  next_index = 0\n",
        "  if string1 + \"-\" + string2 in data : \n",
        "    while str(next_index) in data[string1 + \"-\" + string2]:\n",
        "      next_index += 1\n",
        "  else :\n",
        "    data[string1 + \"-\" + string2] = {}\n",
        "\n",
        "  print(next_index)\n",
        "  # Add the tuple to the JSON data\n",
        "  data[string1 + \"-\" + string2][str(next_index)] = {\n",
        "    \"ARRAY\": tuple1,\n",
        "    \"FINTESS\": fitness\n",
        "  }\n",
        "\n",
        "  # Write the updated JSON data to the file\n",
        "  with open('data.json', 'w') as f:\n",
        "    json.dump(data, f, indent=2)\n"
      ]
    },
    {
      "cell_type": "code",
      "execution_count": 163,
      "metadata": {},
      "outputs": [
        {
          "name": "stdout",
          "output_type": "stream",
          "text": [
            "29\n"
          ]
        }
      ],
      "source": [
        "addToJson('pmx', 'inversion' ,([61, 51, 87, 25, 68, 69, 73, 50, 39, 33, 76, 13, 95, 82, 40, 54, 67,\n",
        "       93, 28, 89, 56,  8,  1, 98, 23, 77, 60, 35, 86, 57,  9,  7, 34, 85,\n",
        "       64,  2, 44, 96, 78, 37,  5, 30, 48, 52,  0, 41, 71, 14, 29, 46,  3,\n",
        "       43, 55, 83, 27, 12, 20, 62, 45, 32, 91, 15, 11, 17, 74, 72, 21, 59,\n",
        "       99, 36, 63, 10, 84, 24, 38, 18, 79, 90, 16, 70, 94, 22, 88, 53, 49,\n",
        "        6, 75, 19, 66, 26, 65,  4, 97, 42, 80, 31, 92, 47, 58, 81]), 33597)"
      ]
    },
    {
      "cell_type": "code",
      "execution_count": 1,
      "metadata": {
        "id": "O3inF_dJshzf"
      },
      "outputs": [],
      "source": [
        "# def distance(p1, p2):\n",
        "#   \"\"\"\n",
        "#   محاسبه فاصله اقلیدسی دو نقطه\n",
        "\n",
        "#   Args:\n",
        "#     p1: نقطه اول\n",
        "#     p2: نقطه دوم\n",
        "\n",
        "#   Returns:\n",
        "#     فاصله اقلیدسی بین دو نقطه\n",
        "#   \"\"\"\n",
        "\n",
        "#   x1, y1 = p1\n",
        "#   x2, y2 = p2\n",
        "\n",
        "#   dx = x1 - x2\n",
        "#   dy = y1 - y2\n",
        "\n",
        "#   return math.sqrt(dx**2 + dy**2)"
      ]
    },
    {
      "cell_type": "code",
      "execution_count": 2,
      "metadata": {
        "id": "NyayKB7TqHjE"
      },
      "outputs": [],
      "source": [
        "# def calculate_distance(cities, solution):\n",
        "#     total_distance = 0\n",
        "#     for i in range(len(solution) - 1):\n",
        "#         city1 = cities[solution[i]]\n",
        "#         city2 = cities[solution[i + 1]]\n",
        "#         distance = ((city1[1] - city2[1])**2 + (city1[2] - city2[2])**2)**0.5\n",
        "#         total_distance += distance\n",
        "#     return total_distance"
      ]
    },
    {
      "cell_type": "code",
      "execution_count": 2,
      "metadata": {
        "id": "5nrhxh9FvbCj"
      },
      "outputs": [
        {
          "ename": "ModuleNotFoundError",
          "evalue": "jax requires jaxlib to be installed. See https://github.com/google/jax#installation for installation instructions.",
          "output_type": "error",
          "traceback": [
            "\u001b[1;31m---------------------------------------------------------------------------\u001b[0m",
            "\u001b[1;31mModuleNotFoundError\u001b[0m                       Traceback (most recent call last)",
            "File \u001b[1;32me:\\dev\\sdk\\miniconda\\Lib\\site-packages\\jax\\_src\\lib\\__init__.py:25\u001b[0m\n\u001b[0;32m     24\u001b[0m \u001b[39mtry\u001b[39;00m:\n\u001b[1;32m---> 25\u001b[0m   \u001b[39mimport\u001b[39;00m \u001b[39mjaxlib\u001b[39;00m \u001b[39mas\u001b[39;00m \u001b[39mjaxlib\u001b[39;00m\n\u001b[0;32m     26\u001b[0m \u001b[39mexcept\u001b[39;00m \u001b[39mModuleNotFoundError\u001b[39;00m \u001b[39mas\u001b[39;00m err:\n",
            "\u001b[1;31mModuleNotFoundError\u001b[0m: No module named 'jaxlib'",
            "\nThe above exception was the direct cause of the following exception:\n",
            "\u001b[1;31mModuleNotFoundError\u001b[0m                       Traceback (most recent call last)",
            "\u001b[1;32mc:\\Users\\blues\\Documents\\Dev\\Projects\\jupyter\\evo\\hw1\\rayanesh_hw1__.ipynb Cell 4\u001b[0m line \u001b[0;36m5\n\u001b[0;32m      <a href='vscode-notebook-cell:/c%3A/Users/blues/Documents/Dev/Projects/jupyter/evo/hw1/rayanesh_hw1__.ipynb#W3sZmlsZQ%3D%3D?line=0'>1</a>\u001b[0m \u001b[39m# import numpy as np\u001b[39;00m\n\u001b[0;32m      <a href='vscode-notebook-cell:/c%3A/Users/blues/Documents/Dev/Projects/jupyter/evo/hw1/rayanesh_hw1__.ipynb#W3sZmlsZQ%3D%3D?line=1'>2</a>\u001b[0m \u001b[39m# def randomGeneration():\u001b[39;00m\n\u001b[0;32m      <a href='vscode-notebook-cell:/c%3A/Users/blues/Documents/Dev/Projects/jupyter/evo/hw1/rayanesh_hw1__.ipynb#W3sZmlsZQ%3D%3D?line=2'>3</a>\u001b[0m \u001b[39m#   return np.random.permutation(100)\u001b[39;00m\n\u001b[0;32m      <a href='vscode-notebook-cell:/c%3A/Users/blues/Documents/Dev/Projects/jupyter/evo/hw1/rayanesh_hw1__.ipynb#W3sZmlsZQ%3D%3D?line=3'>4</a>\u001b[0m \u001b[39m# import jax.numpy as jnp\u001b[39;00m\n\u001b[1;32m----> <a href='vscode-notebook-cell:/c%3A/Users/blues/Documents/Dev/Projects/jupyter/evo/hw1/rayanesh_hw1__.ipynb#W3sZmlsZQ%3D%3D?line=4'>5</a>\u001b[0m \u001b[39mfrom\u001b[39;00m \u001b[39mjax\u001b[39;00m \u001b[39mimport\u001b[39;00m random\n\u001b[0;32m      <a href='vscode-notebook-cell:/c%3A/Users/blues/Documents/Dev/Projects/jupyter/evo/hw1/rayanesh_hw1__.ipynb#W3sZmlsZQ%3D%3D?line=6'>7</a>\u001b[0m \u001b[39mdef\u001b[39;00m \u001b[39mrandomGeneration\u001b[39m(key):\n\u001b[0;32m      <a href='vscode-notebook-cell:/c%3A/Users/blues/Documents/Dev/Projects/jupyter/evo/hw1/rayanesh_hw1__.ipynb#W3sZmlsZQ%3D%3D?line=7'>8</a>\u001b[0m   \u001b[39mreturn\u001b[39;00m random\u001b[39m.\u001b[39mpermutation(key, \u001b[39m100\u001b[39m)\n",
            "File \u001b[1;32me:\\dev\\sdk\\miniconda\\Lib\\site-packages\\jax\\__init__.py:39\u001b[0m\n\u001b[0;32m     34\u001b[0m \u001b[39mdel\u001b[39;00m _cloud_tpu_init\n\u001b[0;32m     36\u001b[0m \u001b[39m# Confusingly there are two things named \"config\": the module and the class.\u001b[39;00m\n\u001b[0;32m     37\u001b[0m \u001b[39m# We want the exported object to be the class, so we first import the module\u001b[39;00m\n\u001b[0;32m     38\u001b[0m \u001b[39m# to make sure a later import doesn't overwrite the class.\u001b[39;00m\n\u001b[1;32m---> 39\u001b[0m \u001b[39mfrom\u001b[39;00m \u001b[39mjax\u001b[39;00m \u001b[39mimport\u001b[39;00m config \u001b[39mas\u001b[39;00m _config_module\n\u001b[0;32m     40\u001b[0m \u001b[39mdel\u001b[39;00m _config_module\n\u001b[0;32m     42\u001b[0m \u001b[39m# Force early import, allowing use of `jax.core` after importing `jax`.\u001b[39;00m\n",
            "File \u001b[1;32me:\\dev\\sdk\\miniconda\\Lib\\site-packages\\jax\\config.py:15\u001b[0m\n\u001b[0;32m      1\u001b[0m \u001b[39m# Copyright 2018 The JAX Authors.\u001b[39;00m\n\u001b[0;32m      2\u001b[0m \u001b[39m#\u001b[39;00m\n\u001b[0;32m      3\u001b[0m \u001b[39m# Licensed under the Apache License, Version 2.0 (the \"License\");\u001b[39;00m\n\u001b[1;32m   (...)\u001b[0m\n\u001b[0;32m     12\u001b[0m \u001b[39m# See the License for the specific language governing permissions and\u001b[39;00m\n\u001b[0;32m     13\u001b[0m \u001b[39m# limitations under the License.\u001b[39;00m\n\u001b[1;32m---> 15\u001b[0m \u001b[39mfrom\u001b[39;00m \u001b[39mjax\u001b[39;00m\u001b[39m.\u001b[39;00m\u001b[39m_src\u001b[39;00m\u001b[39m.\u001b[39;00m\u001b[39mconfig\u001b[39;00m \u001b[39mimport\u001b[39;00m config \u001b[39mas\u001b[39;00m _deprecated_config  \u001b[39m# noqa: F401\u001b[39;00m\n\u001b[0;32m     17\u001b[0m \u001b[39m# Deprecations\u001b[39;00m\n\u001b[0;32m     19\u001b[0m _deprecations \u001b[39m=\u001b[39m {\n\u001b[0;32m     20\u001b[0m     \u001b[39m# Added October 27, 2023\u001b[39;00m\n\u001b[0;32m     21\u001b[0m     \u001b[39m\"\u001b[39m\u001b[39mconfig\u001b[39m\u001b[39m\"\u001b[39m: (\n\u001b[0;32m     22\u001b[0m         \u001b[39m\"\u001b[39m\u001b[39mAccessing jax.config via the jax.config submodule is deprecated.\u001b[39m\u001b[39m\"\u001b[39m,\n\u001b[0;32m     23\u001b[0m         _deprecated_config),\n\u001b[0;32m     24\u001b[0m }\n",
            "File \u001b[1;32me:\\dev\\sdk\\miniconda\\Lib\\site-packages\\jax\\_src\\config.py:28\u001b[0m\n\u001b[0;32m     25\u001b[0m \u001b[39mfrom\u001b[39;00m \u001b[39mtyping\u001b[39;00m \u001b[39mimport\u001b[39;00m Any, Callable, Generic, NamedTuple, NoReturn, Optional, TypeVar\n\u001b[0;32m     26\u001b[0m \u001b[39mimport\u001b[39;00m \u001b[39mwarnings\u001b[39;00m\n\u001b[1;32m---> 28\u001b[0m \u001b[39mfrom\u001b[39;00m \u001b[39mjax\u001b[39;00m\u001b[39m.\u001b[39;00m\u001b[39m_src\u001b[39;00m \u001b[39mimport\u001b[39;00m lib\n\u001b[0;32m     29\u001b[0m \u001b[39mfrom\u001b[39;00m \u001b[39mjax\u001b[39;00m\u001b[39m.\u001b[39;00m\u001b[39m_src\u001b[39;00m\u001b[39m.\u001b[39;00m\u001b[39mlib\u001b[39;00m \u001b[39mimport\u001b[39;00m jax_jit\n\u001b[0;32m     30\u001b[0m \u001b[39mfrom\u001b[39;00m \u001b[39mjax\u001b[39;00m\u001b[39m.\u001b[39;00m\u001b[39m_src\u001b[39;00m\u001b[39m.\u001b[39;00m\u001b[39mlib\u001b[39;00m \u001b[39mimport\u001b[39;00m transfer_guard_lib\n",
            "File \u001b[1;32me:\\dev\\sdk\\miniconda\\Lib\\site-packages\\jax\\_src\\lib\\__init__.py:27\u001b[0m\n\u001b[0;32m     25\u001b[0m   \u001b[39mimport\u001b[39;00m \u001b[39mjaxlib\u001b[39;00m \u001b[39mas\u001b[39;00m \u001b[39mjaxlib\u001b[39;00m\n\u001b[0;32m     26\u001b[0m \u001b[39mexcept\u001b[39;00m \u001b[39mModuleNotFoundError\u001b[39;00m \u001b[39mas\u001b[39;00m err:\n\u001b[1;32m---> 27\u001b[0m   \u001b[39mraise\u001b[39;00m \u001b[39mModuleNotFoundError\u001b[39;00m(\n\u001b[0;32m     28\u001b[0m     \u001b[39m'\u001b[39m\u001b[39mjax requires jaxlib to be installed. See \u001b[39m\u001b[39m'\u001b[39m\n\u001b[0;32m     29\u001b[0m     \u001b[39m'\u001b[39m\u001b[39mhttps://github.com/google/jax#installation for installation instructions.\u001b[39m\u001b[39m'\u001b[39m\n\u001b[0;32m     30\u001b[0m     ) \u001b[39mfrom\u001b[39;00m \u001b[39merr\u001b[39;00m\n\u001b[0;32m     32\u001b[0m \u001b[39mimport\u001b[39;00m jax\u001b[39m.\u001b[39mversion\n\u001b[0;32m     33\u001b[0m \u001b[39mfrom\u001b[39;00m \u001b[39mjax\u001b[39;00m\u001b[39m.\u001b[39;00m\u001b[39mversion\u001b[39;00m \u001b[39mimport\u001b[39;00m _minimum_jaxlib_version \u001b[39mas\u001b[39;00m _minimum_jaxlib_version_str\n",
            "\u001b[1;31mModuleNotFoundError\u001b[0m: jax requires jaxlib to be installed. See https://github.com/google/jax#installation for installation instructions."
          ]
        }
      ],
      "source": [
        "# import numpy as np\n",
        "# def randomGeneration():\n",
        "#   return np.random.permutation(100)\n",
        "# import jax.numpy as jnp\n",
        "from jax import random\n",
        "\n",
        "def randomGeneration(key):\n",
        "  return random.permutation(key, 100)"
      ]
    },
    {
      "cell_type": "code",
      "execution_count": 4,
      "metadata": {
        "id": "FjgKqdbJqoog"
      },
      "outputs": [],
      "source": [
        "def read_city_data(filename):\n",
        "    city_data = []\n",
        "    with open(filename, 'r') as f:\n",
        "        for line in f:\n",
        "            city, lat, lon = line.strip().split(' ')\n",
        "            city_data.append([city, int(lat), int(lon)])\n",
        "            # check city is good verification\n",
        "            # id , lat (x), long(y) in array\n",
        "    return city_data"
      ]
    },
    {
      "cell_type": "code",
      "execution_count": 8,
      "metadata": {
        "colab": {
          "base_uri": "https://localhost:8080/"
        },
        "id": "AVMectc8WNlj",
        "outputId": "3258b5e1-99ce-418b-bab5-d4cd02ca9f20"
      },
      "outputs": [
        {
          "name": "stdout",
          "output_type": "stream",
          "text": [
            "100\n"
          ]
        }
      ],
      "source": [
        "city_data = read_city_data('sample_data/city-cor.txt')\n",
        "print(len(city_data))\n",
        "# for city, lat, lon in city_data:\n",
        "#     print(f\"City: {city}, Latitude: {lat}, Longitude: {lon}\")"
      ]
    },
    {
      "cell_type": "code",
      "execution_count": 9,
      "metadata": {
        "id": "9TR8-FB7WNlk"
      },
      "outputs": [],
      "source": [
        "def read_city_answer(filename):\n",
        "    city_answer = []\n",
        "    with open(filename, 'r') as f:\n",
        "        for line in f:\n",
        "            city_index = int(line)\n",
        "            city_answer.append(city_index)\n",
        "            # id , lat (x), long(y) in tupple\n",
        "    return city_answer"
      ]
    },
    {
      "cell_type": "code",
      "execution_count": 10,
      "metadata": {
        "id": "vfQYM639q3e_"
      },
      "outputs": [],
      "source": [
        "city_ans = read_city_answer('sample_data/answer.txt')\n",
        "# city_ans"
      ]
    },
    {
      "cell_type": "code",
      "execution_count": 11,
      "metadata": {
        "colab": {
          "base_uri": "https://localhost:8080/"
        },
        "id": "lc4akb2-NTqH",
        "outputId": "2849b1c7-71c4-4751-b99d-f1728f91c0b8"
      },
      "outputs": [
        {
          "name": "stdout",
          "output_type": "stream",
          "text": [
            "['1', 1380, 939]\n"
          ]
        }
      ],
      "source": [
        "print(city_data[0])"
      ]
    },
    {
      "cell_type": "code",
      "execution_count": 12,
      "metadata": {
        "id": "GtWXCDuKr7hu"
      },
      "outputs": [],
      "source": [
        "def generate_random_chromosomes(population_size):\n",
        "    chromosomes = []\n",
        "    for _ in range(population_size):\n",
        "        chromosome = randomGeneration()\n",
        "        # random.shuffle(chromosome)\n",
        "        chromosomes.append(chromosome)\n",
        "    return chromosomes"
      ]
    },
    {
      "cell_type": "code",
      "execution_count": 13,
      "metadata": {
        "id": "D-OTX-gxxuWD"
      },
      "outputs": [],
      "source": [
        "def calculate_fitness(chromosome, cities=city_data):\n",
        "    total_distance = 0\n",
        "    if len(chromosome) != 100 :\n",
        "      raise ValueError\n",
        "    for i in range(100):\n",
        "        city1_index = chromosome[i-1]\n",
        "        city2_index = chromosome[i]\n",
        "\n",
        "        city1 = cities[city1_index-1]\n",
        "        city2 = cities[city2_index-1]\n",
        "\n",
        "        latitude_diff = city1[1] - city2[1]\n",
        "        longitude_diff = city1[2] - city2[2]\n",
        "\n",
        "        distance = math.sqrt(latitude_diff**2 + longitude_diff**2)\n",
        "        total_distance += distance\n",
        "    return int(total_distance // 1)"
      ]
    },
    {
      "cell_type": "code",
      "execution_count": 16,
      "metadata": {
        "colab": {
          "base_uri": "https://localhost:8080/"
        },
        "id": "uLByyW--WNlm",
        "outputId": "6f38822a-69b9-4a85-cc6e-cb1c6c9086a8"
      },
      "outputs": [
        {
          "data": {
            "text/plain": [
              "21285"
            ]
          },
          "execution_count": 16,
          "metadata": {},
          "output_type": "execute_result"
        }
      ],
      "source": [
        "calculate_fitness(city_ans)"
      ]
    },
    {
      "cell_type": "code",
      "execution_count": 17,
      "metadata": {
        "id": "Q6Z5mTCEWNlm"
      },
      "outputs": [],
      "source": [
        "# def calculate_fitness_np(chromosome, cities=city_data):\n",
        "#     if len(chromosome) != 100 :\n",
        "#         print('wrong chromosome length')\n",
        "#         raise ValueError\n",
        "\n",
        "#     total_distance = 0\n",
        "#     for i in range(100):\n",
        "#         city1_index = chromosome[i-1]\n",
        "#         city2_index = chromosome[i]\n",
        "\n",
        "#         city1 = np.array(cities[city1_index-1][1:])\n",
        "#         city2 = np.array(cities[city2_index-1][1:])\n",
        "\n",
        "#         distance = np.linalg.norm(city1 - city2)\n",
        "#         total_distance += distance\n",
        "\n",
        "#     return int(total_distance // 1)\n",
        "import jax.numpy as jnp\n",
        "from jax import lax\n",
        "\n",
        "def calculate_fitness_np(chromosome, cities=city_data):\n",
        "    if len(chromosome) != 100 :\n",
        "        print('wrong chromosome length')\n",
        "        raise ValueError\n",
        "\n",
        "    def body_fun(i, total_distance):\n",
        "        city1_index = chromosome[i-1]\n",
        "        city2_index = chromosome[i]\n",
        "\n",
        "        city1 = jnp.array(cities[city1_index-1][1:])\n",
        "        city2 = jnp.array(cities[city2_index-1][1:])\n",
        "\n",
        "        distance = jnp.linalg.norm(city1 - city2)\n",
        "        total_distance += distance\n",
        "\n",
        "        return total_distance\n",
        "\n",
        "    total_distance = lax.fori_loop(0, 100, body_fun, 0)\n",
        "\n",
        "    return int(total_distance // 1)"
      ]
    },
    {
      "cell_type": "code",
      "execution_count": 18,
      "metadata": {
        "colab": {
          "base_uri": "https://localhost:8080/"
        },
        "id": "H_1CvQkDWNlm",
        "outputId": "94649f34-17a8-4df2-d8e2-f03eabe6b746"
      },
      "outputs": [
        {
          "data": {
            "text/plain": [
              "21285"
            ]
          },
          "execution_count": 18,
          "metadata": {},
          "output_type": "execute_result"
        }
      ],
      "source": [
        "calculate_fitness_np(city_ans)"
      ]
    },
    {
      "cell_type": "code",
      "execution_count": 19,
      "metadata": {
        "colab": {
          "base_uri": "https://localhost:8080/"
        },
        "id": "5blq38ftWNlm",
        "outputId": "c9042df9-c144-4961-d2f1-8d75bb0e4ed3"
      },
      "outputs": [
        {
          "name": "stdout",
          "output_type": "stream",
          "text": [
            "[46 57 86 59 83 67 97  0  3  9 80 68 60 38 25  8 22 42 15 88 70 79 39 51\n",
            " 16 56 28 19 12 77 69 82 92 24 13 48 50 49 98 44  7 91 37  5 47 14 53 71\n",
            " 36 41 29 54 32 65 20 66 11 40 27 78 87  6 73 23 33 10 72  4 94 93 75 74\n",
            " 55 26  1 76 96 31  2 90 18 61 30 17 52 81 62 64 63 58 35 95 84 45 21 34\n",
            " 85 89 99 43]\n"
          ]
        }
      ],
      "source": [
        "population = generate_random_chromosomes(500)\n",
        "print(population[0])"
      ]
    },
    {
      "cell_type": "code",
      "execution_count": 20,
      "metadata": {
        "id": "RwX8ATuNOQIY"
      },
      "outputs": [],
      "source": [
        "# for chro in population :\n",
        "#   fitforchro = calculate_fitness(chro)\n",
        "#   if fitforchro < 21285:\n",
        "#     print(fitforchro)"
      ]
    },
    {
      "cell_type": "code",
      "execution_count": null,
      "metadata": {
        "id": "zRScPkQ1WNln"
      },
      "outputs": [],
      "source": [
        "# fitness_values = []\n",
        "# for chromosome in population :\n",
        "#     fitness_value = calculate_fitness(chromosome, cities = city_data)\n",
        "#     fitness_values.append(fitness_value)\n",
        "# fitness_values"
      ]
    },
    {
      "cell_type": "code",
      "execution_count": null,
      "metadata": {
        "colab": {
          "base_uri": "https://localhost:8080/"
        },
        "id": "pZmg86BUWNln",
        "outputId": "e4dc878e-bdda-447a-fed0-64b19df1c47d"
      },
      "outputs": [
        {
          "name": "stdout",
          "output_type": "stream",
          "text": [
            "[164163 179856 170598 158845 185933 172576 173113 174694 178062 165858\n",
            " 174669 162330 175809 161074 178904 155866 173669 156670 157704 180331\n",
            " 180151 182149 176601 175153 185082 172524 183485 167576 164989 170356\n",
            " 177925 158429 175852 168069 176584 181132 185986 176002 165545 164294\n",
            " 163630 172452 181466 183517 173991 161733 173796 174563 176816 180787\n",
            " 170612 170075 162641 180618 170411 178927 174909 178947 178940 167947\n",
            " 158395 154208 159877 166431 158074 171268 165494 178636 176421 152176\n",
            " 177234 172240 172540 181025 173052 178450 162402 159685 180087 181527\n",
            " 179296 176080 161727 173752 171642 172266 174292 170482 175395 155403\n",
            " 179242 162297 166387 168080 181815 163432 173994 166905 162569 172644\n",
            " 166523 176349 165250 166318 164999 161249 169173 157373 174500 179870\n",
            " 168953 165343 170232 172375 169640 187899 156238 158712 173582 152922\n",
            " 177456 164063 173114 166861 161836 165748 168433 166477 170929 169696\n",
            " 179283 169603 170278 157885 178161 172131 147106 180888 154487 171875\n",
            " 158293 169575 144807 169615 169209 171807 170900 164192 179079 171185\n",
            " 174056 170538 173251 179525 159314 174235 163035 185304 172253 175389\n",
            " 173283 164504 179210 178623 169114 171782 163598 172441 175835 161056\n",
            " 164795 168381 186495 163340 180896 143407 162392 172883 169329 175171\n",
            " 164843 170624 164490 181706 180126 166982 170334 185130 169889 168731\n",
            " 173627 173966 182635 172527 163338 174525 175083 165875 177281 164521\n",
            " 183391 167383 169210 161929 183582 172214 163290 164312 165371 166791\n",
            " 175010 166959 182492 170226 158060 162690 184287 172166 164487 163783\n",
            " 171212 180813 165754 169101 163975 177198 172965 165395 155386 170293\n",
            " 183333 173467 161749 170876 172521 149891 166610 166900 175653 183372\n",
            " 169108 154101 157062 172722 193757 163438 171794 161175 170702 170271\n",
            " 167116 162551 175380 174402 166557 157647 156320 160913 165805 178197\n",
            " 170260 151914 174166 161663 192407 165942 181257 155398 174746 168549\n",
            " 165815 174563 155414 179417 175792 166645 182105 183502 168959 182847\n",
            " 172656 183688 150678 188544 163056 181118 176551 181896 179385 173587\n",
            " 168274 169785 176817 178001 169054 182074 168465 166820 167044 171549\n",
            " 172071 182178 172127 157514 172271 166631 168691 155570 165580 176490\n",
            " 159164 169196 179561 162902 180497 182655 162160 173140 161018 163318\n",
            " 179118 168103 187787 170150 177589 171915 170114 165950 166518 183376\n",
            " 172555 175323 173722 164271 175253 183416 166967 171191 169037 164879\n",
            " 165508 176660 169170 168884 154254 171452 180733 175553 170392 168947\n",
            " 179807 179849 174815 171801 170045 165452 163306 162011 189099 166391\n",
            " 174614 161267 185031 175840 174508 169958 160773 171372 180658 170821\n",
            " 170444 166659 171578 166337 157266 177895 178215 166742 166660 163944\n",
            " 166110 182969 175948 169346 162934 177409 161741 163141 168264 192158\n",
            " 161870 178593 169047 188357 164559 181567 182315 173091 179777 159849\n",
            " 183805 170296 181592 169330 178494 158476 183295 176454 175497 166021\n",
            " 164969 188327 169849 177333 152713 164030 168721 168931 176121 152290\n",
            " 160548 178759 163937 168883 167336 156494 162295 166313 184686 191811\n",
            " 162825 159028 174091 172609 154230 184256 177361 162268 173107 173489\n",
            " 163133 178920 181272 180067 166711 166707 161487 180518 171041 168333\n",
            " 179188 181763 171507 169731 167672 172370 176902 186260 167589 187139\n",
            " 167905 175616 181718 169069 173890 172008 173517 172968 172986 160212\n",
            " 162200 182110 168800 176142 167376 167466 167136 169202 167662 167672\n",
            " 171871 163472 170674 166869 180353 184908 178102 171932 170931 169752\n",
            " 171497 168184 187556 164612 171235 176241 183981 182163 175444 155834]\n"
          ]
        }
      ],
      "source": [
        "fitness_values = np.array([calculate_fitness(chromosome, cities=city_data) for chromosome in population])\n",
        "print(fitness_values)"
      ]
    },
    {
      "cell_type": "code",
      "execution_count": 21,
      "metadata": {
        "id": "VLrC-gvvWNln"
      },
      "outputs": [],
      "source": [
        "import jax.numpy as jnp\n",
        "from jax import random, lax\n",
        "\n",
        "def permutation_parent_selection(population, fitness_values, selection_method=\"roulette_wheel\"):\n",
        "  \"\"\"Selects parents for a genetic algorithm using permutation representation.\n",
        "\n",
        "  Args:\n",
        "    population: A list of chromosomes in permutation representation.\n",
        "    fitness_values: A list of fitness values for each chromosome in the population.\n",
        "    selection_method: The parent selection method to use. Supported methods are\n",
        "      \"roulette_wheel\" and \"tournament\".\n",
        "\n",
        "  Returns:\n",
        "    A tuple of two chromosomes selected as parents.\n",
        "  \"\"\"\n",
        "\n",
        "  if selection_method == \"roulette_wheel\":\n",
        "    return roulette_wheel_permutation_parent_selection(population, fitness_values)\n",
        "  elif selection_method == \"tournament\":\n",
        "    return tournament_permutation_parent_selection(population, fitness_values)\n",
        "  else:\n",
        "    raise ValueError(\"Unsupported parent selection method: {}\".format(selection_method))\n",
        "\n",
        "\n",
        "# def roulette_wheel_permutation_parent_selection(population, fitness_values):\n",
        "\n",
        "#   total_fitness = np.sum(fitness_values)\n",
        "#   fitness_probabilities = fitness_values / total_fitness\n",
        "#   cumulative_probabilities = np.cumsum(fitness_probabilities)\n",
        "\n",
        "#   random_value = random.random()\n",
        "#   parent1_index = 0\n",
        "#   for i, probability in enumerate(cumulative_probabilities):\n",
        "#     if random_value < probability:\n",
        "#       parent1 = population[i]\n",
        "#       break\n",
        "\n",
        "#   random_value = random.random()\n",
        "#   parent2_index = 0\n",
        "#   for i, probability in enumerate(cumulative_probabilities):\n",
        "#     if random_value < probability:\n",
        "#       parent2 = population[i]\n",
        "#       break\n",
        "\n",
        "#   return parent1, parent2\n",
        "\n",
        "\n",
        "def roulette_wheel_permutation_parent_selection(population, fitness_values, key):\n",
        "  key = random.PRNGKey(72)\n",
        "  total_fitness = jnp.sum(fitness_values)\n",
        "  fitness_probabilities = fitness_values / total_fitness\n",
        "  cumulative_probabilities = jnp.cumsum(fitness_probabilities)\n",
        "\n",
        "  def find_parent(random_value):\n",
        "    def body_fun(i, parent_index):\n",
        "      return lax.cond(random_value < cumulative_probabilities[i], lambda _: i, lambda _: parent_index, None)\n",
        "    parent_index = lax.fori_loop(0, len(cumulative_probabilities), body_fun, 0)\n",
        "    return population[parent_index]\n",
        "\n",
        "  key1, key2 = random.split(key, 2)\n",
        "  random_value1 = random.uniform(key1)\n",
        "  random_value2 = random.uniform(key2)\n",
        "\n",
        "  parent1 = find_parent(random_value1)\n",
        "  parent2 = find_parent(random_value2)\n",
        "\n",
        "  return parent1, parent2\n",
        "\n",
        "\n",
        "def tournament_permutation_parent_selection(population, fitness_values, tournament_size=2):\n",
        "  \"\"\"Selects parents using tournament selection for permutation representation.\n",
        "\n",
        "  Args:\n",
        "    population: A list of chromosomes in permutation representation.\n",
        "    fitness_values: A list of fitness values for each chromosome in the population.\n",
        "    tournament_size: The size of the tournament.\n",
        "\n",
        "  Returns:\n",
        "    A tuple of two chromosomes selected as parents.\n",
        "  \"\"\"\n",
        "\n",
        "  parent1 = None\n",
        "  parent2 = None\n",
        "\n",
        "  for _ in range(tournament_size):\n",
        "    random_index = random.randint(0, len(population) - 1)\n",
        "\n",
        "    if parent1 is None or fitness_values[random_index] > fitness_values[parent1]:\n",
        "      parent1 = population[random_index]\n",
        "\n",
        "    if parent2 is None or fitness_values[random_index] > fitness_values[parent2]:\n",
        "      parent2 = population[random_index]\n",
        "\n",
        "  return parent1, parent2\n"
      ]
    },
    {
      "cell_type": "code",
      "execution_count": null,
      "metadata": {
        "colab": {
          "base_uri": "https://localhost:8080/"
        },
        "id": "_0Xed4_QWNln",
        "outputId": "af8f0704-557b-43be-d93c-9841a274fcfc"
      },
      "outputs": [
        {
          "data": {
            "text/plain": [
              "(array([24, 83, 17, 31, 60, 67, 62,  2,  9, 76, 49, 32,  0, 78, 13, 77,  1,\n",
              "        44, 59, 34, 72, 92, 43, 15, 40, 46, 63, 98, 22, 94, 64, 39, 25, 70,\n",
              "        16, 23, 80, 48, 93, 69, 79,  7, 68, 56, 61, 18, 75, 41, 12, 37, 55,\n",
              "        33, 86, 99, 50, 90, 11, 53, 58, 87, 82, 30, 14, 89, 19, 36, 20, 85,\n",
              "        29, 65, 73,  6,  8, 95, 10, 71, 51, 66,  3, 27, 21, 47, 35, 45, 81,\n",
              "        96, 54, 57, 84, 91, 26, 88,  4,  5, 42, 38, 52, 28, 74, 97]),\n",
              " array([79, 68, 16, 84, 99, 61, 88, 19, 24, 48, 65, 49, 77, 82, 12,  7, 22,\n",
              "        62, 95, 74, 57, 96, 97, 43, 11,  2, 41, 28,  1, 56, 75, 47, 83,  9,\n",
              "        69,  6, 91, 63, 71, 30, 37, 33, 27, 85, 20, 70, 94, 13, 14, 89, 51,\n",
              "        10, 80, 18, 55, 38, 52, 35, 42, 78, 81, 44, 87, 36, 86, 92, 67, 45,\n",
              "        53, 25,  4, 21, 50, 40, 58, 60, 76, 15, 59, 26,  0,  8, 90, 46, 31,\n",
              "        64, 73, 72, 98, 29, 17, 93, 34, 23, 32,  3,  5, 54, 39, 66]))"
            ]
          },
          "execution_count": 25,
          "metadata": {},
          "output_type": "execute_result"
        }
      ],
      "source": [
        "roulette_wheel_permutation_parent_selection(population=population, fitness_values=fitness_values)"
      ]
    },
    {
      "cell_type": "code",
      "execution_count": 22,
      "metadata": {
        "id": "iFpjkhFAWNln"
      },
      "outputs": [],
      "source": [
        "# def PMX_crossover(parent1, parent2, seed):\n",
        "\n",
        "#     rng = np.random.default_rng(seed=seed)\n",
        "\n",
        "#     cutoff_1, cutoff_2 = np.sort(rng.choice(np.arange(len(parent1)+1), size=2, replace=False))\n",
        "\n",
        "#     def PMX_one_offspring(p1, p2):\n",
        "#         offspring = np.zeros(len(p1), dtype=p1.dtype)\n",
        "#         offspring[cutoff_1:cutoff_2] = p1[cutoff_1:cutoff_2]\n",
        "#         for i in np.concatenate([np.arange(0,cutoff_1), np.arange(cutoff_2,len(p1))]):\n",
        "#             candidate = p2[i]\n",
        "#             while candidate in p1[cutoff_1:cutoff_2]: # allows for several successive mappings\n",
        "#                 candidate = p2[np.where(p1 == candidate)[0][0]]\n",
        "#             offspring[i] = candidate\n",
        "#         return offspring\n",
        "\n",
        "#     offspring1 = PMX_one_offspring(parent1, parent2)\n",
        "#     offspring2 = PMX_one_offspring(parent2, parent1)\n",
        "\n",
        "#     return offspring1, offspring2\n",
        "\n",
        "import jax.numpy as jnp\n",
        "from jax import random, lax\n",
        "\n",
        "def PMX_crossover(parent1, parent2, seed):\n",
        "\n",
        "    key = random.PRNGKey(seed)\n",
        "\n",
        "    cutoff_1, cutoff_2 = jnp.sort(random.choice(key, jnp.arange(len(parent1)+1), shape=(2,), replace=False))\n",
        "\n",
        "    def PMX_one_offspring(p1, p2):\n",
        "        offspring = jnp.zeros(len(p1), dtype=p1.dtype)\n",
        "        offspring = offspring.at[cutoff_1:cutoff_2].set(p1[cutoff_1:cutoff_2])\n",
        "        for i in jnp.concatenate([jnp.arange(0,cutoff_1), jnp.arange(cutoff_2,len(p1))]):\n",
        "            candidate = p2[i]\n",
        "            while candidate in p1[cutoff_1:cutoff_2]: # allows for several successive mappings\n",
        "                candidate = p2[jnp.where(p1 == candidate)[0][0]]\n",
        "            offspring = offspring.at[i].set(candidate)\n",
        "        return offspring\n",
        "\n",
        "    offspring1 = PMX_one_offspring(parent1, parent2)\n",
        "    offspring2 = PMX_one_offspring(parent2, parent1)\n",
        "\n",
        "    return offspring1, offspring2\n",
        "\n",
        "\n",
        "\n",
        "\n",
        "# parent1 = np.random.permutation(10)\n",
        "# parent2 = np.random.permutation(10)\n",
        "# # Print the parents\n",
        "# print(\"Parent 1:\", parent1)\n",
        "# print(\"Parent 2:\", parent2)\n",
        "# # Apply PMX and print the offspring\n",
        "# offspring1, offspring2 = PMX_crossover(parent1, parent2,313)\n",
        "# print(\"Offspring 1:\", offspring1)\n",
        "# print(\"Offspring 2:\", offspring2)"
      ]
    },
    {
      "cell_type": "code",
      "execution_count": 23,
      "metadata": {
        "colab": {
          "base_uri": "https://localhost:8080/"
        },
        "id": "n6wcQLD3WNlo",
        "outputId": "87de5cd9-22cd-4141-f063-1965a03bba4a"
      },
      "outputs": [
        {
          "name": "stdout",
          "output_type": "stream",
          "text": [
            "Offspring 1: [89 59 43 64 10 23 34  8 16 76 77 96 83 26 62 38 85 68 72  9 79 97 70 63\n",
            " 42 93  0 25  2 33 95 82 92 24 13 48 50 49 98 44  7 91 37  5 47 14 53 71\n",
            " 36 41 29 54 32 65 20 66 11 40 27 78 87  6 73 12 90 39 80  4 30 75 17 84\n",
            " 57 18 15 67 60 74 22  3 52 61  1 88 99 51 55 45 86 56 19 31 69 21 81 46\n",
            " 35 28 94 58]\n",
            "Offspring 2: [46 57 86 59 47 67 97  0  3  9 29 68 60 38 25  8 22 44 15 88 70 79 39 51\n",
            " 16 56 71  6 12 77 20 66  4 41 35 40 53 99 54 42 19 61 93 18 83 27 74 28\n",
            " 52 30 80 21  1 84 69 36 81 75 43 82 37  7 50 23 33 10 72 92 94 87 48 73\n",
            " 55 26 32 76 96 31  2 90  5 91 24 17 78 11 62 64 63 58 13 95 65 45 98 34\n",
            " 85 89 49 14]\n"
          ]
        }
      ],
      "source": [
        "offspring1, offspring2 = PMX_crossover(population[0], population[1],313)\n",
        "print(\"Offspring 1:\", offspring1)\n",
        "print(\"Offspring 2:\", offspring2)"
      ]
    },
    {
      "cell_type": "code",
      "execution_count": 24,
      "metadata": {
        "colab": {
          "base_uri": "https://localhost:8080/"
        },
        "id": "4p_Cx_hbWNlo",
        "outputId": "fa248501-e8c0-4a5a-af8d-6c4f8cf30fb9"
      },
      "outputs": [
        {
          "name": "stdout",
          "output_type": "stream",
          "text": [
            "(100,)\n"
          ]
        },
        {
          "data": {
            "text/plain": [
              "(array([36, 33, 81, 72, 45, 53, 32, 18, 43, 23, 68, 93, 62, 16, 77, 41, 94,\n",
              "         5, 52, 11, 30, 12, 27, 95, 60, 39, 79, 66, 56, 48, 42,  6,  2, 92,\n",
              "        73, 58, 19, 13, 38, 46, 35, 65, 44, 84, 34, 67, 89, 87, 76, 47, 55,\n",
              "        96, 88, 29, 20, 14, 26, 69, 25, 97, 49, 28, 82, 91, 78, 83, 80, 17,\n",
              "        70,  7, 40, 24, 31, 61, 54, 63, 51,  9, 85, 99,  4, 90, 50, 59,  0,\n",
              "        21, 71,  1,  3, 15, 22, 86, 74, 10, 75, 98, 57,  8, 37, 64]),\n",
              " array([36, 96, 63, 40, 99, 74, 59, 75, 79, 37, 18, 47, 84, 23, 10,  5, 38,\n",
              "        12, 94, 25, 46, 48, 17, 11, 92, 43, 87, 16, 20, 15, 51, 85, 62, 83,\n",
              "         2,  8, 71, 42, 89, 68, 56,  4, 55, 91, 49, 14, 21, 32, 76, 80,  7,\n",
              "        24, 82, 81, 90, 88, 26, 45, 58, 54, 22, 69, 41, 77, 52, 65, 98, 70,\n",
              "        97,  1, 30, 67, 95,  0, 50,  6, 64, 44, 19, 60, 34, 61, 57, 13, 39,\n",
              "        78,  9, 33, 28, 66, 73, 86, 27, 72, 93, 35, 53,  3, 31, 29]))"
            ]
          },
          "execution_count": 24,
          "metadata": {},
          "output_type": "execute_result"
        }
      ],
      "source": [
        "firstPermutation = np.random.permutation(100) # generate a random permutation of integers from 0 to 99\n",
        "print(firstPermutation.shape)\n",
        "secondPermutation = np.random.permutation(100) # generate another random permutation of integers from 0 to 99\n",
        "PMX_crossover(firstPermutation, secondPermutation,313) # apply the PMX"
      ]
    },
    {
      "cell_type": "code",
      "execution_count": 25,
      "metadata": {
        "colab": {
          "base_uri": "https://localhost:8080/"
        },
        "id": "nx1tdYWeWNlo",
        "outputId": "a50c6a16-3ef0-46b7-bafe-0f598dafa195"
      },
      "outputs": [
        {
          "name": "stdout",
          "output_type": "stream",
          "text": [
            "Offspring 1: [97 55 51 59 60  9 70 28 80 88 29 42 68  0 19 26 12  3 32 48 39 34 10 11\n",
            " 44 58 71  7 23 33 20 78 92 94 22 37 73 36 64 96  6 91 56 38 83 27 74 89\n",
            " 82 30 15 21 24 50 65 52 98 75 43  5 93 13 31  2 90 79 77  4 41 40 17 84\n",
            " 25 18 72 67 47 69 85 16 66 61  1 76 99 63 57 45 86 87 62 53 95 54 81 46\n",
            " 35  8 49 14]\n",
            "Offspring 2: [ 8 59 27 45 79  2 46 26 44 67 33 47 83 18 57  0 35 42 77 88 34 70 39 86\n",
            " 96 93 28 19 85 90 53 52  4 30 62 75 74 49 21  3  7 61 40 66 60 43 84 71\n",
            " 99  1 29 81 72 95 20 82 63 17 14 78 56  6 73 23 16 10 15 92 94 37 76 50\n",
            " 55 38 32  9 68 31 12 80  5 91 24 48 36 11 25 54 51 58 13 69 65 64 98 97\n",
            " 22 89 41 87]\n"
          ]
        }
      ],
      "source": [
        "# def cxPartialyMatched(ind1, ind2):\n",
        "#     size = min(len(ind1), len(ind2))\n",
        "#     p1, p2 = [0] * size, [0] * size\n",
        "\n",
        "#     for i in range(size):\n",
        "#         p1[ind1[i]] = i\n",
        "#         p2[ind2[i]] = i\n",
        "#     cxpoint1 = random.randint(0, size)\n",
        "#     cxpoint2 = random.randint(0, size - 1)\n",
        "#     if cxpoint2 >= cxpoint1:\n",
        "#         cxpoint2 += 1\n",
        "#     else:  # Swap the two cx points\n",
        "#         cxpoint1, cxpoint2 = cxpoint2, cxpoint1\n",
        "\n",
        "#     for i in range(cxpoint1, cxpoint2):\n",
        "#         temp1 = ind1[i]\n",
        "#         temp2 = ind2[i]\n",
        "#         ind1[i], ind1[p1[temp2]] = temp2, temp1\n",
        "#         ind2[i], ind2[p2[temp1]] = temp1, temp2\n",
        "#         p1[temp1], p1[temp2] = p1[temp2], p1[temp1]\n",
        "#         p2[temp1], p2[temp2] = p2[temp2], p2[temp1]\n",
        "\n",
        "#     return ind1, ind2\n",
        "import jax.numpy as jnp\n",
        "from jax import random, lax\n",
        "\n",
        "def cxPartialyMatched(ind1, ind2, key):\n",
        "\n",
        "    size = min(len(ind1), len(ind2))\n",
        "    p1, p2 = [0] * size, [0] * size\n",
        "\n",
        "    for i in range(size):\n",
        "        p1[ind1[i]] = i\n",
        "        p2[ind2[i]] = i\n",
        "\n",
        "    key1, key2 = random.split(key, 2)\n",
        "    cxpoint1 = random.randint(key1, 0, size)\n",
        "    cxpoint2 = random.randint(key2, 0, size - 1)\n",
        "    if cxpoint2 >= cxpoint1:\n",
        "        cxpoint2 += 1\n",
        "    else:  # Swap the two cx points\n",
        "        cxpoint1, cxpoint2 = cxpoint2, cxpoint1\n",
        "\n",
        "    for i in range(cxpoint1, cxpoint2):\n",
        "        temp1 = ind1[i]\n",
        "        temp2 = ind2[i]\n",
        "        ind1 = ind1.at[i].set(temp2).at[p1[temp2]].set(temp1)\n",
        "        ind2 = ind2.at[i].set(temp1).at[p2[temp1]].set(temp2)\n",
        "        p1 = jnp.array(p1).at[temp1].set(p1[temp2]).at[temp2].set(p1[temp1])\n",
        "        p2 = jnp.array(p2).at[temp1].set(p2[temp2]).at[temp2].set(p2[temp1])\n",
        "\n",
        "    return ind1, ind2\n",
        "\n",
        "\n",
        "offspring1, offspring2 = cxPartialyMatched(population[0], population[1])\n",
        "print(\"Offspring 1:\", offspring1)\n",
        "print(\"Offspring 2:\", offspring2)"
      ]
    },
    {
      "cell_type": "code",
      "execution_count": null,
      "metadata": {
        "id": "9d97-TFO4FYQ"
      },
      "outputs": [],
      "source": [
        "def erx_crossover(parent1, parent2):\n",
        "    \"\"\"Performs Edge Recombination Crossover (ERX) on two chromosomes.\n",
        "\n",
        "    Args:\n",
        "        parent1: The first parent chromosome.\n",
        "        parent2: The second parent chromosome.\n",
        "\n",
        "    Returns:\n",
        "        A new chromosome resulting from the crossover.\n",
        "    \"\"\"\n",
        "\n",
        "    offspring = []\n",
        "    visited = set()\n",
        "\n",
        "    # Start from a random gene in parent1\n",
        "    gene = random.choice(parent1)\n",
        "    offspring.append(gene)\n",
        "    visited.add(gene)\n",
        "\n",
        "    while len(offspring) < len(parent1):\n",
        "        # Find the next gene to add\n",
        "        next_gene = None\n",
        "\n",
        "        # Check if the next gene in parent2 is not in the visited set\n",
        "        next_gene_in_parent2 = parent2[(parent1.index(gene) + 1) % len(parent1)]\n",
        "        if next_gene_in_parent2 not in visited:\n",
        "            next_gene = next_gene_in_parent2\n",
        "\n",
        "        # Check if the next gene in parent1 is not in the visited set\n",
        "        if next_gene is None:\n",
        "            next_gene_in_parent1 = parent1[(parent2.index(gene) + 1) % len(parent2)]\n",
        "            if next_gene_in_parent1 not in visited:\n",
        "                next_gene = next_gene_in_parent1\n",
        "\n",
        "        # If no valid next gene found, break\n",
        "        if next_gene is None:\n",
        "            break\n",
        "\n",
        "        # Add the next gene to the offspring and mark it as visited\n",
        "        offspring.append(next_gene)\n",
        "        visited.add(next_gene)\n",
        "\n",
        "        # Update the current gene\n",
        "        gene = next_gene\n",
        "\n",
        "    return offspring"
      ]
    },
    {
      "cell_type": "code",
      "execution_count": null,
      "metadata": {
        "id": "j9YH4M5C4gBe"
      },
      "outputs": [],
      "source": [
        "def ox_crossover(parent1, parent2):\n",
        "    \"\"\"Performs Order Crossover (OX) on two chromosomes.\n",
        "\n",
        "    Args:\n",
        "        parent1: The first parent chromosome.\n",
        "        parent2: The second parent chromosome.\n",
        "\n",
        "    Returns:\n",
        "        A new chromosome resulting from the crossover.\n",
        "    \"\"\"\n",
        "\n",
        "    crossover_points = random.sample(range(1, len(parent1)), 2)\n",
        "    slice_start, slice_end = crossover_points[0], crossover_points[1]\n",
        "\n",
        "    slice1 = parent1[slice_start:slice_end]\n",
        "    remaining_genes1 = set(parent1) - set(slice1)\n",
        "\n",
        "    mapping = {}\n",
        "    for i in range(slice_start, slice_end):\n",
        "        gene1 = parent1[i]\n",
        "        gene2 = parent2[i]\n",
        "\n",
        "        if gene1 in remaining_genes1:\n",
        "            mapping[gene1] = gene2\n",
        "            remaining_genes1.remove(gene1)\n",
        "\n",
        "    offspring = []\n",
        "    for gene in parent2:\n",
        "        if gene in mapping:\n",
        "            offspring.append(mapping[gene])\n",
        "        elif gene not in slice1:\n",
        "            offspring.append(gene)\n",
        "\n",
        "    for gene in slice1:\n",
        "        offspring.append(gene)\n",
        "\n",
        "    return offspring"
      ]
    },
    {
      "cell_type": "code",
      "execution_count": null,
      "metadata": {
        "id": "tyOnoWxo5BkQ"
      },
      "outputs": [],
      "source": [
        "def cycle_crossover(parent1, parent2):\n",
        "    \"\"\"\n",
        "    Performs Cycle Crossover (CX) on two chromosomes.\n",
        "\n",
        "    Args:\n",
        "        parent1: The first parent chromosome.\n",
        "        parent2: The second parent chromosome.\n",
        "\n",
        "    Returns:\n",
        "        A new chromosome resulting from the crossover.\n",
        "    \"\"\"\n",
        "\n",
        "    cycle_start = random.randrange(len(parent1))\n",
        "    cycle_genes1 = set(parent1[cycle_start:])\n",
        "    cycle_genes2 = set(parent2[cycle_start:])\n",
        "\n",
        "    offspring = list(parent1[:cycle_start])\n",
        "    for gene in parent2:\n",
        "        if gene in cycle_genes1:\n",
        "            offspring.append(gene)\n",
        "            cycle_genes1.remove(gene)\n",
        "\n",
        "            if not cycle_genes1:\n",
        "                break\n",
        "        else:\n",
        "            cycle_genes2.add(gene)\n",
        "\n",
        "    for gene in cycle_genes2:\n",
        "        offspring.append(gene)\n",
        "\n",
        "    return offspring"
      ]
    },
    {
      "cell_type": "code",
      "execution_count": 26,
      "metadata": {
        "id": "oTKNWjXf5dUP"
      },
      "outputs": [],
      "source": [
        "def swap_mutation(chromosome):\n",
        "    \"\"\"Performs Swap mutation on a chromosome.\n",
        "\n",
        "    Args:\n",
        "        chromosome: The chromosome to mutate.\n",
        "\n",
        "    Returns:\n",
        "        A mutated chromosome.\n",
        "    \"\"\"\n",
        "\n",
        "    i, j = random.sample(range(len(chromosome)), 2)\n",
        "    chromosome[i], chromosome[j] = chromosome[j], chromosome[i]\n",
        "    return chromosome"
      ]
    },
    {
      "cell_type": "code",
      "execution_count": 27,
      "metadata": {
        "id": "byt6rXjr5x2P"
      },
      "outputs": [],
      "source": [
        "def scramble_mutation(chromosome):\n",
        "    \"\"\"Performs Scramble mutation on a chromosome.\n",
        "\n",
        "    Args:\n",
        "        chromosome: The chromosome to mutate.\n",
        "\n",
        "    Returns:\n",
        "        A mutated chromosome.\n",
        "    \"\"\"\n",
        "\n",
        "    mutation_length = random.randrange(2, len(chromosome))\n",
        "    start_index = random.randrange(len(chromosome) - mutation_length)\n",
        "\n",
        "    sub_chromosome = chromosome[start_index:start_index + mutation_length]\n",
        "    random.shuffle(sub_chromosome)\n",
        "    chromosome[start_index:start_index + mutation_length] = sub_chromosome\n",
        "\n",
        "    return chromosome"
      ]
    },
    {
      "cell_type": "code",
      "execution_count": 28,
      "metadata": {
        "id": "mE49sOoq52kv"
      },
      "outputs": [],
      "source": [
        "def insert_mutation(chromosome):\n",
        "    \"\"\"Performs Insert mutation on a chromosome.\n",
        "\n",
        "    Args:\n",
        "        chromosome: The chromosome to mutate.\n",
        "\n",
        "    Returns:\n",
        "        A mutated chromosome.\n",
        "    \"\"\"\n",
        "\n",
        "    i = random.randrange(len(chromosome))\n",
        "    j = random.randrange(len(chromosome))\n",
        "\n",
        "    if i != j:\n",
        "        gene = chromosome.pop(i)\n",
        "        chromosome.insert(j, gene)\n",
        "\n",
        "    return chromosome"
      ]
    },
    {
      "cell_type": "code",
      "execution_count": 29,
      "metadata": {
        "id": "C13zTU0X6MJn"
      },
      "outputs": [],
      "source": [
        "def inversion_mutation(chromosome):\n",
        "    \"\"\"Performs Inversion mutation on a chromosome.\n",
        "\n",
        "    Args:\n",
        "        chromosome: The chromosome to mutate.\n",
        "\n",
        "    Returns:\n",
        "        A mutated chromosome.\n",
        "    \"\"\"\n",
        "\n",
        "    mutation_length = random.randrange(2, len(chromosome))\n",
        "    start_index = random.randrange(len(chromosome) - mutation_length)\n",
        "\n",
        "    sub_chromosome = chromosome[start_index:start_index + mutation_length]\n",
        "    sub_chromosome.reverse()\n",
        "    chromosome[start_index:start_index + mutation_length] = sub_chromosome\n",
        "\n",
        "    return chromosome"
      ]
    },
    {
      "cell_type": "code",
      "execution_count": 30,
      "metadata": {
        "id": "cEM7j-QSWNlp"
      },
      "outputs": [],
      "source": [
        "# import numpy as np\n",
        "\n",
        "def inversion_mutation(permutation):\n",
        "  # randomly select two positions in the permutation\n",
        "  i, j = np.random.choice(len(permutation), size=2, replace=False)\n",
        "  # make sure i is smaller than j\n",
        "  if i > j:\n",
        "    i, j = j, i\n",
        "  # invert the segment between i and j\n",
        "  permutation[i:j+1] = permutation[i:j+1][::-1]\n",
        "  return permutation\n"
      ]
    },
    {
      "cell_type": "code",
      "execution_count": 31,
      "metadata": {
        "colab": {
          "base_uri": "https://localhost:8080/"
        },
        "id": "A9wKKBZjWNlp",
        "outputId": "b21d58c7-efa1-4344-e5c2-8b5e9f248293"
      },
      "outputs": [
        {
          "name": "stdout",
          "output_type": "stream",
          "text": [
            "[ 1  2  3  4  5  6  7  8  9 10]\n"
          ]
        }
      ],
      "source": [
        "# import numpy as np\n",
        "\n",
        "# def inversion_mutation(chromosome):\n",
        "\n",
        "#   # Select two random indices in the chromosome.\n",
        "#   index1 = np.random.randint(0, len(chromosome))\n",
        "#   index2 = np.random.randint(0, len(chromosome))\n",
        "\n",
        "#   while index1 == index2:\n",
        "#     index2 = np.random.randint(0, len(chromosome))\n",
        "\n",
        "#   chromosome[index1:index2 + 1] = chromosome[index1:index2 + 1][::-1]\n",
        "\n",
        "#   return chromosome\n",
        "import jax.numpy as jnp\n",
        "from jax import random, lax\n",
        "\n",
        "def inversion_mutation(chromosome, key):\n",
        "\n",
        "  # Select two random indices in the chromosome.\n",
        "  key1, key2 = random.split(key, 2)\n",
        "  index1 = random.randint(key1, (1,), 0, len(chromosome))\n",
        "  index2 = random.randint(key2, (1,), 0, len(chromosome))\n",
        "\n",
        "  while index1 == index2:\n",
        "    key2, _ = random.split(key2, 2)\n",
        "    index2 = random.randint(key2, (1,), 0, len(chromosome))\n",
        "\n",
        "  chromosome = chromosome.at[index1:index2 + 1].set(chromosome[index1:index2 + 1][::-1])\n",
        "\n",
        "  return chromosome\n",
        "\n",
        "# Fake data\n",
        "chromosome = np.array([1, 2, 3, 4, 5, 6, 7, 8, 9, 10])\n",
        "\n",
        "# Mutate the chromosome\n",
        "mutated_chromosome = inversion_mutation(chromosome)\n",
        "\n",
        "# Print the mutated chromosome\n",
        "print(mutated_chromosome)\n"
      ]
    },
    {
      "cell_type": "code",
      "execution_count": null,
      "metadata": {
        "id": "yZk7BR-MWNlq"
      },
      "outputs": [],
      "source": [
        "# import unittest\n",
        "# import numpy as np\n",
        "\n",
        "# def inversion_mutation(permutation):\n",
        "#     print('permutation is : ')\n",
        "#     print(permutation)\n",
        "#     # randomly select two positions in the permutation\n",
        "#     i, j = np.random.choice(len(permutation), size=2, replace=False)\n",
        "#     # make sure i is smaller than j\n",
        "#     if i > j:\n",
        "#         i, j = j, i\n",
        "#     # invert the segment between i and j\n",
        "#     permutation[i:j+1] = permutation[i:j+1][::-1]\n",
        "#     return permutation\n",
        "\n",
        "# class TestInversionMutation(unittest.TestCase):\n",
        "#     def test_inversion_mutation(self):\n",
        "#         # Test case 1: permutation with length 5\n",
        "#         permutation = [1, 2, 3, 4, 5]\n",
        "#         mutated_permutation = inversion_mutation(permutation)\n",
        "#         self.assertEqual(len(mutated_permutation), len(permutation))\n",
        "#         self.assertNotEqual(mutated_permutation, permutation)\n",
        "\n",
        "#         # Test case 2: permutation with length 10\n",
        "#         permutation = [10, 9, 8, 7, 6, 5, 4, 3, 2, 1]\n",
        "#         mutated_permutation = inversion_mutation(permutation)\n",
        "#         self.assertEqual(len(mutated_permutation), len(permutation))\n",
        "#         self.assertNotEqual(mutated_permutation, permutation)\n",
        "\n",
        "# if __name__ == '__main__':\n",
        "#     unittest.main()\n"
      ]
    },
    {
      "cell_type": "code",
      "execution_count": 32,
      "metadata": {
        "colab": {
          "base_uri": "https://localhost:8080/"
        },
        "id": "k0r9c3RUWNlq",
        "outputId": "5660a814-97cb-4116-dfc4-fff16e197e7d"
      },
      "outputs": [
        {
          "data": {
            "text/plain": [
              "(array([ 8, 59, 14, 45, 79,  2, 46, 26, 44, 67, 33, 47, 60, 18, 57,  0, 35,\n",
              "        42, 77, 88, 34, 70, 39, 86,  3, 40, 28, 19, 85, 90, 53, 78, 92, 94,\n",
              "        22, 37, 73, 36, 64, 96,  6, 91, 56, 38, 83, 27, 74, 89, 82, 30, 15,\n",
              "        21, 24, 50, 65, 52, 98, 75, 43,  5, 93, 13, 31, 23, 16, 10, 29,  4,\n",
              "         1, 17, 76, 95, 55, 66, 32,  9, 68, 84, 12, 80, 99, 61, 72, 48, 49,\n",
              "        11, 25, 54, 51, 58,  7, 69, 20, 81, 63, 97, 62, 71, 41, 87]),\n",
              " array([97, 55, 51, 59, 83,  9, 70, 28, 80, 88, 15, 42, 68,  0, 19, 26, 12,\n",
              "        96, 32, 48, 39, 34, 10, 11, 44, 58, 89, 13, 23, 33, 65, 52,  4, 30,\n",
              "        62, 75, 74, 49, 21,  3,  7, 61, 40, 66, 60, 43, 84, 71, 99,  1, 29,\n",
              "        81, 72, 95, 20, 82, 63, 17, 14, 78, 56,  6, 73,  2, 90, 79, 77, 92,\n",
              "        41, 93, 37, 31, 25, 18, 24, 67, 47, 69, 85, 16, 38, 91, 94, 76,  5,\n",
              "        98, 57, 45, 86, 87, 22, 53, 50, 54, 64, 46, 35,  8, 36, 27]))"
            ]
          },
          "execution_count": 32,
          "metadata": {},
          "output_type": "execute_result"
        }
      ],
      "source": [
        "PMX_crossover(population[0], population[1],313)"
      ]
    },
    {
      "cell_type": "code",
      "execution_count": 3,
      "metadata": {
        "id": "v5HJwzkhWCt-"
      },
      "outputs": [
        {
          "ename": "NameError",
          "evalue": "name 'city_data' is not defined",
          "output_type": "error",
          "traceback": [
            "\u001b[1;31m---------------------------------------------------------------------------\u001b[0m",
            "\u001b[1;31mNameError\u001b[0m                                 Traceback (most recent call last)",
            "\u001b[1;32mc:\\Users\\blues\\Documents\\Dev\\Projects\\jupyter\\evo\\hw1\\rayanesh_hw1__.ipynb Cell 36\u001b[0m line \u001b[0;36m3\n\u001b[0;32m      <a href='vscode-notebook-cell:/c%3A/Users/blues/Documents/Dev/Projects/jupyter/evo/hw1/rayanesh_hw1__.ipynb#X50sZmlsZQ%3D%3D?line=0'>1</a>\u001b[0m \u001b[39m# def roulette_wheel_selection(population, fitness_values):\u001b[39;00m\n\u001b[0;32m      <a href='vscode-notebook-cell:/c%3A/Users/blues/Documents/Dev/Projects/jupyter/evo/hw1/rayanesh_hw1__.ipynb#X50sZmlsZQ%3D%3D?line=1'>2</a>\u001b[0m \u001b[39m#     total_fitness = np.sum(fitness_values)\u001b[39;00m\n\u001b[0;32m      <a href='vscode-notebook-cell:/c%3A/Users/blues/Documents/Dev/Projects/jupyter/evo/hw1/rayanesh_hw1__.ipynb#X50sZmlsZQ%3D%3D?line=2'>3</a>\u001b[0m \u001b[39m#     fitness_probabilities = fitness_values / total_fitness\u001b[39;00m\n\u001b[1;32m   (...)\u001b[0m\n\u001b[0;32m     <a href='vscode-notebook-cell:/c%3A/Users/blues/Documents/Dev/Projects/jupyter/evo/hw1/rayanesh_hw1__.ipynb#X50sZmlsZQ%3D%3D?line=30'>31</a>\u001b[0m \u001b[39m#     best_individual = min(tournament, key=lambda x: calculate_distance(cities, x))\u001b[39;00m\n\u001b[0;32m     <a href='vscode-notebook-cell:/c%3A/Users/blues/Documents/Dev/Projects/jupyter/evo/hw1/rayanesh_hw1__.ipynb#X50sZmlsZQ%3D%3D?line=31'>32</a>\u001b[0m \u001b[39m#     return best_individual\u001b[39;00m\n\u001b[1;32m---> <a href='vscode-notebook-cell:/c%3A/Users/blues/Documents/Dev/Projects/jupyter/evo/hw1/rayanesh_hw1__.ipynb#X50sZmlsZQ%3D%3D?line=33'>34</a>\u001b[0m \u001b[39mdef\u001b[39;00m \u001b[39mgenetic_algorithm\u001b[39m(population_size\u001b[39m=\u001b[39m\u001b[39m500\u001b[39m, crossover_rate\u001b[39m=\u001b[39m\u001b[39m0.7\u001b[39m, mutation_rate\u001b[39m=\u001b[39m\u001b[39m0.1\u001b[39m, max_generations\u001b[39m=\u001b[39m\u001b[39m700\u001b[39m,cities \u001b[39m=\u001b[39m city_data):\n\u001b[0;32m     <a href='vscode-notebook-cell:/c%3A/Users/blues/Documents/Dev/Projects/jupyter/evo/hw1/rayanesh_hw1__.ipynb#X50sZmlsZQ%3D%3D?line=34'>35</a>\u001b[0m     chromosomes \u001b[39m=\u001b[39m generate_random_chromosomes(\u001b[39m500\u001b[39m)\n\u001b[0;32m     <a href='vscode-notebook-cell:/c%3A/Users/blues/Documents/Dev/Projects/jupyter/evo/hw1/rayanesh_hw1__.ipynb#X50sZmlsZQ%3D%3D?line=35'>36</a>\u001b[0m     \u001b[39mprint\u001b[39m(\u001b[39mlen\u001b[39m(chromosomes))\n",
            "\u001b[1;31mNameError\u001b[0m: name 'city_data' is not defined"
          ]
        }
      ],
      "source": [
        "# def roulette_wheel_selection(population, fitness_values):\n",
        "#     total_fitness = np.sum(fitness_values)\n",
        "#     fitness_probabilities = fitness_values / total_fitness\n",
        "#     cumulative_probabilities = np.cumsum(fitness_probabilities)\n",
        "\n",
        "#     random_index = random.random()\n",
        "#     for i, probability in enumerate(cumulative_probabilities):\n",
        "#         # print(f'i is {i}')\n",
        "#         if random_index < probability:\n",
        "#             return population[i]\n",
        "# def roulette_wheel_selection(population, fitness_values):\n",
        "#     total_fitness = np.sum(fitness_values)\n",
        "#     fitness_probabilities = fitness_values / total_fitness\n",
        "#     cumulative_probabilities = np.cumsum(fitness_probabilities)\n",
        "\n",
        "#     random_value = random.random()\n",
        "#     for i, probability in enumerate(cumulative_probabilities):\n",
        "#         if random_value < probability:\n",
        "#             selected_chromosome = population[i]\n",
        "#             break\n",
        "\n",
        "#     # Shuffle the selected chromosome to ensure no bias in selecting the next parent\n",
        "#     # np.random.shuffle(selected_chromosome)\n",
        "\n",
        "#     return selected_chromosome\n",
        "\n",
        "# def tournament_selection(population , cities = city_data, tournament_size = 5):\n",
        "#     # Create a tournament\n",
        "#     tournament = random.sample(population, tournament_size)\n",
        "#     # Select the best individual among the tournament\n",
        "#     best_individual = min(tournament, key=lambda x: calculate_distance(cities, x))\n",
        "#     return best_individual\n",
        "\n",
        "def genetic_algorithm(population_size=500, crossover_rate=0.7, mutation_rate=0.1, max_generations=700,cities = city_data):\n",
        "    chromosomes = generate_random_chromosomes(500)\n",
        "    print(len(chromosomes))\n",
        "    fitness_values = []\n",
        "    for chromosome in chromosomes :\n",
        "        fitness_value = calculate_fitness_np(chromosome, cities)\n",
        "        fitness_values.append(fitness_value)\n",
        "\n",
        "    generation_without_improvement = 0\n",
        "\n",
        "    for generation in range(max_generations):\n",
        "        # Select parents using roulette wheel selection\n",
        "        parents = []\n",
        "        for i in range(population_size):\n",
        "            parent1 , parent2 = permutation_parent_selection(chromosomes, fitness_values)\n",
        "            parents.append((parent1, parent2))\n",
        "\n",
        "        offsprings = []\n",
        "        for parent1, parent2 in parents:\n",
        "            # print(parent1)\n",
        "            # break\n",
        "            if random.random() < crossover_rate:\n",
        "                offspring1 ,offspring2 = PMX_crossover(parent1, parent2,153)\n",
        "            else:\n",
        "                offspring1 = parent1\n",
        "                offspring2 = parent2\n",
        "\n",
        "            offsprings.append(offspring1)\n",
        "            offsprings.append(offspring2)\n",
        "\n",
        "        # Apply mutation\n",
        "        for offspring in offsprings:\n",
        "            if random.random() < mutation_rate:\n",
        "                # print('offspring is' )\n",
        "                # print(type(offspring) )\n",
        "                offspring = inversion_mutation(offspring)\n",
        "\n",
        "        # Evaluate offspring fitness\n",
        "        offspring_fitness_values = []\n",
        "        for offspring in offsprings :\n",
        "            # calculate_fitness(offspring, cities)\n",
        "            offspring_fitness_value = calculate_fitness_np(offspring)\n",
        "            if offspring_fitness_value < 21285 :\n",
        "                print(offspring_fitness_value)\n",
        "            offspring_fitness_values.append(offspring_fitness_value)\n",
        "\n",
        "        # Combine parents and offspring to form a new population\n",
        "        new_population = np.empty_like(chromosomes)\n",
        "        new_fitness_values = np.empty_like(fitness_values)\n",
        "\n",
        "        for i in range(population_size):\n",
        "            if offspring_fitness_values[i] < fitness_values[i]:\n",
        "                new_population[i] = offsprings[i]\n",
        "                new_fitness_values[i] = offspring_fitness_values[i]\n",
        "            else:\n",
        "                new_population[i] = chromosomes[i]\n",
        "                new_fitness_values[i] = fitness_values[i]\n",
        "\n",
        "        chromosomes = new_population\n",
        "        fitness_values = new_fitness_values\n",
        "\n",
        "        # if np.array_equal(fitness_values, offspring_fitness_values):\n",
        "        if jnp.array_equal(fitness_values, offspring_fitness_values):\n",
        "        # if fitness_values < offspring_fitness_values : \n",
        "            generation_without_improvement += 1\n",
        "\n",
        "            if generation_without_improvement >= 20:\n",
        "                break\n",
        "        else:\n",
        "            generation_without_improvement = 0\n",
        "\n",
        "    best_chromosome = chromosomes[fitness_values.argmax()]\n",
        "    best_fitness = np.min(fitness_values)\n",
        "\n",
        "    return best_chromosome, best_fitness\n"
      ]
    },
    {
      "cell_type": "code",
      "execution_count": null,
      "metadata": {
        "colab": {
          "base_uri": "https://localhost:8080/"
        },
        "id": "1kIHfVjcWIif",
        "outputId": "eedf51cd-5eec-4170-a7b1-919dc2c7eac2"
      },
      "outputs": [
        {
          "name": "stdout",
          "output_type": "stream",
          "text": [
            "500\n"
          ]
        }
      ],
      "source": [
        "result = genetic_algorithm()"
      ]
    },
    {
      "cell_type": "code",
      "execution_count": null,
      "metadata": {
        "colab": {
          "base_uri": "https://localhost:8080/"
        },
        "id": "tpCx197RaR2B",
        "outputId": "4e77c4d0-7ca7-4eb8-dec5-2be06177b4cb"
      },
      "outputs": [
        {
          "name": "stdout",
          "output_type": "stream",
          "text": [
            "(array([79, 22, 94, 16, 88, 70, 26, 66, 65,  4, 97, 56, 75, 19, 90, 84, 10,\n",
            "       72, 18, 24, 38, 99, 36, 74, 15, 11, 17, 32, 45, 47, 58, 28, 61,  7,\n",
            "        9, 57, 55, 83, 12, 20, 62, 86, 35, 27, 34, 43, 29,  3, 46, 14, 71,\n",
            "       41,  0, 48, 52, 30, 85, 39, 96, 78, 33, 76, 13,  5, 37, 82, 95, 54,\n",
            "       40, 87, 51, 81, 25, 68, 73, 50, 44,  2, 64, 69, 67, 93, 23, 98, 77,\n",
            "       60, 91, 59, 21,  6, 92,  8, 80, 31, 89, 42,  1, 63, 49, 53]), 32247)\n"
          ]
        }
      ],
      "source": [
        "print(result)"
      ]
    }
  ],
  "metadata": {
    "accelerator": "GPU",
    "colab": {
      "gpuType": "T4",
      "provenance": []
    },
    "kernelspec": {
      "display_name": "Python 3",
      "name": "python3"
    },
    "language_info": {
      "codemirror_mode": {
        "name": "ipython",
        "version": 3
      },
      "file_extension": ".py",
      "mimetype": "text/x-python",
      "name": "python",
      "nbconvert_exporter": "python",
      "pygments_lexer": "ipython3",
      "version": "3.11.5"
    }
  },
  "nbformat": 4,
  "nbformat_minor": 0
}
