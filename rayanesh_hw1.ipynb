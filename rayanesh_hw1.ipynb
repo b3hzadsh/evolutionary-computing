{
  "cells": [
    {
      "cell_type": "code",
      "execution_count": 2,
      "metadata": {
        "id": "cQck8m_SDiU5"
      },
      "outputs": [],
      "source": [
        "import numpy as np\n",
        "import random\n",
        "import math\n",
        "import random"
      ]
    },
    {
      "cell_type": "code",
      "execution_count": 3,
      "metadata": {
        "id": "O3inF_dJshzf"
      },
      "outputs": [],
      "source": [
        "def distance(p1, p2):\n",
        "  \"\"\"\n",
        "  محاسبه فاصله اقلیدسی دو نقطه\n",
        "\n",
        "  Args:\n",
        "    p1: نقطه اول\n",
        "    p2: نقطه دوم\n",
        "\n",
        "  Returns:\n",
        "    فاصله اقلیدسی بین دو نقطه\n",
        "  \"\"\"\n",
        "\n",
        "  x1, y1 = p1\n",
        "  x2, y2 = p2\n",
        "\n",
        "  dx = x1 - x2\n",
        "  dy = y1 - y2\n",
        "\n",
        "  return math.sqrt(dx**2 + dy**2)"
      ]
    },
    {
      "cell_type": "code",
      "execution_count": 4,
      "metadata": {
        "id": "NyayKB7TqHjE"
      },
      "outputs": [],
      "source": [
        "def calculate_distance(cities, solution):\n",
        "    total_distance = 0\n",
        "    for i in range(len(solution) - 1):\n",
        "        city1 = cities[solution[i]]\n",
        "        city2 = cities[solution[i + 1]]\n",
        "        distance = ((city1[1] - city2[1])**2 + (city1[2] - city2[2])**2)**0.5\n",
        "        total_distance += distance\n",
        "    return total_distance\n"
      ]
    },
    {
      "cell_type": "code",
      "execution_count": 46,
      "metadata": {
        "id": "5nrhxh9FvbCj"
      },
      "outputs": [],
      "source": [
        "def randomGeneration():\n",
        "  return np.random.permutation(100)"
      ]
    },
    {
      "cell_type": "code",
      "execution_count": 6,
      "metadata": {
        "id": "FjgKqdbJqoog"
      },
      "outputs": [],
      "source": [
        "def read_city_data(filename):\n",
        "    city_data = []\n",
        "    with open(filename, 'r') as f:\n",
        "        for line in f:\n",
        "            city, lat, lon = line.strip().split(' ')\n",
        "            city_data.append((city, int(lat), int(lon)))\n",
        "            # id , lat (x), long(y) in tupple\n",
        "    return city_data"
      ]
    },
    {
      "cell_type": "code",
      "execution_count": 7,
      "metadata": {
        "id": "vfQYM639q3e_"
      },
      "outputs": [
        {
          "name": "stdout",
          "output_type": "stream",
          "text": [
            "100\n"
          ]
        }
      ],
      "source": [
        "city_data = read_city_data('city-cor.txt')\n",
        "print(len(city_data))\n",
        "# for city, lat, lon in city_data:\n",
        "#     print(f\"City: {city}, Latitude: {lat}, Longitude: {lon}\")"
      ]
    },
    {
      "cell_type": "code",
      "execution_count": 47,
      "metadata": {
        "colab": {
          "base_uri": "https://localhost:8080/"
        },
        "id": "lc4akb2-NTqH",
        "outputId": "b54707fa-8339-4350-8909-c68520896571"
      },
      "outputs": [
        {
          "name": "stdout",
          "output_type": "stream",
          "text": [
            "('1', 1380, 939)\n"
          ]
        }
      ],
      "source": [
        "print(city_data[0])"
      ]
    },
    {
      "cell_type": "code",
      "execution_count": 48,
      "metadata": {
        "id": "GtWXCDuKr7hu"
      },
      "outputs": [],
      "source": [
        "def generate_random_chromosomes(population_size, num_cities=100):\n",
        "    chromosomes = []\n",
        "    for _ in range(population_size):\n",
        "        chromosome = randomGeneration()\n",
        "        # random.shuffle(chromosome)\n",
        "        chromosomes.append(chromosome)\n",
        "    return chromosomes"
      ]
    },
    {
      "cell_type": "code",
      "execution_count": 49,
      "metadata": {
        "id": "GKY8jpk1sozi"
      },
      "outputs": [
        {
          "name": "stdout",
          "output_type": "stream",
          "text": [
            "[52 81 16 46 42 35 77 86 22 73 65 61 83  2 58 70 34 24 89 36 13 49 78 59\n",
            " 47 75 93  3 74 71 50 12 80 15 41 82 88 26 19 18 72 84 55 90 56 23 27 30\n",
            "  9 28 40 92 68  7 45 62 38  8 29  0 53 10 39 94 99  5 51 97 57 96 95 44\n",
            " 20 69 32 11 79  4  1 25 85 67 21 87 31 91 98 37 66 48 76 43 60 14 17 33\n",
            " 64 63 54  6]\n"
          ]
        }
      ],
      "source": [
        "population = generate_random_chromosomes(500,100)\n",
        "print(population[0])"
      ]
    },
    {
      "cell_type": "code",
      "execution_count": 50,
      "metadata": {
        "id": "D-OTX-gxxuWD"
      },
      "outputs": [],
      "source": [
        "def calculate_fitness(chromosome, cities=city_data):\n",
        "    total_distance = 0\n",
        "    if len(chromosome) != 100 :\n",
        "      raise ValueError\n",
        "    for i in range(100):\n",
        "        city1_index = chromosome[i-1]\n",
        "        city2_index = chromosome[i]\n",
        "        \n",
        "        city1 = cities[city1_index-1]\n",
        "        city2 = cities[city2_index-1]\n",
        "\n",
        "        latitude_diff = city1[1] - city2[1]\n",
        "        longitude_diff = city1[2] - city2[2]\n",
        "\n",
        "        distance = math.sqrt(latitude_diff**2 + longitude_diff**2)\n",
        "        total_distance += distance\n",
        "    return int(total_distance // 1)"
      ]
    },
    {
      "cell_type": "code",
      "execution_count": 51,
      "metadata": {},
      "outputs": [
        {
          "data": {
            "text/plain": [
              "173972"
            ]
          },
          "execution_count": 51,
          "metadata": {},
          "output_type": "execute_result"
        }
      ],
      "source": [
        "calculate_fitness(population[0])"
      ]
    },
    {
      "cell_type": "code",
      "execution_count": 52,
      "metadata": {},
      "outputs": [],
      "source": [
        "def calculate_fitness_np(chromosome, cities=city_data):\n",
        "    if len(chromosome) != 100 :\n",
        "        print('wrong chromosome length')\n",
        "        raise ValueError\n",
        "\n",
        "    total_distance = 0\n",
        "    for i in range(100):\n",
        "        city1_index = chromosome[i-1]\n",
        "        city2_index = chromosome[i]\n",
        "        \n",
        "        city1 = np.array(cities[city1_index-1][1:])\n",
        "        city2 = np.array(cities[city2_index-1][1:])\n",
        "        \n",
        "        distance = np.linalg.norm(city1 - city2)\n",
        "        total_distance += distance\n",
        "\n",
        "    return int(total_distance // 1)"
      ]
    },
    {
      "cell_type": "code",
      "execution_count": 53,
      "metadata": {},
      "outputs": [
        {
          "data": {
            "text/plain": [
              "173972"
            ]
          },
          "execution_count": 53,
          "metadata": {},
          "output_type": "execute_result"
        }
      ],
      "source": [
        "calculate_fitness_np(population[0])"
      ]
    },
    {
      "cell_type": "code",
      "execution_count": 55,
      "metadata": {
        "colab": {
          "base_uri": "https://localhost:8080/"
        },
        "id": "RwX8ATuNOQIY",
        "outputId": "caa3972b-62de-4015-97d8-c55fcd7aec8e"
      },
      "outputs": [
        {
          "name": "stdout",
          "output_type": "stream",
          "text": [
            "180790\n"
          ]
        }
      ],
      "source": [
        "for chro in population :\n",
        "  # print((chro[99]))\n",
        "  fitforchro = calculate_fitness(chro)\n",
        "print(fitforchro)"
      ]
    },
    {
      "cell_type": "code",
      "execution_count": 16,
      "metadata": {},
      "outputs": [],
      "source": [
        "# fitness_values = []\n",
        "# for chromosome in population :\n",
        "#     fitness_value = calculate_fitness(chromosome, cities = city_data)\n",
        "#     fitness_values.append(fitness_value)\n",
        "# fitness_values"
      ]
    },
    {
      "cell_type": "code",
      "execution_count": 57,
      "metadata": {},
      "outputs": [
        {
          "name": "stdout",
          "output_type": "stream",
          "text": [
            "[173972 174279 174317 162487 186247 174749 176827 165874 174307 176135\n",
            " 178428 172275 165842 174263 175020 173609 170609 173392 172044 169869\n",
            " 159394 170466 179766 176614 162260 168526 180162 174708 177367 181195\n",
            " 167478 163123 179238 180461 159707 162715 180330 170140 165868 177303\n",
            " 166091 155677 162782 173689 182379 179970 179670 173522 177026 176315\n",
            " 165809 182241 169653 172977 174170 156679 170035 165559 162311 171345\n",
            " 181656 168006 165572 157805 174367 172104 156512 165266 170838 162256\n",
            " 185686 175626 164072 172917 175305 169036 162825 173155 162548 165939\n",
            " 173784 175463 178082 151681 157944 168163 158819 183140 155419 171547\n",
            " 150285 158873 165315 184209 176368 161637 174029 162905 167430 165720\n",
            " 170156 162969 173470 167282 175166 174189 185009 167928 170108 168069\n",
            " 177922 168675 185970 153267 177286 176305 176909 177655 175569 158652\n",
            " 161223 166600 163969 169928 173859 171961 170256 181224 171832 163212\n",
            " 160117 165086 177638 168110 165201 161584 182996 166616 176992 161094\n",
            " 173207 180287 175314 174696 154854 154644 168047 155453 160036 170985\n",
            " 170196 169878 160953 170862 170450 174104 179655 171065 160567 162634\n",
            " 170666 163151 161100 168262 167202 184943 171862 174346 179887 170310\n",
            " 170167 176710 165141 176769 157955 175154 168781 171030 171474 170884\n",
            " 180102 164686 175698 174092 175433 180879 164959 172114 160377 174925\n",
            " 162090 167405 171660 173935 187831 172056 166673 164359 165677 166822\n",
            " 173996 173896 173073 163882 176260 165565 176513 182397 168772 165699\n",
            " 181292 171638 162396 178586 163130 180659 172658 183951 158101 163630\n",
            " 177727 170015 183164 170779 178984 174385 169962 184212 165105 197023\n",
            " 166454 177325 173761 172909 181976 156928 171516 186017 177819 167281\n",
            " 172704 162971 176076 186074 179184 168607 167122 159142 179992 172914\n",
            " 163688 173814 169822 155642 164773 175698 172320 162160 153916 178951\n",
            " 174302 182559 171968 164167 170585 169232 169411 173816 161441 165910\n",
            " 174460 182620 167441 167362 174094 170980 166300 166058 170756 177546\n",
            " 171547 173747 174231 170748 184896 152716 178550 174886 169158 175683\n",
            " 160871 170048 168226 173398 152266 179938 165796 167719 166787 154759\n",
            " 175390 178009 162486 176876 167676 178328 161472 176935 173993 182351\n",
            " 168503 174446 160913 172773 181979 173807 171962 160674 171438 171658\n",
            " 168433 182700 157459 166369 166928 173447 161504 168094 169355 162086\n",
            " 171575 157381 170955 162880 164296 166705 170520 172050 182880 160437\n",
            " 171430 179242 171022 189881 175055 157012 184565 179936 156943 176354\n",
            " 169786 162991 180630 178677 158232 170115 183972 163636 166733 183239\n",
            " 166348 142017 169268 166043 178391 179642 184671 177983 174587 183516\n",
            " 177494 168856 165931 157391 165105 173984 167592 171925 164952 163904\n",
            " 173426 166298 178267 160241 156909 164537 183716 176708 170108 165877\n",
            " 163636 172603 174580 181649 165954 178345 168725 183073 167422 171003\n",
            " 175794 177969 181894 170116 178187 167791 175334 158369 177255 169183\n",
            " 159731 168263 164549 190319 169476 172997 166855 165888 164114 178729\n",
            " 178759 170091 169167 160707 169535 167223 177101 167635 170644 187120\n",
            " 167969 165290 184081 171121 166913 182903 188233 174735 159809 172749\n",
            " 171631 167559 176948 158854 160445 181419 180423 157375 158482 173707\n",
            " 174501 172849 184251 149927 186839 175388 164405 169350 172093 182348\n",
            " 161013 175297 163372 160160 153978 166495 158618 170009 170767 169174\n",
            " 171946 169423 165850 174029 179682 167458 169775 153769 172916 155636\n",
            " 177858 172079 172020 177050 170709 190578 178954 161334 175106 176589\n",
            " 162766 176201 152816 161517 166295 162268 163674 170807 169390 180790]\n"
          ]
        }
      ],
      "source": [
        "fitness_values = np.array([calculate_fitness(chromosome, cities=city_data) for chromosome in population])\n",
        "print(fitness_values)"
      ]
    },
    {
      "cell_type": "code",
      "execution_count": 18,
      "metadata": {},
      "outputs": [],
      "source": [
        "def permutation_parent_selection(population, fitness_values, selection_method=\"roulette_wheel\"):\n",
        "  \"\"\"Selects parents for a genetic algorithm using permutation representation.\n",
        "\n",
        "  Args:\n",
        "    population: A list of chromosomes in permutation representation.\n",
        "    fitness_values: A list of fitness values for each chromosome in the population.\n",
        "    selection_method: The parent selection method to use. Supported methods are\n",
        "      \"roulette_wheel\" and \"tournament\".\n",
        "\n",
        "  Returns:\n",
        "    A tuple of two chromosomes selected as parents.\n",
        "  \"\"\"\n",
        "\n",
        "  if selection_method == \"roulette_wheel\":\n",
        "    return roulette_wheel_permutation_parent_selection(population, fitness_values)\n",
        "  elif selection_method == \"tournament\":\n",
        "    return tournament_permutation_parent_selection(population, fitness_values)\n",
        "  else:\n",
        "    raise ValueError(\"Unsupported parent selection method: {}\".format(selection_method))\n",
        "\n",
        "\n",
        "def roulette_wheel_permutation_parent_selection(population, fitness_values):\n",
        "  \"\"\"Selects parents using roulette wheel selection for permutation representation.\n",
        "\n",
        "  Args:\n",
        "    population: A list of chromosomes in permutation representation.\n",
        "    fitness_values: A list of fitness values for each chromosome in the population.\n",
        "\n",
        "  Returns:\n",
        "    A tuple of two chromosomes selected as parents.\n",
        "  \"\"\"\n",
        "\n",
        "  total_fitness = np.sum(fitness_values)\n",
        "  fitness_probabilities = fitness_values / total_fitness\n",
        "  cumulative_probabilities = np.cumsum(fitness_probabilities)\n",
        "\n",
        "  random_value = random.random()\n",
        "  parent1_index = 0\n",
        "  for i, probability in enumerate(cumulative_probabilities):\n",
        "    if random_value < probability:\n",
        "      parent1 = population[i]\n",
        "      break\n",
        "\n",
        "  random_value = random.random()\n",
        "  parent2_index = 0\n",
        "  for i, probability in enumerate(cumulative_probabilities):\n",
        "    if random_value < probability:\n",
        "      parent2 = population[i]\n",
        "      break\n",
        "\n",
        "  return parent1, parent2\n",
        "\n",
        "\n",
        "def tournament_permutation_parent_selection(population, fitness_values, tournament_size=2):\n",
        "  \"\"\"Selects parents using tournament selection for permutation representation.\n",
        "\n",
        "  Args:\n",
        "    population: A list of chromosomes in permutation representation.\n",
        "    fitness_values: A list of fitness values for each chromosome in the population.\n",
        "    tournament_size: The size of the tournament.\n",
        "\n",
        "  Returns:\n",
        "    A tuple of two chromosomes selected as parents.\n",
        "  \"\"\"\n",
        "\n",
        "  parent1 = None\n",
        "  parent2 = None\n",
        "\n",
        "  for _ in range(tournament_size):\n",
        "    random_index = random.randint(0, len(population) - 1)\n",
        "\n",
        "    if parent1 is None or fitness_values[random_index] > fitness_values[parent1]:\n",
        "      parent1 = population[random_index]\n",
        "\n",
        "    if parent2 is None or fitness_values[random_index] > fitness_values[parent2]:\n",
        "      parent2 = population[random_index]\n",
        "\n",
        "  return parent1, parent2\n"
      ]
    },
    {
      "cell_type": "code",
      "execution_count": 58,
      "metadata": {},
      "outputs": [
        {
          "data": {
            "text/plain": [
              "(array([46, 36, 97, 21, 64, 23, 50, 12,  4, 93, 42, 91, 56, 60, 52, 57, 73,\n",
              "        17, 47, 31, 35, 32, 72,  8, 80, 67,  5,  0, 75, 15, 86, 95, 55, 96,\n",
              "        82, 34, 70, 27,  3, 43, 18, 38, 88, 77,  7, 49, 19, 59, 11, 84, 71,\n",
              "        62, 90, 92, 39, 44, 99, 53, 87, 20,  1, 14, 66, 65, 16, 30, 37, 63,\n",
              "        29, 28, 85, 61, 24, 81, 74, 89, 83, 10,  9, 58, 78, 26, 41, 68, 94,\n",
              "        79, 48, 54, 25, 98, 45, 69, 76, 33, 22, 13,  2, 51,  6, 40]),\n",
              " array([62, 76, 43, 46, 75, 98, 31, 95,  8, 81, 88, 80,  4, 87, 28,  3,  6,\n",
              "        21, 69, 47, 55,  9, 13, 67, 15, 89, 97, 65, 24, 94, 84, 37, 41, 10,\n",
              "        29, 92, 48, 40, 51, 72, 32, 19, 33, 91, 58,  5, 14, 61, 20, 78,  7,\n",
              "        26, 57, 18, 27, 73, 60, 86, 44, 83, 71, 53, 82, 38, 36, 39, 11, 54,\n",
              "        90, 59, 16, 77, 22, 68, 64, 79,  0, 45, 74, 25, 96,  1, 50, 17, 70,\n",
              "        99, 23, 34, 12, 63, 56, 49, 35, 30, 42, 66, 85, 93,  2, 52]))"
            ]
          },
          "execution_count": 58,
          "metadata": {},
          "output_type": "execute_result"
        }
      ],
      "source": [
        "roulette_wheel_permutation_parent_selection(population=population, fitness_values=fitness_values)"
      ]
    },
    {
      "cell_type": "code",
      "execution_count": 24,
      "metadata": {},
      "outputs": [],
      "source": [
        "# import numpy as np\n",
        "\n",
        "# def PMX_crossover(firstPermutation, secondPermutation):\n",
        "#     length = len(firstPermutation)\n",
        "    \n",
        "#     first_Cross = np.random.randint(0, length // 2)\n",
        "#     second_Cross = np.random.randint(length // 2 + 1, length) + 1\n",
        "\n",
        "#     if first_Cross >= second_Cross:\n",
        "#         # swap the crossover points if necessary\n",
        "#         first_Cross, second_Cross = second_Cross, first_Cross\n",
        "    \n",
        "#     segment1 = firstPermutation[first_Cross:second_Cross]\n",
        "#     segment2 = secondPermutation[first_Cross:second_Cross]\n",
        "#     mapping = np.zeros(length, dtype=int)\n",
        "    \n",
        "#     for i in range(len(segment1)):\n",
        "#         mapping[segment1[i]] = segment2[i]\n",
        "#         mapping[segment2[i]] = segment1[i]\n",
        "#     if np.unique(mapping).size != length:\n",
        "#         # raise an error if the mapping array is invalid\n",
        "#         raise ValueError(\"Invalid mapping array\")\n",
        "#     child1 = np.zeros(length, dtype=int)\n",
        "#     child2 = np.zeros(length, dtype=int)\n",
        "    \n",
        "#     for i in range(length):\n",
        "#         if i >= first_Cross and i <= second_Cross:\n",
        "#             child1[i] = segment2[i - first_Cross]\n",
        "#             child2[i] = segment1[i - first_Cross]\n",
        "#         else:\n",
        "#             if mapping[firstPermutation[i]] == 0:\n",
        "#                 child1[i] = firstPermutation[i]\n",
        "#             else:\n",
        "#                 child1[i] = mapping[firstPermutation[i]]\n",
        "            \n",
        "#             if mapping[secondPermutation[i]] == 0:\n",
        "#                 child2[i] = secondPermutation[i]\n",
        "#             else:\n",
        "#                 child2[i] = mapping[secondPermutation[i]]\n",
        "    \n",
        "#     return child1, child2\n"
      ]
    },
    {
      "cell_type": "code",
      "execution_count": 59,
      "metadata": {},
      "outputs": [],
      "source": [
        "import numpy as np\n",
        "\n",
        "def PMX_crossover(firstPermutation, secondPermutation):\n",
        "    length = len(firstPermutation)\n",
        "    \n",
        "    first_Cross = np.random.randint(0, length // 2)\n",
        "    second_Cross = np.random.randint(length // 2 + 1, length) + 1\n",
        "\n",
        "    if first_Cross >= second_Cross:\n",
        "        # swap the crossover points if necessary\n",
        "        first_Cross, second_Cross = second_Cross, first_Cross\n",
        "    \n",
        "    segment1 = firstPermutation[first_Cross:second_Cross]\n",
        "    segment2 = secondPermutation[first_Cross:second_Cross]\n",
        "    mapping = np.zeros(length, dtype=int)\n",
        "    \n",
        "    for i in range(len(segment1)):\n",
        "        mapping[segment1[i]] = segment2[i]\n",
        "        # print(segment2[i])\n",
        "        # print(mapping.length)\n",
        "        mapping[segment2[i]] = segment1[i]\n",
        "    # if np.unique(mapping).size != length:\n",
        "    #     # raise an error if the mapping array is invalid\n",
        "    #     raise ValueError(\"Invalid mapping array\")\n",
        "    child1 = np.zeros(length, dtype=int)\n",
        "    child2 = np.zeros(length, dtype=int)\n",
        "    \n",
        "    for i in range(length):\n",
        "        if i >= first_Cross and i <= second_Cross:\n",
        "            child1[i] = segment2[i - first_Cross - 1 ] # use i - first_Cross here\n",
        "            child2[i] = segment1[i - first_Cross - 1] # use i - first_Cross here\n",
        "        else:\n",
        "            if mapping[firstPermutation[i]] == 0:\n",
        "                child1[i] = firstPermutation[i]\n",
        "            else:\n",
        "                child1[i] = mapping[firstPermutation[i]]\n",
        "            \n",
        "            if mapping[secondPermutation[i]] == 0:\n",
        "                child2[i] = secondPermutation[i]\n",
        "            else:\n",
        "                child2[i] = mapping[secondPermutation[i]]\n",
        "    \n",
        "    return child1, child2\n"
      ]
    },
    {
      "cell_type": "code",
      "execution_count": 60,
      "metadata": {},
      "outputs": [
        {
          "name": "stdout",
          "output_type": "stream",
          "text": [
            "Offspring 1: [52 93 16 90 42 35 39 86 12 73 15 61 72  2 30 70 34 45 49 13 14 36 89 18\n",
            "  0 45 27 81 91 67 12 76 22 51 65 17 53 26 19  3 39 83 37 72 46 15 97 78\n",
            " 58 57 79 94 41  9 64 24 88 38 21 98  5 50 71 77 14  5 80 23  9 96 95 44\n",
            " 20 69 32 11 28  4  1 25 85 74  8 87 31  3 29 84 66 48 50 43 60 94 41 33\n",
            "  7 63 54  6]\n",
            "Offspring 2: [73 72 27 85  4 71  9 88 67 69 61 60 37 51 25  1 44 94 45 53 94 13 49 78\n",
            " 59 47 75 93  3 74 71 50 12 80 15 41 82 88 26 19 18 72 84 55 90 56 23 27\n",
            " 30  9 28 40 92 68  7 45 62 38  8 29  0 53 10 39 94 81 11 15 35 66 32 59\n",
            "  6 79 36 63 16 96 87 46 34 52 43 21 89 41  2 70 64 33 86 95 31 48 99 98\n",
            " 20 42 54 97]\n"
          ]
        }
      ],
      "source": [
        "offspring1, offspring2 = PMX_crossover(population[0], population[1])\n",
        "print(\"Offspring 1:\", offspring1)\n",
        "print(\"Offspring 2:\", offspring2)"
      ]
    },
    {
      "cell_type": "code",
      "execution_count": 61,
      "metadata": {},
      "outputs": [
        {
          "name": "stdout",
          "output_type": "stream",
          "text": [
            "(100,)\n"
          ]
        },
        {
          "data": {
            "text/plain": [
              "(array([ 3, 85, 13, 42, 36,  3, 19, 57, 11, 32, 53,  5, 45, 28,  4, 39, 69,\n",
              "        52, 72, 66, 29, 77, 80,  8, 40, 44, 13, 70, 25, 95, 93, 96, 98, 41,\n",
              "        56, 12, 46, 30, 58,  9, 74, 62,  2, 89, 22,  1, 83, 82, 51, 23, 78,\n",
              "        16, 81, 99, 64, 15, 42, 61, 97, 64, 60, 48, 90, 24, 50, 33, 35, 92,\n",
              "         6, 42, 18,  0, 10, 15, 73, 44, 17,  8, 41, 51, 68, 59,  4, 34, 54,\n",
              "        55, 78, 87, 37, 62, 89, 32, 67, 21, 75, 84, 38, 58, 91, 63]),\n",
              " array([ 3, 48, 97,  7, 73, 49,  8, 32, 58, 88, 15, 17, 21, 67,  1, 30,  3,\n",
              "        78, 89, 50, 94, 62, 27, 65, 41, 14, 43, 68, 20, 42, 13, 92, 44, 80,\n",
              "        54, 35, 37, 31, 26, 84, 51, 29, 81, 82,  4, 25, 55, 39, 47, 64, 79,\n",
              "        61, 71, 60, 86,  2,  7,  6, 51,  9, 10, 28, 32, 38, 30, 24,  0, 76,\n",
              "        75, 46, 12, 85, 90, 81,  8, 59, 66, 16, 13, 42, 83, 99, 45, 34, 29,\n",
              "         5, 44, 63, 18, 33, 87, 36, 70, 64, 96, 91, 78, 58, 80, 25]))"
            ]
          },
          "execution_count": 61,
          "metadata": {},
          "output_type": "execute_result"
        }
      ],
      "source": [
        "firstPermutation = np.random.permutation(100) # generate a random permutation of integers from 0 to 99\n",
        "print(firstPermutation.shape)\n",
        "secondPermutation = np.random.permutation(100) # generate another random permutation of integers from 0 to 99\n",
        "PMX_crossover(firstPermutation, secondPermutation) # apply the PMX"
      ]
    },
    {
      "cell_type": "code",
      "execution_count": 62,
      "metadata": {},
      "outputs": [
        {
          "name": "stdout",
          "output_type": "stream",
          "text": [
            "Offspring 1: [52 81 16 90 42 35 77 86 12 73 15 61 72  2 30 70 34 45 89 36 13 49 27 59\n",
            " 47 75 93 88 74 71 76 22 51 56 92 53 62 19  3 39 55 37 83 46 65 97 78 58\n",
            " 68 79 94 17 57 64 24 26 38 21 98  0 82 10 18 40 99  5 80 23  9 96 95 44\n",
            " 20 69 32 11 28  4  1 25 85 67  8 87 31 91 29 84 66 48 50 43 60 14 41 33\n",
            "  7 63 54  6]\n",
            "Offspring 2: [73 83 75 85  4 10 57 26 74 69 61 60 37 51 25  1 44 94 47 53 36 89 39  0\n",
            " 24 78 81 91 67 22 50 12 80 15 41 82 19  3 88 18 72 84 55 90 56 23 27 30\n",
            "  9 28 40 92 68  7 45 62 38  8 29  5 76 71 77 14 58 93 11 65 35 66 32 59\n",
            "  6 79 13 63 16 96 87 46 34 52 43 21 49 17  2 70 64 33 86 95 31 48 99 98\n",
            " 20 42 54 97]\n"
          ]
        }
      ],
      "source": [
        "def cxPartialyMatched(ind1, ind2):\n",
        "    size = min(len(ind1), len(ind2))\n",
        "    p1, p2 = [0] * size, [0] * size\n",
        "\n",
        "    # Initialize the position of each indices in the individuals\n",
        "    for i in range(size):\n",
        "        p1[ind1[i]] = i\n",
        "        p2[ind2[i]] = i\n",
        "    # Choose crossover points\n",
        "    cxpoint1 = random.randint(0, size)\n",
        "    cxpoint2 = random.randint(0, size - 1)\n",
        "    if cxpoint2 >= cxpoint1:\n",
        "        cxpoint2 += 1\n",
        "    else:  # Swap the two cx points\n",
        "        cxpoint1, cxpoint2 = cxpoint2, cxpoint1\n",
        "\n",
        "    # Apply crossover between cx points\n",
        "    for i in range(cxpoint1, cxpoint2):\n",
        "        # Keep track of the selected values\n",
        "        temp1 = ind1[i]\n",
        "        temp2 = ind2[i]\n",
        "        # Swap the matched value\n",
        "        ind1[i], ind1[p1[temp2]] = temp2, temp1\n",
        "        ind2[i], ind2[p2[temp1]] = temp1, temp2\n",
        "        # Position bookkeeping\n",
        "        p1[temp1], p1[temp2] = p1[temp2], p1[temp1]\n",
        "        p2[temp1], p2[temp2] = p2[temp2], p2[temp1]\n",
        "\n",
        "    return ind1, ind2\n",
        "offspring1, offspring2 = cxPartialyMatched(population[0], population[1])\n",
        "print(\"Offspring 1:\", offspring1)\n",
        "print(\"Offspring 2:\", offspring2)"
      ]
    },
    {
      "cell_type": "code",
      "execution_count": 63,
      "metadata": {},
      "outputs": [
        {
          "name": "stdout",
          "output_type": "stream",
          "text": [
            "Candidate 73 not valid in position 0\n",
            "Candidate 83 not valid in position 1\n",
            "Candidate [55] not valid in position 1\n",
            "Candidate [72] not valid in position 1\n",
            "Candidate [37] not valid in position 1\n",
            "Candidate 75 not valid in position 2\n",
            "Candidate [78] not valid in position 2\n",
            "Candidate [27] not valid in position 2\n",
            "Candidate [39] not valid in position 2\n",
            "Candidate [18] not valid in position 2\n",
            "Candidate [77] not valid in position 2\n",
            "Candidate [57] not valid in position 2\n",
            "Candidate [68] not valid in position 2\n",
            "Candidate [9] not valid in position 2\n",
            "Candidate [35] not valid in position 2\n",
            "Candidate [10] not valid in position 2\n",
            "Candidate [71] not valid in position 2\n",
            "Candidate [22] not valid in position 2\n",
            "Candidate [12] not valid in position 2\n",
            "Candidate [74] not valid in position 2\n",
            "Candidate 59 not valid in position 71\n",
            "Candidate [0] not valid in position 71\n",
            "Candidate [5] not valid in position 71\n",
            "Candidate [93] not valid in position 71\n",
            "Candidate 79 not valid in position 73\n",
            "Candidate 13 not valid in position 74\n",
            "Candidate [36] not valid in position 74\n",
            "Candidate [53] not valid in position 74\n",
            "Candidate [82] not valid in position 74\n",
            "Candidate [76] not valid in position 74\n",
            "Candidate 96 not valid in position 77\n",
            "Candidate 46 not valid in position 79\n",
            "Candidate [90] not valid in position 79\n",
            "Candidate 34 not valid in position 80\n",
            "Candidate 21 not valid in position 83\n",
            "Candidate 49 not valid in position 84\n",
            "Candidate [89] not valid in position 84\n",
            "Candidate [47] not valid in position 84\n",
            "Candidate [24] not valid in position 84\n",
            "Candidate [45] not valid in position 84\n",
            "Candidate [94] not valid in position 84\n",
            "Candidate [40] not valid in position 84\n",
            "Candidate 17 not valid in position 85\n",
            "Candidate [92] not valid in position 85\n",
            "Candidate 2 not valid in position 86\n",
            "Candidate [51] not valid in position 86\n",
            "Candidate [80] not valid in position 86\n",
            "Candidate 70 not valid in position 87\n",
            "Candidate 64 not valid in position 88\n",
            "Candidate 86 not valid in position 90\n",
            "Candidate [26] not valid in position 90\n",
            "Candidate [62] not valid in position 90\n",
            "Candidate [19] not valid in position 90\n",
            "Candidate [3] not valid in position 90\n",
            "Candidate [88] not valid in position 90\n",
            "Candidate 99 not valid in position 94\n",
            "Candidate [58] not valid in position 94\n",
            "Candidate [30] not valid in position 94\n",
            "Candidate 98 not valid in position 95\n",
            "Candidate 42 not valid in position 97\n",
            "Candidate 97 not valid in position 99\n",
            "Candidate [23] not valid in position 99\n",
            "Candidate [65] not valid in position 99\n",
            "Candidate [56] not valid in position 99\n",
            "Candidate [15] not valid in position 99\n",
            "Candidate [61] not valid in position 99\n",
            "Candidate 81 not valid in position 1\n",
            "Candidate [93] not valid in position 1\n",
            "Candidate [5] not valid in position 1\n",
            "Candidate [0] not valid in position 1\n",
            "Candidate 44 not valid in position 71\n",
            "Candidate 69 not valid in position 73\n",
            "Candidate 11 not valid in position 75\n",
            "Candidate [80] not valid in position 75\n",
            "Candidate [51] not valid in position 75\n",
            "Candidate 28 not valid in position 76\n",
            "Candidate 4 not valid in position 77\n",
            "Candidate 1 not valid in position 78\n",
            "Candidate 25 not valid in position 79\n",
            "Candidate [30] not valid in position 79\n",
            "Candidate [58] not valid in position 79\n",
            "Candidate 85 not valid in position 80\n",
            "Candidate [90] not valid in position 80\n",
            "Candidate 67 not valid in position 81\n",
            "Candidate [74] not valid in position 81\n",
            "Candidate [12] not valid in position 81\n",
            "Candidate [22] not valid in position 81\n",
            "Candidate [71] not valid in position 81\n",
            "Candidate [10] not valid in position 81\n",
            "Candidate [35] not valid in position 81\n",
            "Candidate [9] not valid in position 81\n",
            "Candidate [68] not valid in position 81\n",
            "Candidate [57] not valid in position 81\n",
            "Candidate [77] not valid in position 81\n",
            "Candidate [18] not valid in position 81\n",
            "Candidate [39] not valid in position 81\n",
            "Candidate [27] not valid in position 81\n",
            "Candidate [78] not valid in position 81\n",
            "Candidate 8 not valid in position 82\n",
            "Candidate 91 not valid in position 85\n",
            "Candidate [88] not valid in position 85\n",
            "Candidate [3] not valid in position 85\n",
            "Candidate [19] not valid in position 85\n",
            "Candidate [62] not valid in position 85\n",
            "Candidate [26] not valid in position 85\n",
            "Candidate 29 not valid in position 86\n",
            "Candidate 84 not valid in position 87\n",
            "Candidate [37] not valid in position 87\n",
            "Candidate [72] not valid in position 87\n",
            "Candidate [55] not valid in position 87\n",
            "Candidate 66 not valid in position 88\n",
            "Candidate 50 not valid in position 90\n",
            "Candidate [76] not valid in position 90\n",
            "Candidate [82] not valid in position 90\n",
            "Candidate [53] not valid in position 90\n",
            "Candidate [36] not valid in position 90\n",
            "Candidate 60 not valid in position 92\n",
            "Candidate [61] not valid in position 92\n",
            "Candidate [15] not valid in position 92\n",
            "Candidate [56] not valid in position 92\n",
            "Candidate [65] not valid in position 92\n",
            "Candidate [23] not valid in position 92\n",
            "Candidate 14 not valid in position 93\n",
            "Candidate [40] not valid in position 93\n",
            "Candidate [94] not valid in position 93\n",
            "Candidate [45] not valid in position 93\n",
            "Candidate [24] not valid in position 93\n",
            "Candidate [47] not valid in position 93\n",
            "Candidate [89] not valid in position 93\n",
            "Candidate 41 not valid in position 94\n",
            "Candidate [92] not valid in position 94\n",
            "Candidate 7 not valid in position 96\n",
            "Offspring 1: [69. 84. 67. 90. 42. 35. 77. 86. 12. 73. 15. 61. 72.  2. 30. 70. 34. 45.\n",
            " 89. 36. 13. 49. 27. 59. 47. 75. 93. 88. 74. 71. 76. 22. 51. 56. 92. 53.\n",
            " 62. 19.  3. 39. 55. 37. 83. 46. 65. 97. 78. 58. 68. 79. 94. 17. 57. 64.\n",
            " 24. 26. 38. 21. 98.  0. 82. 10. 18. 40. 99.  5. 80. 23.  9. 96. 32. 81.\n",
            "  6. 28. 50. 63. 16. 66. 87. 85. 44. 52. 43.  8. 14. 41. 11.  1.  7. 33.\n",
            " 91. 95. 31. 48. 25. 29. 20.  4. 54. 60.]\n",
            "Offspring 2: [52. 59. 16. 85.  4. 10. 57. 26. 74. 69. 61. 60. 37. 51. 25.  1. 44. 94.\n",
            " 47. 53. 36. 89. 39.  0. 24. 78. 81. 91. 67. 22. 50. 12. 80. 15. 41. 82.\n",
            " 19.  3. 88. 18. 72. 84. 55. 90. 56. 23. 27. 30.  9. 28. 40. 92. 68.  7.\n",
            " 45. 62. 38.  8. 29.  5. 76. 71. 77. 14. 58. 93. 11. 65. 35. 66. 95. 34.\n",
            " 20. 73. 32.  2. 79. 42. 70. 99. 46. 75. 21. 87. 31. 86. 98. 83. 96. 48.\n",
            " 13. 43. 97. 49. 17. 33. 64. 63. 54.  6.]\n"
          ]
        },
        {
          "name": "stderr",
          "output_type": "stream",
          "text": [
            "C:\\Users\\blues\\AppData\\Local\\Temp\\ipykernel_21740\\1868980976.py:21: DeprecationWarning: Conversion of an array with ndim > 0 to a scalar is deprecated, and will error in future. Ensure you extract a single element from your array before performing this operation. (Deprecated NumPy 1.25.)\n",
            "  offspring[i] = candidate\n"
          ]
        }
      ],
      "source": [
        "def PMX_crossover(parent1, parent2, seed):\n",
        "    '''\n",
        "    parent1 and parent2 are 1D np.array\n",
        "    '''\n",
        "    rng = np.random.default_rng(seed=seed)\n",
        "\n",
        "    cutoff_1, cutoff_2 = np.sort(rng.choice(np.arange(len(parent1)+1), size=2, replace=False))\n",
        "\n",
        "    def PMX_one_offspring(p1, p2):\n",
        "        offspring = np.zeros(len(p1))\n",
        "\n",
        "        # Copy the mapping section (middle) from parent1\n",
        "        offspring[cutoff_1:cutoff_2] = p1[cutoff_1:cutoff_2]\n",
        "\n",
        "        # copy the rest from parent2 (provided it's not already there\n",
        "        for i in np.concatenate([np.arange(0,cutoff_1), np.arange(cutoff_2,len(p1))]):\n",
        "            candidate = p2[i]\n",
        "            while candidate in p1[cutoff_1:cutoff_2]: # allows for several successive mappings\n",
        "                print(f\"Candidate {candidate} not valid in position {i}\") # DEBUGONLY\n",
        "                candidate = p2[np.where(p1 == candidate)[0]]\n",
        "            offspring[i] = candidate\n",
        "        return offspring\n",
        "\n",
        "    offspring1 = PMX_one_offspring(parent1, parent2)\n",
        "    offspring2 = PMX_one_offspring(parent2, parent1)\n",
        "\n",
        "    return offspring1, offspring2\n",
        "offspring1, offspring2 = PMX_crossover(population[0], population[1],23)\n",
        "print(\"Offspring 1:\", offspring1)\n",
        "print(\"Offspring 2:\", offspring2)"
      ]
    },
    {
      "cell_type": "code",
      "execution_count": 64,
      "metadata": {},
      "outputs": [
        {
          "name": "stdout",
          "output_type": "stream",
          "text": [
            "Offspring 1: [2 4 6 8 7 5 3 1]\n",
            "Offspring 2: [1 2 3 4 5 6 7 8]\n"
          ]
        }
      ],
      "source": [
        "import numpy as np\n",
        "\n",
        "def pmx(parent1, parent2):\n",
        "    size = len(parent1)\n",
        "    # Choose crossover points\n",
        "    idx1, idx2 = np.sort(np.random.choice(range(size), 2, replace=False))\n",
        "\n",
        "    # Initialize offspring\n",
        "    offspring1, offspring2 = np.zeros(size, dtype=int), np.zeros(size, dtype=int)\n",
        "\n",
        "    # Copy segments from parents\n",
        "    offspring1[idx1:idx2+1], offspring2[idx1:idx2+1] = parent2[idx1:idx2+1], parent1[idx1:idx2+1]\n",
        "\n",
        "    # Fill the remaining positions\n",
        "    for i in list(range(idx1)) + list(range(idx2+1, size)):\n",
        "        offspring1[i] = parent1[i] if parent1[i] not in offspring1 else parent2[np.where(parent1 == parent1[i])[0][0]]\n",
        "        offspring2[i] = parent2[i] if parent2[i] not in offspring2 else parent1[np.where(parent2 == parent2[i])[0][0]]\n",
        "\n",
        "    return offspring1, offspring2\n",
        "\n",
        "# Test\n",
        "parent1 = np.array([1, 2, 3, 4, 5, 6, 7, 8])\n",
        "parent2 = np.array([2, 4, 6, 8, 7, 5, 3, 1])\n",
        "\n",
        "offspring1, offspring2 = pmx(parent1, parent2)\n",
        "print(\"Offspring 1:\", offspring1)\n",
        "print(\"Offspring 2:\", offspring2)\n"
      ]
    },
    {
      "cell_type": "code",
      "execution_count": 65,
      "metadata": {
        "id": "6OqGBsuj4AUS"
      },
      "outputs": [],
      "source": [
        "def pmx_crossover(parent1, parent2):\n",
        "    \"\"\"Performs Partially Matched Crossover (PMX) recombination on two chromosomes.\n",
        "\n",
        "    Args:\n",
        "        parent1: The first parent chromosome.\n",
        "        parent2: The second parent chromosome.\n",
        "\n",
        "    Returns:\n",
        "        A new chromosome resulting from the crossover.\n",
        "    \"\"\"\n",
        "\n",
        "    mapping = {}\n",
        "    crossover_points = random.sample(range(1, len(parent1)), 2)\n",
        "\n",
        "    for i in range(crossover_points[0], crossover_points[1]):\n",
        "        gene1 = parent1[i]\n",
        "        gene2 = parent2[i]\n",
        "\n",
        "        mapping[gene1] = gene2\n",
        "        mapping[gene2] = gene1\n",
        "\n",
        "    offspring = list(parent1)\n",
        "\n",
        "    for i in range(len(offspring)):\n",
        "        if i in mapping:\n",
        "            offspring[i] = mapping[offspring[i]]\n",
        "\n",
        "    return offspring"
      ]
    },
    {
      "cell_type": "code",
      "execution_count": 23,
      "metadata": {
        "id": "9d97-TFO4FYQ"
      },
      "outputs": [],
      "source": [
        "def erx_crossover(parent1, parent2):\n",
        "    \"\"\"Performs Edge Recombination Crossover (ERX) on two chromosomes.\n",
        "\n",
        "    Args:\n",
        "        parent1: The first parent chromosome.\n",
        "        parent2: The second parent chromosome.\n",
        "\n",
        "    Returns:\n",
        "        A new chromosome resulting from the crossover.\n",
        "    \"\"\"\n",
        "\n",
        "    offspring = []\n",
        "    visited = set()\n",
        "\n",
        "    # Start from a random gene in parent1\n",
        "    gene = random.choice(parent1)\n",
        "    offspring.append(gene)\n",
        "    visited.add(gene)\n",
        "\n",
        "    while len(offspring) < len(parent1):\n",
        "        # Find the next gene to add\n",
        "        next_gene = None\n",
        "\n",
        "        # Check if the next gene in parent2 is not in the visited set\n",
        "        next_gene_in_parent2 = parent2[(parent1.index(gene) + 1) % len(parent1)]\n",
        "        if next_gene_in_parent2 not in visited:\n",
        "            next_gene = next_gene_in_parent2\n",
        "\n",
        "        # Check if the next gene in parent1 is not in the visited set\n",
        "        if next_gene is None:\n",
        "            next_gene_in_parent1 = parent1[(parent2.index(gene) + 1) % len(parent2)]\n",
        "            if next_gene_in_parent1 not in visited:\n",
        "                next_gene = next_gene_in_parent1\n",
        "\n",
        "        # If no valid next gene found, break\n",
        "        if next_gene is None:\n",
        "            break\n",
        "\n",
        "        # Add the next gene to the offspring and mark it as visited\n",
        "        offspring.append(next_gene)\n",
        "        visited.add(next_gene)\n",
        "\n",
        "        # Update the current gene\n",
        "        gene = next_gene\n",
        "\n",
        "    return offspring"
      ]
    },
    {
      "cell_type": "code",
      "execution_count": 24,
      "metadata": {
        "id": "j9YH4M5C4gBe"
      },
      "outputs": [],
      "source": [
        "def ox_crossover(parent1, parent2):\n",
        "    \"\"\"Performs Order Crossover (OX) on two chromosomes.\n",
        "\n",
        "    Args:\n",
        "        parent1: The first parent chromosome.\n",
        "        parent2: The second parent chromosome.\n",
        "\n",
        "    Returns:\n",
        "        A new chromosome resulting from the crossover.\n",
        "    \"\"\"\n",
        "\n",
        "    crossover_points = random.sample(range(1, len(parent1)), 2)\n",
        "    slice_start, slice_end = crossover_points[0], crossover_points[1]\n",
        "\n",
        "    slice1 = parent1[slice_start:slice_end]\n",
        "    remaining_genes1 = set(parent1) - set(slice1)\n",
        "\n",
        "    mapping = {}\n",
        "    for i in range(slice_start, slice_end):\n",
        "        gene1 = parent1[i]\n",
        "        gene2 = parent2[i]\n",
        "\n",
        "        if gene1 in remaining_genes1:\n",
        "            mapping[gene1] = gene2\n",
        "            remaining_genes1.remove(gene1)\n",
        "\n",
        "    offspring = []\n",
        "    for gene in parent2:\n",
        "        if gene in mapping:\n",
        "            offspring.append(mapping[gene])\n",
        "        elif gene not in slice1:\n",
        "            offspring.append(gene)\n",
        "\n",
        "    for gene in slice1:\n",
        "        offspring.append(gene)\n",
        "\n",
        "    return offspring"
      ]
    },
    {
      "cell_type": "code",
      "execution_count": 25,
      "metadata": {
        "id": "tyOnoWxo5BkQ"
      },
      "outputs": [],
      "source": [
        "def cycle_crossover(parent1, parent2):\n",
        "    \"\"\"\n",
        "    Performs Cycle Crossover (CX) on two chromosomes.\n",
        "\n",
        "    Args:\n",
        "        parent1: The first parent chromosome.\n",
        "        parent2: The second parent chromosome.\n",
        "\n",
        "    Returns:\n",
        "        A new chromosome resulting from the crossover.\n",
        "    \"\"\"\n",
        "\n",
        "    cycle_start = random.randrange(len(parent1))\n",
        "    cycle_genes1 = set(parent1[cycle_start:])\n",
        "    cycle_genes2 = set(parent2[cycle_start:])\n",
        "\n",
        "    offspring = list(parent1[:cycle_start])\n",
        "    for gene in parent2:\n",
        "        if gene in cycle_genes1:\n",
        "            offspring.append(gene)\n",
        "            cycle_genes1.remove(gene)\n",
        "\n",
        "            if not cycle_genes1:\n",
        "                break\n",
        "        else:\n",
        "            cycle_genes2.add(gene)\n",
        "\n",
        "    for gene in cycle_genes2:\n",
        "        offspring.append(gene)\n",
        "\n",
        "    return offspring"
      ]
    },
    {
      "cell_type": "code",
      "execution_count": 26,
      "metadata": {
        "id": "oTKNWjXf5dUP"
      },
      "outputs": [],
      "source": [
        "def swap_mutation(chromosome):\n",
        "    \"\"\"Performs Swap mutation on a chromosome.\n",
        "\n",
        "    Args:\n",
        "        chromosome: The chromosome to mutate.\n",
        "\n",
        "    Returns:\n",
        "        A mutated chromosome.\n",
        "    \"\"\"\n",
        "\n",
        "    i, j = random.sample(range(len(chromosome)), 2)\n",
        "    chromosome[i], chromosome[j] = chromosome[j], chromosome[i]\n",
        "    return chromosome"
      ]
    },
    {
      "cell_type": "code",
      "execution_count": 27,
      "metadata": {
        "id": "byt6rXjr5x2P"
      },
      "outputs": [],
      "source": [
        "def scramble_mutation(chromosome):\n",
        "    \"\"\"Performs Scramble mutation on a chromosome.\n",
        "\n",
        "    Args:\n",
        "        chromosome: The chromosome to mutate.\n",
        "\n",
        "    Returns:\n",
        "        A mutated chromosome.\n",
        "    \"\"\"\n",
        "\n",
        "    mutation_length = random.randrange(2, len(chromosome))\n",
        "    start_index = random.randrange(len(chromosome) - mutation_length)\n",
        "\n",
        "    sub_chromosome = chromosome[start_index:start_index + mutation_length]\n",
        "    random.shuffle(sub_chromosome)\n",
        "    chromosome[start_index:start_index + mutation_length] = sub_chromosome\n",
        "\n",
        "    return chromosome"
      ]
    },
    {
      "cell_type": "code",
      "execution_count": 28,
      "metadata": {
        "id": "mE49sOoq52kv"
      },
      "outputs": [],
      "source": [
        "def insert_mutation(chromosome):\n",
        "    \"\"\"Performs Insert mutation on a chromosome.\n",
        "\n",
        "    Args:\n",
        "        chromosome: The chromosome to mutate.\n",
        "\n",
        "    Returns:\n",
        "        A mutated chromosome.\n",
        "    \"\"\"\n",
        "\n",
        "    i = random.randrange(len(chromosome))\n",
        "    j = random.randrange(len(chromosome))\n",
        "\n",
        "    if i != j:\n",
        "        gene = chromosome.pop(i)\n",
        "        chromosome.insert(j, gene)\n",
        "\n",
        "    return chromosome"
      ]
    },
    {
      "cell_type": "code",
      "execution_count": 29,
      "metadata": {
        "id": "C13zTU0X6MJn"
      },
      "outputs": [],
      "source": [
        "def inversion_mutation(chromosome):\n",
        "    \"\"\"Performs Inversion mutation on a chromosome.\n",
        "\n",
        "    Args:\n",
        "        chromosome: The chromosome to mutate.\n",
        "\n",
        "    Returns:\n",
        "        A mutated chromosome.\n",
        "    \"\"\"\n",
        "\n",
        "    mutation_length = random.randrange(2, len(chromosome))\n",
        "    start_index = random.randrange(len(chromosome) - mutation_length)\n",
        "\n",
        "    sub_chromosome = chromosome[start_index:start_index + mutation_length]\n",
        "    sub_chromosome.reverse()\n",
        "    chromosome[start_index:start_index + mutation_length] = sub_chromosome\n",
        "\n",
        "    return chromosome"
      ]
    },
    {
      "cell_type": "code",
      "execution_count": 51,
      "metadata": {
        "id": "v5HJwzkhWCt-"
      },
      "outputs": [],
      "source": [
        "# def roulette_wheel_selection(population, fitness_values):\n",
        "#     total_fitness = np.sum(fitness_values)\n",
        "#     fitness_probabilities = fitness_values / total_fitness\n",
        "#     cumulative_probabilities = np.cumsum(fitness_probabilities)\n",
        "\n",
        "#     random_index = random.random()\n",
        "#     for i, probability in enumerate(cumulative_probabilities):\n",
        "#         # print(f'i is {i}')\n",
        "#         if random_index < probability:\n",
        "#             return population[i]\n",
        "def roulette_wheel_selection(population, fitness_values):\n",
        "    total_fitness = np.sum(fitness_values)\n",
        "    fitness_probabilities = fitness_values / total_fitness\n",
        "    cumulative_probabilities = np.cumsum(fitness_probabilities)\n",
        "\n",
        "    random_value = random.random()\n",
        "    for i, probability in enumerate(cumulative_probabilities):\n",
        "        if random_value < probability:\n",
        "            selected_chromosome = population[i]\n",
        "            break\n",
        "\n",
        "    # Shuffle the selected chromosome to ensure no bias in selecting the next parent\n",
        "    # np.random.shuffle(selected_chromosome)\n",
        "\n",
        "    return selected_chromosome\n",
        "\n",
        "def tournament_selection(population , cities = city_data, tournament_size = 5):\n",
        "    # Create a tournament\n",
        "    tournament = random.sample(population, tournament_size)\n",
        "    # Select the best individual among the tournament\n",
        "    best_individual = min(tournament, key=lambda x: calculate_distance(cities, x))\n",
        "    return best_individual\n",
        "\n",
        "def genetic_algorithm(population_size=500, crossover_rate=0.7, mutation_rate=0.1, max_generations=700,cities = city_data):\n",
        "    chromosomes = generate_random_chromosomes(500,100)\n",
        "    fitness_values = []\n",
        "    for chromosome in chromosomes :\n",
        "        fitness_value = calculate_fitness_np(chromosome, cities)\n",
        "        fitness_values.append(fitness_value)\n",
        "\n",
        "    generation_without_improvement = 0\n",
        "\n",
        "    for generation in range(max_generations):\n",
        "        # Select parents using roulette wheel selection\n",
        "        parents = []\n",
        "        for i in range(population_size):\n",
        "            parent1 , parent2 = roulette_wheel_permutation_parent_selection(chromosomes, fitness_values)\n",
        "            # parent2 = roulette_wheel_permutation_parent_selection(chromosomes, fitness_values)\n",
        "\n",
        "            parents.append((parent1, parent2))\n",
        "\n",
        "        # Apply crossover\n",
        "        # offspring = []\n",
        "        # for parent1, parent2 in parents:\n",
        "        #     offspring1, offspring2 = pmx_crossover(chromosomes[parent1], chromosomes[parent2])\n",
        "        #     offspring.append(offspring1)\n",
        "        #     offspring.append(offspring2)\n",
        "        # Apply crossover with specified rate\n",
        "        offspring = []\n",
        "        for parent1, parent2 in parents:\n",
        "            print(parent1)\n",
        "            # break\n",
        "            if random.random() < crossover_rate:\n",
        "                offspring1 = pmx(parent1, parent2)\n",
        "                offspring2 = pmx(parent1, parent2)\n",
        "            else:\n",
        "                offspring1 = parent1\n",
        "                offspring2 = parent2\n",
        "\n",
        "            offspring.append(offspring1)\n",
        "            offspring.append(offspring2)\n",
        "\n",
        "        # Apply mutation\n",
        "        for offspring in offspring:\n",
        "            if random.random() < mutation_rate:\n",
        "                offspring = swap_mutation(offspring)\n",
        "\n",
        "        # Evaluate offspring fitness\n",
        "        offspring_fitness_values = calculate_fitness(offspring, cities)\n",
        "\n",
        "        # Combine parents and offspring to form a new population\n",
        "        new_population = np.empty_like(chromosomes)\n",
        "        new_fitness_values = np.empty_like(fitness_values)\n",
        "\n",
        "        for i in range(population_size):\n",
        "            if offspring_fitness_values[i] > fitness_values[i]:\n",
        "                new_population[i] = offspring[i]\n",
        "                new_fitness_values[i] = offspring_fitness_values[i]\n",
        "            else:\n",
        "                new_population[i] = chromosomes[i]\n",
        "                new_fitness_values[i] = fitness_values[i]\n",
        "\n",
        "        chromosomes = new_population\n",
        "        fitness_values = new_fitness_values\n",
        "\n",
        "        # Check for stopping condition\n",
        "        if np.array_equal(fitness_values, offspring_fitness_values):\n",
        "            generation_without_improvement += 1\n",
        "\n",
        "            if generation_without_improvement >= 20:\n",
        "                break\n",
        "        else:\n",
        "            generation_without_improvement = 0\n",
        "\n",
        "    best_chromosome = chromosomes[fitness_values.argmax()]\n",
        "    best_fitness = np.max(fitness_values)\n",
        "\n",
        "    return best_chromosome, best_fitness\n"
      ]
    },
    {
      "cell_type": "code",
      "execution_count": 52,
      "metadata": {
        "colab": {
          "base_uri": "https://localhost:8080/",
          "height": 321
        },
        "id": "1kIHfVjcWIif",
        "outputId": "16ae8689-f326-48da-8e7a-85c9822ef18d"
      },
      "outputs": [
        {
          "name": "stdout",
          "output_type": "stream",
          "text": [
            "[54, 91, 74, 82, 98, 18, 87, 17, 15, 32, 39, 33, 28, 47, 85, 53, 30, 75, 84, 31, 45, 9, 26, 88, 36, 6, 96, 59, 94, 37, 48, 13, 89, 42, 72, 24, 57, 34, 93, 29, 77, 41, 35, 83, 80, 79, 61, 69, 68, 92, 19, 86, 51, 20, 23, 8, 50, 12, 4, 1, 76, 81, 44, 43, 49, 22, 2, 70, 7, 100, 64, 25, 62, 27, 95, 52, 78, 11, 38, 16, 71, 90, 67, 3, 60, 58, 66, 40, 10, 14, 63, 73, 56, 46, 5, 97, 21, 99, 55, 65]\n",
            "[62, 76, 72, 38, 40, 100, 94, 53, 13, 24, 30, 34, 41, 49, 54, 58, 46, 10, 67, 80, 2, 1, 18, 88, 25, 70, 98, 9, 66, 3, 57, 29, 22, 7, 23, 32, 8, 73, 21, 90, 97, 85, 60, 87, 84, 83, 27, 95, 5, 35, 42, 96, 31, 99, 14, 17, 82, 78, 69, 26, 75, 37, 68, 59, 77, 79, 6, 81, 16, 89, 48, 45, 44, 33, 19, 4, 64, 93, 51, 20, 74, 61, 43, 52, 28, 71, 55, 63, 11, 86, 56, 47, 50, 92, 91, 12, 39, 15, 65, 36]\n"
          ]
        },
        {
          "name": "stderr",
          "output_type": "stream",
          "text": [
            "C:\\Users\\blues\\AppData\\Local\\Temp\\ipykernel_36744\\557155559.py:16: DeprecationWarning: Calling nonzero on 0d arrays is deprecated, as it behaves surprisingly. Use `atleast_1d(cond).nonzero()` if the old behavior was intended. If the context of this warning is of the form `arr[nonzero(cond)]`, just use `arr[cond]`.\n",
            "  offspring1[i] = parent1[i] if parent1[i] not in offspring1 else parent2[np.where(parent1 == parent1[i])[0][0]]\n"
          ]
        },
        {
          "ename": "IndexError",
          "evalue": "index 0 is out of bounds for axis 0 with size 0",
          "output_type": "error",
          "traceback": [
            "\u001b[1;31m---------------------------------------------------------------------------\u001b[0m",
            "\u001b[1;31mIndexError\u001b[0m                                Traceback (most recent call last)",
            "\u001b[1;32mc:\\Users\\blues\\Documents\\Dev\\Projects\\jupyter\\evo\\hw1\\rayanesh_hw1.ipynb Cell 29\u001b[0m line \u001b[0;36m1\n\u001b[1;32m----> <a href='vscode-notebook-cell:/c%3A/Users/blues/Documents/Dev/Projects/jupyter/evo/hw1/rayanesh_hw1.ipynb#X40sZmlsZQ%3D%3D?line=0'>1</a>\u001b[0m result \u001b[39m=\u001b[39m genetic_algorithm()\n",
            "\u001b[1;32mc:\\Users\\blues\\Documents\\Dev\\Projects\\jupyter\\evo\\hw1\\rayanesh_hw1.ipynb Cell 29\u001b[0m line \u001b[0;36m6\n\u001b[0;32m     <a href='vscode-notebook-cell:/c%3A/Users/blues/Documents/Dev/Projects/jupyter/evo/hw1/rayanesh_hw1.ipynb#X40sZmlsZQ%3D%3D?line=61'>62</a>\u001b[0m \u001b[39m# break\u001b[39;00m\n\u001b[0;32m     <a href='vscode-notebook-cell:/c%3A/Users/blues/Documents/Dev/Projects/jupyter/evo/hw1/rayanesh_hw1.ipynb#X40sZmlsZQ%3D%3D?line=62'>63</a>\u001b[0m \u001b[39mif\u001b[39;00m random\u001b[39m.\u001b[39mrandom() \u001b[39m<\u001b[39m crossover_rate:\n\u001b[1;32m---> <a href='vscode-notebook-cell:/c%3A/Users/blues/Documents/Dev/Projects/jupyter/evo/hw1/rayanesh_hw1.ipynb#X40sZmlsZQ%3D%3D?line=63'>64</a>\u001b[0m     offspring1 \u001b[39m=\u001b[39m pmx(parent1, parent2)\n\u001b[0;32m     <a href='vscode-notebook-cell:/c%3A/Users/blues/Documents/Dev/Projects/jupyter/evo/hw1/rayanesh_hw1.ipynb#X40sZmlsZQ%3D%3D?line=64'>65</a>\u001b[0m     offspring2 \u001b[39m=\u001b[39m pmx(parent1, parent2)\n\u001b[0;32m     <a href='vscode-notebook-cell:/c%3A/Users/blues/Documents/Dev/Projects/jupyter/evo/hw1/rayanesh_hw1.ipynb#X40sZmlsZQ%3D%3D?line=65'>66</a>\u001b[0m \u001b[39melse\u001b[39;00m:\n",
            "\u001b[1;32mc:\\Users\\blues\\Documents\\Dev\\Projects\\jupyter\\evo\\hw1\\rayanesh_hw1.ipynb Cell 29\u001b[0m line \u001b[0;36m1\n\u001b[0;32m     <a href='vscode-notebook-cell:/c%3A/Users/blues/Documents/Dev/Projects/jupyter/evo/hw1/rayanesh_hw1.ipynb#X40sZmlsZQ%3D%3D?line=13'>14</a>\u001b[0m \u001b[39m# Fill the remaining positions\u001b[39;00m\n\u001b[0;32m     <a href='vscode-notebook-cell:/c%3A/Users/blues/Documents/Dev/Projects/jupyter/evo/hw1/rayanesh_hw1.ipynb#X40sZmlsZQ%3D%3D?line=14'>15</a>\u001b[0m \u001b[39mfor\u001b[39;00m i \u001b[39min\u001b[39;00m \u001b[39mlist\u001b[39m(\u001b[39mrange\u001b[39m(idx1)) \u001b[39m+\u001b[39m \u001b[39mlist\u001b[39m(\u001b[39mrange\u001b[39m(idx2\u001b[39m+\u001b[39m\u001b[39m1\u001b[39m, size)):\n\u001b[1;32m---> <a href='vscode-notebook-cell:/c%3A/Users/blues/Documents/Dev/Projects/jupyter/evo/hw1/rayanesh_hw1.ipynb#X40sZmlsZQ%3D%3D?line=15'>16</a>\u001b[0m     offspring1[i] \u001b[39m=\u001b[39m parent1[i] \u001b[39mif\u001b[39;00m parent1[i] \u001b[39mnot\u001b[39;00m \u001b[39min\u001b[39;00m offspring1 \u001b[39melse\u001b[39;00m parent2[np\u001b[39m.\u001b[39mwhere(parent1 \u001b[39m==\u001b[39m parent1[i])[\u001b[39m0\u001b[39m][\u001b[39m0\u001b[39m]]\n\u001b[0;32m     <a href='vscode-notebook-cell:/c%3A/Users/blues/Documents/Dev/Projects/jupyter/evo/hw1/rayanesh_hw1.ipynb#X40sZmlsZQ%3D%3D?line=16'>17</a>\u001b[0m     offspring2[i] \u001b[39m=\u001b[39m parent2[i] \u001b[39mif\u001b[39;00m parent2[i] \u001b[39mnot\u001b[39;00m \u001b[39min\u001b[39;00m offspring2 \u001b[39melse\u001b[39;00m parent1[np\u001b[39m.\u001b[39mwhere(parent2 \u001b[39m==\u001b[39m parent2[i])[\u001b[39m0\u001b[39m][\u001b[39m0\u001b[39m]]\n\u001b[0;32m     <a href='vscode-notebook-cell:/c%3A/Users/blues/Documents/Dev/Projects/jupyter/evo/hw1/rayanesh_hw1.ipynb#X40sZmlsZQ%3D%3D?line=18'>19</a>\u001b[0m \u001b[39mreturn\u001b[39;00m offspring1, offspring2\n",
            "\u001b[1;31mIndexError\u001b[0m: index 0 is out of bounds for axis 0 with size 0"
          ]
        }
      ],
      "source": [
        "result = genetic_algorithm()"
      ]
    },
    {
      "cell_type": "code",
      "execution_count": null,
      "metadata": {
        "id": "1TpbgBVwoVA1"
      },
      "outputs": [],
      "source": [
        "def calculate_distance(cities, solution):\n",
        "    total_distance = 0\n",
        "    for i in range(len(solution) - 1):\n",
        "        city1 = cities[solution[i]]\n",
        "        city2 = cities[solution[i + 1]]\n",
        "        distance = ((city1[1] - city2[1])**2 + (city1[2] - city2[2])**2)**0.5\n",
        "        total_distance += distance\n",
        "    return total_distance\n",
        "\n",
        "def generate_individual(cities):\n",
        "    return random.sample(range(len(cities)), len(cities))\n",
        "\n",
        "def generate_population(cities, size):\n",
        "    return [generate_individual(cities) for _ in range(size)]\n",
        "\n",
        "def crossover(parent1, parent2):\n",
        "    child = parent1[:len(parent1)//2]\n",
        "    child += [gene for gene in parent2 if gene not in child]\n",
        "    return child\n",
        "\n",
        "def mutate(individual):\n",
        "    index1 = random.randint(0, len(individual) - 1)\n",
        "    index2 = random.randint(0, len(individual) - 1)\n",
        "    individual[index1], individual[index2] = individual[index2], individual[index1]\n",
        "\n",
        "def genetic_algorithm(cities, pop_size, generations):\n",
        "    population = generate_population(cities, pop_size)\n",
        "    for _ in range(generations):\n",
        "        population.sort(key=lambda x: calculate_distance(cities, x))\n",
        "        if calculate_distance(cities, population[0]) == calculate_distance(cities, population[1]):\n",
        "            break\n",
        "        next_gen = population[:pop_size//2]\n",
        "        for i in range(pop_size//2, pop_size, 2):\n",
        "            parent1 = random.choice(next_gen)\n",
        "            parent2 = random.choice(next_gen)\n",
        "            child1 = crossover(parent1, parent2)\n",
        "            child2 = crossover(parent2, parent1)\n",
        "            if random.random() < 0.1:\n",
        "                mutate(child1)\n",
        "            if random.random() < 0.1:\n",
        "                mutate(child2)\n",
        "            next_gen += [child1, child2]\n",
        "        population = next_gen\n",
        "    return population[0]\n"
      ]
    }
  ],
  "metadata": {
    "accelerator": "GPU",
    "colab": {
      "gpuType": "T4",
      "provenance": []
    },
    "kernelspec": {
      "display_name": "Python 3",
      "name": "python3"
    },
    "language_info": {
      "codemirror_mode": {
        "name": "ipython",
        "version": 3
      },
      "file_extension": ".py",
      "mimetype": "text/x-python",
      "name": "python",
      "nbconvert_exporter": "python",
      "pygments_lexer": "ipython3",
      "version": "3.11.5"
    }
  },
  "nbformat": 4,
  "nbformat_minor": 0
}
