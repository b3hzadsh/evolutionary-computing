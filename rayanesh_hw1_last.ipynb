{
  "cells": [
    {
      "cell_type": "code",
      "execution_count": 1,
      "metadata": {
        "id": "cQck8m_SDiU5"
      },
      "outputs": [],
      "source": [
        "import numpy as np\n",
        "import random\n",
        "import math\n",
        "import random\n",
        "import telebot"
      ]
    },
    {
      "cell_type": "code",
      "execution_count": 2,
      "metadata": {
        "id": "5nrhxh9FvbCj"
      },
      "outputs": [],
      "source": [
        "def randomGeneration():\n",
        "  return np.random.permutation(100)"
      ]
    },
    {
      "cell_type": "code",
      "execution_count": 3,
      "metadata": {
        "id": "FjgKqdbJqoog"
      },
      "outputs": [],
      "source": [
        "def read_city_data(filename):\n",
        "    city_data = []\n",
        "    with open(filename, 'r') as f:\n",
        "        for line in f:\n",
        "            city, lat, lon = line.strip().split(' ')\n",
        "            city_data.append([city, int(lat), int(lon)])\n",
        "            # check city is good verification \n",
        "            # id , lat (x), long(y) in array\n",
        "    return city_data"
      ]
    },
    {
      "cell_type": "code",
      "execution_count": 4,
      "metadata": {},
      "outputs": [
        {
          "name": "stdout",
          "output_type": "stream",
          "text": [
            "100\n"
          ]
        }
      ],
      "source": [
        "city_data = read_city_data('city-cor.txt')\n",
        "print(len(city_data))\n",
        "# for city, lat, lon in city_data:\n",
        "#     print(f\"City: {city}, Latitude: {lat}, Longitude: {lon}\")"
      ]
    },
    {
      "cell_type": "code",
      "execution_count": 5,
      "metadata": {},
      "outputs": [],
      "source": [
        "def read_city_answer(filename):\n",
        "    city_answer = []\n",
        "    with open(filename, 'r') as f:\n",
        "        for line in f:\n",
        "            city_index = int(line)\n",
        "            city_answer.append(city_index)\n",
        "            # id , lat (x), long(y) in tupple\n",
        "    return city_answer"
      ]
    },
    {
      "cell_type": "code",
      "execution_count": 6,
      "metadata": {
        "id": "vfQYM639q3e_"
      },
      "outputs": [
        {
          "data": {
            "text/plain": [
              "[1,\n",
              " 47,\n",
              " 93,\n",
              " 28,\n",
              " 67,\n",
              " 58,\n",
              " 61,\n",
              " 51,\n",
              " 87,\n",
              " 25,\n",
              " 81,\n",
              " 69,\n",
              " 64,\n",
              " 40,\n",
              " 54,\n",
              " 2,\n",
              " 44,\n",
              " 50,\n",
              " 73,\n",
              " 68,\n",
              " 85,\n",
              " 82,\n",
              " 95,\n",
              " 13,\n",
              " 76,\n",
              " 33,\n",
              " 37,\n",
              " 5,\n",
              " 52,\n",
              " 78,\n",
              " 96,\n",
              " 39,\n",
              " 30,\n",
              " 48,\n",
              " 100,\n",
              " 41,\n",
              " 71,\n",
              " 14,\n",
              " 3,\n",
              " 43,\n",
              " 46,\n",
              " 29,\n",
              " 34,\n",
              " 83,\n",
              " 55,\n",
              " 7,\n",
              " 9,\n",
              " 57,\n",
              " 20,\n",
              " 12,\n",
              " 27,\n",
              " 86,\n",
              " 35,\n",
              " 62,\n",
              " 60,\n",
              " 77,\n",
              " 23,\n",
              " 98,\n",
              " 91,\n",
              " 45,\n",
              " 32,\n",
              " 11,\n",
              " 15,\n",
              " 17,\n",
              " 59,\n",
              " 74,\n",
              " 21,\n",
              " 72,\n",
              " 10,\n",
              " 84,\n",
              " 36,\n",
              " 99,\n",
              " 38,\n",
              " 24,\n",
              " 18,\n",
              " 79,\n",
              " 53,\n",
              " 88,\n",
              " 16,\n",
              " 94,\n",
              " 22,\n",
              " 70,\n",
              " 66,\n",
              " 26,\n",
              " 65,\n",
              " 4,\n",
              " 97,\n",
              " 56,\n",
              " 80,\n",
              " 31,\n",
              " 89,\n",
              " 42,\n",
              " 8,\n",
              " 92,\n",
              " 75,\n",
              " 19,\n",
              " 90,\n",
              " 49,\n",
              " 6,\n",
              " 63]"
            ]
          },
          "execution_count": 6,
          "metadata": {},
          "output_type": "execute_result"
        }
      ],
      "source": [
        "city_ans = read_city_answer('answer.txt')\n",
        "city_ans"
      ]
    },
    {
      "cell_type": "code",
      "execution_count": 7,
      "metadata": {
        "colab": {
          "base_uri": "https://localhost:8080/"
        },
        "id": "lc4akb2-NTqH",
        "outputId": "b54707fa-8339-4350-8909-c68520896571"
      },
      "outputs": [
        {
          "name": "stdout",
          "output_type": "stream",
          "text": [
            "['1', 1380, 939]\n"
          ]
        }
      ],
      "source": [
        "print(city_data[0])"
      ]
    },
    {
      "cell_type": "code",
      "execution_count": 8,
      "metadata": {
        "id": "GtWXCDuKr7hu"
      },
      "outputs": [],
      "source": [
        "def generate_random_chromosomes(population_size):\n",
        "    chromosomes = []\n",
        "    for _ in range(population_size):\n",
        "        chromosome = randomGeneration()\n",
        "        # random.shuffle(chromosome)\n",
        "        chromosomes.append(chromosome)\n",
        "    return chromosomes"
      ]
    },
    {
      "cell_type": "code",
      "execution_count": 9,
      "metadata": {},
      "outputs": [],
      "source": [
        "def calculate_fitness_np(chromosome, cities=city_data):\n",
        "    if len(chromosome) != 100 :\n",
        "        print('wrong chromosome length')\n",
        "        raise ValueError\n",
        "\n",
        "    total_distance = 0\n",
        "    for i in range(100):\n",
        "        city1_index = chromosome[i-1]\n",
        "        city2_index = chromosome[i]\n",
        "        \n",
        "        city1 = np.array(cities[city1_index-1][1:])\n",
        "        city2 = np.array(cities[city2_index-1][1:])\n",
        "        \n",
        "        distance = np.linalg.norm(city1 - city2)\n",
        "        total_distance += distance\n",
        "\n",
        "    return int(total_distance // 1)"
      ]
    },
    {
      "cell_type": "code",
      "execution_count": 10,
      "metadata": {},
      "outputs": [
        {
          "data": {
            "text/plain": [
              "21285"
            ]
          },
          "execution_count": 10,
          "metadata": {},
          "output_type": "execute_result"
        }
      ],
      "source": [
        "calculate_fitness_np(city_ans)"
      ]
    },
    {
      "cell_type": "code",
      "execution_count": 11,
      "metadata": {},
      "outputs": [
        {
          "name": "stdout",
          "output_type": "stream",
          "text": [
            "[ 9 92 80  1 61 19 24 17 58 62 27 42 67 89 48 29 14 49 95 90 25  6 22 99\n",
            " 69 91 50 44 39 53 15 87 81 16 82 28 77 79 65 78  5 74  7 54 64 40 93 12\n",
            " 63 84 33 70 20 56 51 21 30 31 47 52 96  3 71 38 57 23 86 72 60 32  0 75\n",
            " 45  8 35 43 37 83 88 55 34 41 66 26 73 85 36 59  4 11 76 97  2 46 13 94\n",
            " 98 68 18 10]\n"
          ]
        }
      ],
      "source": [
        "population = generate_random_chromosomes(500)\n",
        "print(population[0])"
      ]
    },
    {
      "cell_type": "code",
      "execution_count": 13,
      "metadata": {},
      "outputs": [],
      "source": [
        "fitness_values = np.array([calculate_fitness_np(chromosome, cities=city_data) for chromosome in population])"
      ]
    },
    {
      "cell_type": "code",
      "execution_count": 15,
      "metadata": {},
      "outputs": [],
      "source": [
        "def permutation_parent_selection(population, fitness_values, selection_method=\"roulette_wheel\"):\n",
        "  \"\"\"Selects parents for a genetic algorithm using permutation representation.\n",
        "\n",
        "  Args:\n",
        "    population: A list of chromosomes in permutation representation.\n",
        "    fitness_values: A list of fitness values for each chromosome in the population.\n",
        "    selection_method: The parent selection method to use. Supported methods are\n",
        "      \"roulette_wheel\" and \"tournament\".\n",
        "\n",
        "  Returns:\n",
        "    A tuple of two chromosomes selected as parents.\n",
        "  \"\"\"\n",
        "\n",
        "  if selection_method == \"roulette_wheel\":\n",
        "    return roulette_wheel_permutation_parent_selection(population, fitness_values)\n",
        "  elif selection_method == \"tournament\":\n",
        "    return tournament_permutation_parent_selection(population, fitness_values)\n",
        "  else:\n",
        "    raise ValueError(\"Unsupported parent selection method: {}\".format(selection_method))\n",
        "\n",
        "\n",
        "def roulette_wheel_permutation_parent_selection(population, fitness_values):\n",
        "  \"\"\"Selects parents using roulette wheel selection for permutation representation.\n",
        "\n",
        "  Args:\n",
        "    population: A list of chromosomes in permutation representation.\n",
        "    fitness_values: A list of fitness values for each chromosome in the population.\n",
        "\n",
        "  Returns:\n",
        "    A tuple of two chromosomes selected as parents.\n",
        "  \"\"\"\n",
        "\n",
        "  total_fitness = np.sum(fitness_values)\n",
        "  fitness_probabilities = fitness_values / total_fitness\n",
        "  cumulative_probabilities = np.cumsum(fitness_probabilities)\n",
        "\n",
        "  random_value = random.random()\n",
        "  parent1_index = 0\n",
        "  for i, probability in enumerate(cumulative_probabilities):\n",
        "    if random_value < probability:\n",
        "      parent1 = population[i]\n",
        "      break\n",
        "\n",
        "  random_value = random.random()\n",
        "  parent2_index = 0\n",
        "  for i, probability in enumerate(cumulative_probabilities):\n",
        "    if random_value < probability:\n",
        "      parent2 = population[i]\n",
        "      break\n",
        "\n",
        "  return parent1, parent2\n",
        "\n",
        "\n",
        "def tournament_permutation_parent_selection(population, fitness_values, tournament_size=2):\n",
        "  \"\"\"Selects parents using tournament selection for permutation representation.\n",
        "\n",
        "  Args:\n",
        "    population: A list of chromosomes in permutation representation.\n",
        "    fitness_values: A list of fitness values for each chromosome in the population.\n",
        "    tournament_size: The size of the tournament.\n",
        "\n",
        "  Returns:\n",
        "    A tuple of two chromosomes selected as parents.\n",
        "  \"\"\"\n",
        "\n",
        "  parent1 = None\n",
        "  parent2 = None\n",
        "\n",
        "  for _ in range(tournament_size):\n",
        "    random_index = random.randint(0, len(population) - 1)\n",
        "\n",
        "    if parent1 is None or fitness_values[random_index] > fitness_values[parent1]:\n",
        "      parent1 = population[random_index]\n",
        "\n",
        "    if parent2 is None or fitness_values[random_index] > fitness_values[parent2]:\n",
        "      parent2 = population[random_index]\n",
        "\n",
        "  return parent1, parent2\n"
      ]
    },
    {
      "cell_type": "code",
      "execution_count": 16,
      "metadata": {},
      "outputs": [
        {
          "data": {
            "text/plain": [
              "(array([34, 75, 56,  8, 39, 93, 31, 52, 61, 40, 47,  2, 85, 87,  7, 11, 32,\n",
              "        10, 70, 90, 80, 59, 26, 54, 81, 76, 71, 97, 60, 17, 83, 74, 49, 96,\n",
              "        92, 64, 19, 82, 95, 77, 44, 58, 14, 41, 25, 63,  4, 51, 98, 29, 12,\n",
              "        94, 21, 43,  5, 24, 37, 48, 86, 78, 89, 99,  1, 16, 68, 42, 33, 22,\n",
              "        62, 13, 20,  9,  0, 79, 65, 35, 69, 55, 18, 72,  6,  3, 38, 30, 23,\n",
              "        88, 73, 66, 45, 15, 28, 50, 53, 91, 67, 46, 57, 27, 36, 84]),\n",
              " array([88, 98, 37, 42, 18, 85, 59,  9, 60, 84, 80, 13, 16, 99, 36, 44, 66,\n",
              "        62, 79, 14, 24, 12, 49, 31, 75, 96, 38, 76, 11, 74, 55, 89, 35,  8,\n",
              "        68, 86,  2, 95, 90, 17,  1,  0, 20, 64, 67, 23,  4, 28, 41, 54,  7,\n",
              "        32, 40, 21, 58, 29, 30, 69, 65, 71, 78, 87, 56, 46, 22, 47, 82, 19,\n",
              "        27, 63, 26, 73, 51, 72, 61, 94, 52, 34, 93,  3, 10,  5, 39, 92, 77,\n",
              "        15, 25, 97, 83, 70, 45, 81, 33,  6, 43, 91, 50, 57, 48, 53]))"
            ]
          },
          "execution_count": 16,
          "metadata": {},
          "output_type": "execute_result"
        }
      ],
      "source": [
        "roulette_wheel_permutation_parent_selection(population=population, fitness_values=fitness_values)"
      ]
    },
    {
      "cell_type": "code",
      "execution_count": 17,
      "metadata": {},
      "outputs": [
        {
          "name": "stdout",
          "output_type": "stream",
          "text": [
            "Parent 1: [1 3 8 7 4 6 9 2 5 0]\n",
            "Parent 2: [8 3 6 4 0 7 1 9 2 5]\n",
            "Offspring 1: [8 3 0 7 4 6 1 9 2 5]\n",
            "Offspring 2: [1 3 8 4 0 7 9 2 5 6]\n"
          ]
        }
      ],
      "source": [
        "def PMX_crossover(parent1, parent2, seed):\n",
        "    # key = random.PRNGKey(72)\n",
        "    '''\n",
        "    parent1 and parent2 are 1D np.array\n",
        "    '''\n",
        "    rng = np.random.default_rng(seed=seed)\n",
        "\n",
        "    cutoff_1, cutoff_2 = np.sort(rng.choice(np.arange(len(parent1)+1), size=2, replace=False))\n",
        "\n",
        "    def PMX_one_offspring(p1, p2):\n",
        "        offspring = np.zeros(len(p1), dtype=p1.dtype)\n",
        "\n",
        "        # Copy the mapping section (middle) from parent1\n",
        "        offspring[cutoff_1:cutoff_2] = p1[cutoff_1:cutoff_2]\n",
        "\n",
        "        # copy the rest from parent2 (provided it's not already there\n",
        "        for i in np.concatenate([np.arange(0,cutoff_1), np.arange(cutoff_2,len(p1))]):\n",
        "            candidate = p2[i]\n",
        "            while candidate in p1[cutoff_1:cutoff_2]: # allows for several successive mappings\n",
        "                # print(f\"Candidate {candidate} not valid in position {i}\") # DEBUGONLY\n",
        "                candidate = p2[np.where(p1 == candidate)[0][0]]\n",
        "            offspring[i] = candidate\n",
        "        return offspring\n",
        "\n",
        "    offspring1 = PMX_one_offspring(parent1, parent2)\n",
        "    offspring2 = PMX_one_offspring(parent2, parent1)\n",
        "\n",
        "    return offspring1, offspring2\n",
        "parent1 = np.random.permutation(10)\n",
        "parent2 = np.random.permutation(10)\n",
        "# Print the parents\n",
        "print(\"Parent 1:\", parent1)\n",
        "print(\"Parent 2:\", parent2)\n",
        "# Apply PMX and print the offspring\n",
        "offspring1, offspring2 = PMX_crossover(parent1, parent2,313)\n",
        "print(\"Offspring 1:\", offspring1)\n",
        "print(\"Offspring 2:\", offspring2)"
      ]
    },
    {
      "cell_type": "code",
      "execution_count": 18,
      "metadata": {},
      "outputs": [
        {
          "name": "stdout",
          "output_type": "stream",
          "text": [
            "Offspring 1: [38 41 97 11 68 44 13 99  2  0 89 24 86 94 98 53  6 62 26 67 15 45  8 90\n",
            " 61 60 59 39 50 35 76 87 81 16 82 28 77 79 65 78  5 74  7 54 64 40 93 12\n",
            " 63 84 33 70 20 56 51 21 30 31 47 52 96  3 71 18 58 49 69  9 37 22 73 14\n",
            " 55 83 80 32 27 91 48 43 36 25  1 42 23 92 95 10 75 19 17  4 88 66 34 29\n",
            " 57 46 85 72]\n",
            "Offspring 2: [20 92 80  1 61 65 24 17 31 62 27 81 67 89  3 29 16 49 77 21 56  6 22 99\n",
            " 64 78 50 12 39 93 15  8 42 84  7 87 95 96 51 70 36 23 60 57 69 44 53 40\n",
            " 13 14 54 91  9 25 19 90 88 58 30 11 55 48 63 38 33 74 86 72 82 32  0 75\n",
            " 45 28 35 43 37 83 47 79 34 41 66 26 73 85  5 59  4 52 76 97  2 46 71 94\n",
            " 98 68 18 10]\n"
          ]
        }
      ],
      "source": [
        "offspring1, offspring2 = PMX_crossover(population[0], population[1],313)\n",
        "print(\"Offspring 1:\", offspring1)\n",
        "print(\"Offspring 2:\", offspring2)"
      ]
    },
    {
      "cell_type": "code",
      "execution_count": 19,
      "metadata": {},
      "outputs": [
        {
          "name": "stdout",
          "output_type": "stream",
          "text": [
            "Offspring 1: [ 9 92 80  1 61 19 24 17 58 49 27 42 90 94 98 93  6 62 26 67 15 45 28 99\n",
            " 69 91 50 44 39 53 25 87 81 16 82 22 77 79 65 78  5 74  7 54 64 40 29 12\n",
            " 63 84 33 70 20 56 51 21 30 31 47 52 96  3 71 38 57 23 86 72 60 32  0 75\n",
            " 14  8 35 43 37 83 88 55 34 41 66 95 73 85 36 59  4 11 76 97  2 46 13 89\n",
            " 48 68 18 10]\n",
            "Offspring 2: [38 41 97 52 68 12 71 99  2  0 94 24 86 89 48 29 45 49 95 90 25 14 22 21\n",
            " 61 82 59 39 50 35 76  8 42 84  7 87 26 96 51 70 36 23 60 57 69 44 53 40\n",
            " 13  6 54 91  9 15 19 67 88 58 30 11 55 98 63 18 31 62 64 20 37 28 73 16\n",
            " 79 83 80 32 27 78  3 43  5 56  1 81 74 92 77 10 75 65 17  4 47 66 34 93\n",
            " 33 46 85 72]\n"
          ]
        }
      ],
      "source": [
        "def cxPartialyMatched(ind1, ind2):\n",
        "    size = min(len(ind1), len(ind2))\n",
        "    p1, p2 = [0] * size, [0] * size\n",
        "\n",
        "    # Initialize the position of each indices in the individuals\n",
        "    for i in range(size):\n",
        "        p1[ind1[i]] = i\n",
        "        p2[ind2[i]] = i\n",
        "    # Choose crossover points\n",
        "    cxpoint1 = random.randint(0, size)\n",
        "    cxpoint2 = random.randint(0, size - 1)\n",
        "    if cxpoint2 >= cxpoint1:\n",
        "        cxpoint2 += 1\n",
        "    else:  # Swap the two cx points\n",
        "        cxpoint1, cxpoint2 = cxpoint2, cxpoint1\n",
        "\n",
        "    # Apply crossover between cx points\n",
        "    for i in range(cxpoint1, cxpoint2):\n",
        "        # Keep track of the selected values\n",
        "        temp1 = ind1[i]\n",
        "        temp2 = ind2[i]\n",
        "        # Swap the matched value\n",
        "        ind1[i], ind1[p1[temp2]] = temp2, temp1\n",
        "        ind2[i], ind2[p2[temp1]] = temp1, temp2\n",
        "        # Position bookkeeping\n",
        "        p1[temp1], p1[temp2] = p1[temp2], p1[temp1]\n",
        "        p2[temp1], p2[temp2] = p2[temp2], p2[temp1]\n",
        "\n",
        "    return ind1, ind2\n",
        "offspring1, offspring2 = cxPartialyMatched(population[0], population[1])\n",
        "print(\"Offspring 1:\", offspring1)\n",
        "print(\"Offspring 2:\", offspring2)"
      ]
    },
    {
      "cell_type": "code",
      "execution_count": 61,
      "metadata": {
        "id": "9d97-TFO4FYQ"
      },
      "outputs": [],
      "source": [
        "# def erx_crossover(parent1, parent2):\n",
        "#     \"\"\"Performs Edge Recombination Crossover (ERX) on two chromosomes.\n",
        "\n",
        "#     Args:\n",
        "#         parent1: The first parent chromosome.\n",
        "#         parent2: The second parent chromosome.\n",
        "\n",
        "#     Returns:\n",
        "#         A new chromosome resulting from the crossover.\n",
        "#     \"\"\"\n",
        "\n",
        "#     offspring = []\n",
        "#     visited = set()\n",
        "\n",
        "#     # Start from a random gene in parent1\n",
        "#     gene = random.choice(parent1)\n",
        "#     offspring.append(gene)\n",
        "#     visited.add(gene)\n",
        "\n",
        "#     while len(offspring) < len(parent1):\n",
        "#         # Find the next gene to add\n",
        "#         next_gene = None\n",
        "\n",
        "#         # Check if the next gene in parent2 is not in the visited set\n",
        "#         next_gene_in_parent2 = parent2[(parent1.index(gene) + 1) % len(parent1)]\n",
        "#         if next_gene_in_parent2 not in visited:\n",
        "#             next_gene = next_gene_in_parent2\n",
        "\n",
        "#         # Check if the next gene in parent1 is not in the visited set\n",
        "#         if next_gene is None:\n",
        "#             next_gene_in_parent1 = parent1[(parent2.index(gene) + 1) % len(parent2)]\n",
        "#             if next_gene_in_parent1 not in visited:\n",
        "#                 next_gene = next_gene_in_parent1\n",
        "\n",
        "#         # If no valid next gene found, break\n",
        "#         if next_gene is None:\n",
        "#             break\n",
        "\n",
        "#         # Add the next gene to the offspring and mark it as visited\n",
        "#         offspring.append(next_gene)\n",
        "#         visited.add(next_gene)\n",
        "\n",
        "#         # Update the current gene\n",
        "#         gene = next_gene\n",
        "\n",
        "#     return offspring"
      ]
    },
    {
      "cell_type": "code",
      "execution_count": 69,
      "metadata": {},
      "outputs": [],
      "source": [
        "import numpy as np\n",
        "import random\n",
        "\n",
        "def erx_crossover(parent1, parent2):\n",
        "    \"\"\"Performs Edge Recombination Crossover (ERX) on two chromosomes.\n",
        "\n",
        "    Args:\n",
        "        parent1: The first parent chromosome.\n",
        "        parent2: The second parent chromosome.\n",
        "\n",
        "    Returns:\n",
        "        A new chromosome resulting from the crossover.\n",
        "    \"\"\"\n",
        "\n",
        "    offspring = []\n",
        "    visited = set()\n",
        "\n",
        "    # Convert the parents to numpy arrays\n",
        "    parent1 = np.array(parent1)\n",
        "    parent2 = np.array(parent2)\n",
        "\n",
        "    # Start from a random gene in parent1\n",
        "    gene = random.choice(parent1)\n",
        "    offspring.append(gene)\n",
        "    visited.add(gene)\n",
        "\n",
        "    while len(offspring) < len(parent1):\n",
        "        # Find the next gene to add\n",
        "        next_gene = None\n",
        "\n",
        "        # Check if the next gene in parent2 is not in the visited set\n",
        "        next_gene_in_parent2 = parent2[(np.where(parent1 == gene)[0][0] + 1) % len(parent1)]\n",
        "        if next_gene_in_parent2 not in visited:\n",
        "            next_gene = next_gene_in_parent2\n",
        "\n",
        "        # Check if the next gene in parent1 is not in the visited set\n",
        "        if next_gene is None:\n",
        "            next_gene_in_parent1 = parent1[(np.where(parent2 == gene)[0][0] + 1) % len(parent2)]\n",
        "            if next_gene_in_parent1 not in visited:\n",
        "                next_gene = next_gene_in_parent1\n",
        "\n",
        "        # If no valid next gene found, choose a random gene from the remaining ones\n",
        "        if next_gene is None:\n",
        "            remaining_genes = np.setdiff1d(parent1, offspring)\n",
        "            next_gene = random.choice(remaining_genes)\n",
        "\n",
        "        # Add the next gene to the offspring and mark it as visited\n",
        "        offspring.append(next_gene)\n",
        "        visited.add(next_gene)\n",
        "\n",
        "        # Update the current gene\n",
        "        gene = next_gene\n",
        "\n",
        "    return offspring\n"
      ]
    },
    {
      "cell_type": "code",
      "execution_count": 68,
      "metadata": {},
      "outputs": [
        {
          "name": "stdout",
          "output_type": "stream",
          "text": [
            "Offspring 2: [87, 42, 86, 20, 15, 14, 83, 3, 63, 6, 49, 94, 48, 46, 34, 56, 19, 71, 18, 72, 37, 78, 36, 10, 38, 31, 30, 58, 0, 16, 7, 57, 62, 95, 74, 60, 28, 21, 88, 43, 27, 24, 99, 61, 12, 13, 93, 45, 22, 26, 90, 89, 33, 91, 59, 75, 79, 51, 67, 25, 8, 80, 52, 55, 5, 23, 64, 44, 50, 39, 35, 32, 73, 92, 97, 47, 11, 17, 2, 66, 81, 84, 54, 69, 82, 41, 1, 68, 85, 77, 96, 98, 29, 40, 53, 76, 4, 65, 70, 9]\n"
          ]
        }
      ],
      "source": [
        "offspring2 = erx_crossover(population[0], population[1])\n",
        "# print(\"Offspring 1:\", offspring1)\n",
        "print(\"Offspring 2:\", (offspring2))"
      ]
    },
    {
      "cell_type": "code",
      "execution_count": 81,
      "metadata": {},
      "outputs": [
        {
          "name": "stdout",
          "output_type": "stream",
          "text": [
            "Offspring 2: [62 20 37 28 73 83 80 32 27  3 43 56  1 92 10 75 17  4 47 66 34 93 33 46\n",
            " 85 72 50 44 39 53 25 87 81 16 82 22 77 79 65 78  5 74  7 54 64 40 29 38\n",
            " 41 97 52 68 12 71 99  2  0 94 24 86 89 48 45 49 95 90 14 21 61 59 35 76\n",
            "  8 42 84 26 96 51 70 36 23 60 57 69 13  6 91  9 15 19 67 88 58 30 11 55\n",
            " 98 63 18 31]\n"
          ]
        }
      ],
      "source": [
        "import numpy as np\n",
        "import random\n",
        "\n",
        "def order_crossover(parent1, parent2):\n",
        "    \"\"\"Performs Order Crossover (OX1) on two chromosomes.\n",
        "\n",
        "    Args:\n",
        "        parent1: The first parent chromosome.\n",
        "        parent2: The second parent chromosome.\n",
        "\n",
        "    Returns:\n",
        "        A new chromosome resulting from the crossover.\n",
        "    \"\"\"\n",
        "\n",
        "    offspring = np.empty_like(parent1)\n",
        "\n",
        "    # Select a random swath of consecutive alleles from parent 1\n",
        "    start = random.randint(0, len(parent1) - 1)\n",
        "    end = random.randint(start + 1, len(parent1))\n",
        "    swath = parent1[start:end]\n",
        "\n",
        "    # Copy the swath to the offspring\n",
        "    offspring[start:end] = swath\n",
        "\n",
        "    # Mark out these alleles in parent 2\n",
        "    marked = np.isin(parent2, swath)\n",
        "\n",
        "    # Starting from the right side of the swath, grab alleles from parent 2 and insert them in the offspring\n",
        "    index = end % len(parent1)\n",
        "    for i in range(len(parent1)):\n",
        "        if not marked[i]:\n",
        "            offspring[index] = parent2[i]\n",
        "            index = (index + 1) % len(parent1)\n",
        "\n",
        "    return offspring\n",
        "offspring2 = order_crossover(population[0], population[1])\n",
        "# print(\"Offspring 1:\", offspring1)\n",
        "print(\"Offspring 2:\", (offspring2))\n"
      ]
    },
    {
      "cell_type": "code",
      "execution_count": 101,
      "metadata": {},
      "outputs": [
        {
          "name": "stdout",
          "output_type": "stream",
          "text": [
            "Offspring 2: 100\n"
          ]
        }
      ],
      "source": [
        "import numpy as np\n",
        "\n",
        "def cycle_crossover(parent1, parent2):\n",
        "    \"\"\"\n",
        "    Perform cycle crossover on two parents.\n",
        "    \"\"\"\n",
        "\n",
        "    # Initialize child with -1s\n",
        "    child = np.full_like(parent1, -1)\n",
        "\n",
        "    # Select a random starting index\n",
        "    idx = np.random.randint(0, len(parent1))\n",
        "\n",
        "    # Perform cycle crossover\n",
        "    while child[idx] == -1:\n",
        "        child[idx] = parent1[idx]\n",
        "        idx = np.where(parent2 == parent1[idx])[0][0]\n",
        "\n",
        "    # Fill in the remaining values\n",
        "    for i in range(len(child)):\n",
        "        if child[i] == -1:\n",
        "            child[i] = parent2[i]\n",
        "\n",
        "    return child.tolist()\n",
        "offspring2 = cycle_crossover(population[0], population[1])\n",
        "# print(\"Offspring 1:\", offspring1)\n",
        "print(\"Offspring 2:\", len(offspring2))\n"
      ]
    },
    {
      "cell_type": "code",
      "execution_count": 97,
      "metadata": {
        "id": "j9YH4M5C4gBe"
      },
      "outputs": [],
      "source": [
        "def ox_crossover(parent1, parent2):\n",
        "    \"\"\"Performs Order Crossover (OX) on two chromosomes.\n",
        "\n",
        "    Args:\n",
        "        parent1: The first parent chromosome.\n",
        "        parent2: The second parent chromosome.\n",
        "\n",
        "    Returns:\n",
        "        A new chromosome resulting from the crossover.\n",
        "    \"\"\"\n",
        "\n",
        "    crossover_points = random.sample(range(1, len(parent1)), 2)\n",
        "    slice_start, slice_end = crossover_points[0], crossover_points[1]\n",
        "\n",
        "    slice1 = parent1[slice_start:slice_end]\n",
        "    remaining_genes1 = set(parent1) - set(slice1)\n",
        "\n",
        "    mapping = {}\n",
        "    for i in range(slice_start, slice_end):\n",
        "        gene1 = parent1[i]\n",
        "        gene2 = parent2[i]\n",
        "\n",
        "        if gene1 in remaining_genes1:\n",
        "            mapping[gene1] = gene2\n",
        "            remaining_genes1.remove(gene1)\n",
        "\n",
        "    offspring = []\n",
        "    for gene in parent2:\n",
        "        if gene in mapping:\n",
        "            offspring.append(mapping[gene])\n",
        "        elif gene not in slice1:\n",
        "            offspring.append(gene)\n",
        "\n",
        "    for gene in slice1:\n",
        "        offspring.append(gene)\n",
        "\n",
        "    return offspring"
      ]
    },
    {
      "cell_type": "code",
      "execution_count": 20,
      "metadata": {
        "id": "tyOnoWxo5BkQ"
      },
      "outputs": [],
      "source": [
        "def cycle_crossover(parent1, parent2):\n",
        "    \"\"\"\n",
        "    Performs Cycle Crossover (CX) on two chromosomes.\n",
        "\n",
        "    Args:\n",
        "        parent1: The first parent chromosome.\n",
        "        parent2: The second parent chromosome.\n",
        "\n",
        "    Returns:\n",
        "        A new chromosome resulting from the crossover.\n",
        "    \"\"\"\n",
        "\n",
        "    cycle_start = random.randrange(len(parent1))\n",
        "    cycle_genes1 = set(parent1[cycle_start:])\n",
        "    cycle_genes2 = set(parent2[cycle_start:])\n",
        "\n",
        "    offspring = list(parent1[:cycle_start])\n",
        "    for gene in parent2:\n",
        "        if gene in cycle_genes1:\n",
        "            offspring.append(gene)\n",
        "            cycle_genes1.remove(gene)\n",
        "\n",
        "            if not cycle_genes1:\n",
        "                break\n",
        "        else:\n",
        "            cycle_genes2.add(gene)\n",
        "\n",
        "    for gene in cycle_genes2:\n",
        "        offspring.append(gene)\n",
        "\n",
        "    return offspring"
      ]
    },
    {
      "cell_type": "code",
      "execution_count": 21,
      "metadata": {
        "id": "oTKNWjXf5dUP"
      },
      "outputs": [],
      "source": [
        "def swap_mutation(chromosome):\n",
        "    i, j = random.sample(range(len(chromosome)), 2)\n",
        "    chromosome[i], chromosome[j] = chromosome[j], chromosome[i]\n",
        "    return chromosome"
      ]
    },
    {
      "cell_type": "code",
      "execution_count": 22,
      "metadata": {},
      "outputs": [
        {
          "data": {
            "text/plain": [
              "[1, 2, 5, 4, 3]"
            ]
          },
          "execution_count": 22,
          "metadata": {},
          "output_type": "execute_result"
        }
      ],
      "source": [
        "original_chromosome = [1, 2, 3, 4, 5]\n",
        "swap_mutation(original_chromosome)"
      ]
    },
    {
      "cell_type": "code",
      "execution_count": 23,
      "metadata": {
        "id": "byt6rXjr5x2P"
      },
      "outputs": [],
      "source": [
        "def scramble_mutation(chromosome):\n",
        "    mutation_length = random.randrange(2, len(chromosome))\n",
        "    start_index = random.randrange(len(chromosome) - mutation_length)\n",
        "\n",
        "    sub_chromosome = chromosome[start_index:start_index + mutation_length]\n",
        "    random.shuffle(sub_chromosome)\n",
        "    chromosome[start_index:start_index + mutation_length] = sub_chromosome\n",
        "\n",
        "    return chromosome"
      ]
    },
    {
      "cell_type": "code",
      "execution_count": 24,
      "metadata": {},
      "outputs": [
        {
          "data": {
            "text/plain": [
              "[2, 1, 5, 4, 3, 8, 6, 7, 9]"
            ]
          },
          "execution_count": 24,
          "metadata": {},
          "output_type": "execute_result"
        }
      ],
      "source": [
        "scramble_mutation([2,1,5,4,3,8,6,7,9])"
      ]
    },
    {
      "cell_type": "code",
      "execution_count": 25,
      "metadata": {
        "id": "mE49sOoq52kv"
      },
      "outputs": [],
      "source": [
        "# def insert_mutation(chromosome):\n",
        "#     i = random.randrange(len(chromosome))\n",
        "#     j = random.randrange(len(chromosome))\n",
        "\n",
        "#     if i != j:\n",
        "#         gene = chromosome.pop(i)\n",
        "#         chromosome.insert(j, gene)\n",
        "\n",
        "#     return chromosome\n",
        "def insert_mutation(chromosome):\n",
        "    i, j = np.random.choice(len(chromosome), 2, replace=False)\n",
        "    chromosome[j], chromosome[i] = chromosome[i], chromosome[j]\n",
        "    return chromosome\n"
      ]
    },
    {
      "cell_type": "code",
      "execution_count": 26,
      "metadata": {},
      "outputs": [
        {
          "data": {
            "text/plain": [
              "[1, -6, -3, 4, 5, -2, 7, 8, 9]"
            ]
          },
          "execution_count": 26,
          "metadata": {},
          "output_type": "execute_result"
        }
      ],
      "source": [
        "insert_mutation([1,-2,-3,4,5,-6,7,8,9])"
      ]
    },
    {
      "cell_type": "code",
      "execution_count": 27,
      "metadata": {
        "id": "C13zTU0X6MJn"
      },
      "outputs": [],
      "source": [
        "def inversion_mutation(chromosome):\n",
        "    \"\"\"Performs Inversion mutation on a chromosome.\n",
        "\n",
        "    Args:\n",
        "        chromosome: The chromosome to mutate.\n",
        "\n",
        "    Returns:\n",
        "        A mutated chromosome.\n",
        "    \"\"\"\n",
        "\n",
        "    mutation_length = random.randrange(2, len(chromosome))\n",
        "    start_index = random.randrange(len(chromosome) - mutation_length)\n",
        "\n",
        "    sub_chromosome = chromosome[start_index:start_index + mutation_length]\n",
        "    sub_chromosome.reverse()\n",
        "    chromosome[start_index:start_index + mutation_length] = sub_chromosome\n",
        "\n",
        "    return chromosome\n",
        "def inversion_mutation(permutation):\n",
        "  # randomly select two positions in the permutation\n",
        "  i, j = np.random.choice(len(permutation), size=2, replace=False)\n",
        "  # make sure i is smaller than j\n",
        "  if i > j:\n",
        "    i, j = j, i\n",
        "  # invert the segment between i and j\n",
        "  permutation[i:j+1] = permutation[i:j+1][::-1]\n",
        "  return permutation"
      ]
    },
    {
      "cell_type": "code",
      "execution_count": 30,
      "metadata": {},
      "outputs": [
        {
          "name": "stdout",
          "output_type": "stream",
          "text": [
            "[ 1  2  5  4  3  6  7  8  9 10]\n"
          ]
        }
      ],
      "source": [
        "def inversion_mutation(chromosome):\n",
        "  \"\"\"Performs inversion mutation on a permutation chromosome.\n",
        "\n",
        "  Args:\n",
        "    chromosome: A NumPy array of city indices in permutation representation.\n",
        "\n",
        "  Returns:\n",
        "    A NumPy array of city indices in permutation representation representing the mutated chromosome.\n",
        "  \"\"\"\n",
        "\n",
        "  # Select two random indices in the chromosome.\n",
        "  index1 = np.random.randint(0, len(chromosome))\n",
        "  index2 = np.random.randint(0, len(chromosome))\n",
        "\n",
        "  # Ensure that the two indices are different.\n",
        "  while index1 == index2:\n",
        "    index2 = np.random.randint(0, len(chromosome))\n",
        "\n",
        "  # Reverse the order of the genes between the two indices.\n",
        "  # print(type(chromosome[index1:index2 + 1]))\n",
        "  chromosome[index1:index2 + 1] = chromosome[index1:index2 + 1][::-1]\n",
        "\n",
        "  return chromosome\n",
        "\n",
        "\n",
        "# Fake data\n",
        "chromosome = np.array([1, 2, 3, 4, 5, 6, 7, 8, 9, 10])\n",
        "\n",
        "# Mutate the chromosome\n",
        "mutated_chromosome = inversion_mutation(chromosome)\n",
        "\n",
        "# Print the mutated chromosome\n",
        "print(mutated_chromosome)\n"
      ]
    },
    {
      "cell_type": "code",
      "execution_count": 31,
      "metadata": {},
      "outputs": [
        {
          "data": {
            "text/plain": [
              "False"
            ]
          },
          "execution_count": 31,
          "metadata": {},
          "output_type": "execute_result"
        }
      ],
      "source": [
        "def compare_max_values(array1, array2):\n",
        "  \"\"\"\n",
        "  check if first array has bigger max   \n",
        "  \"\"\"\n",
        "  min_value1 = np.min(array1)\n",
        "  min_value2 = np.min(array2)\n",
        "\n",
        "  if min_value1 < min_value2:\n",
        "    return False\n",
        "  else:\n",
        "    return True\n",
        "\n",
        "# Example usage\n",
        "array1 = np.array([1, 2, 3, 4, 5])\n",
        "array2 = np.array([6, 7, 8, 9, 10])\n",
        "\n",
        "compare_max_values(array1, array2)"
      ]
    },
    {
      "cell_type": "code",
      "execution_count": 102,
      "metadata": {
        "id": "v5HJwzkhWCt-"
      },
      "outputs": [],
      "source": [
        "def genetic_algorithm(population_size=500, crossover_rate=0.7, mutation_rate=0.1, max_generations=700,cities = city_data):\n",
        "    chromosomes = generate_random_chromosomes(500)\n",
        "    print(len(chromosomes))\n",
        "    fitness_values = []\n",
        "    for chromosome in chromosomes :\n",
        "        fitness_value = calculate_fitness_np(chromosome, cities)\n",
        "        fitness_values.append(fitness_value)\n",
        "\n",
        "    generation_without_improvement = 0\n",
        "\n",
        "    for generation in range(max_generations):\n",
        "        # Select parents using roulette wheel selection\n",
        "        parents = []\n",
        "        for i in range(population_size):\n",
        "            parent1 , parent2 = permutation_parent_selection(chromosomes, fitness_values)\n",
        "            parents.append((parent1, parent2))\n",
        "\n",
        "        offsprings = []\n",
        "        for parent1, parent2 in parents:\n",
        "            # print(parent1)\n",
        "            # break\n",
        "            if random.random() < crossover_rate:\n",
        "                offspring1 = cycle_crossover(parent1, parent2)\n",
        "                offspring2 = cycle_crossover(parent1, parent2)\n",
        "            else:\n",
        "                offspring1 = parent1\n",
        "                offspring2 = parent2\n",
        "\n",
        "            offsprings.append(offspring1)\n",
        "            offsprings.append(offspring2)\n",
        "\n",
        "        # Apply mutation\n",
        "        for offspring in offsprings:\n",
        "            if random.random() < mutation_rate:\n",
        "                offspring = insert_mutation(offspring)\n",
        "\n",
        "        # Evaluate offspring fitness\n",
        "        offspring_fitness_values = []\n",
        "        for offspring in offsprings :\n",
        "            # calculate_fitness(offspring, cities)\n",
        "            offspring_fitness_value = calculate_fitness_np(offspring)\n",
        "            # if offspring_fitness_value < 21285 :# todo remove this if for times reducing\n",
        "            #     print(offspring_fitness_value)\n",
        "            offspring_fitness_values.append(offspring_fitness_value)\n",
        "\n",
        "        # Combine parents and offspring to form a new population\n",
        "        new_population = np.empty_like(chromosomes)\n",
        "        new_fitness_values = np.empty_like(fitness_values)\n",
        "\n",
        "        for i in range(population_size):\n",
        "            if offspring_fitness_values[i] < fitness_values[i]:\n",
        "                new_population[i] = offsprings[i]\n",
        "                new_fitness_values[i] = offspring_fitness_values[i]\n",
        "            else:\n",
        "                new_population[i] = chromosomes[i]\n",
        "                new_fitness_values[i] = fitness_values[i]\n",
        "\n",
        "        chromosomes = new_population\n",
        "        fitness_values = new_fitness_values\n",
        "\n",
        "        # Check for stopping condition\n",
        "        if compare_max_values(offspring_fitness_values,fitness_values):\n",
        "            generation_without_improvement += 1\n",
        "\n",
        "            if generation_without_improvement >= 20:\n",
        "                break\n",
        "        else:\n",
        "            generation_without_improvement = 0\n",
        "\n",
        "    best_chromosome = chromosomes[fitness_values.argmax()]\n",
        "    best_fitness = np.min(fitness_values)\n",
        "\n",
        "    return best_chromosome, best_fitness\n"
      ]
    },
    {
      "cell_type": "code",
      "execution_count": 108,
      "metadata": {
        "colab": {
          "base_uri": "https://localhost:8080/",
          "height": 321
        },
        "id": "1kIHfVjcWIif",
        "outputId": "16ae8689-f326-48da-8e7a-85c9822ef18d"
      },
      "outputs": [
        {
          "name": "stdout",
          "output_type": "stream",
          "text": [
            "500\n"
          ]
        }
      ],
      "source": [
        "result = genetic_algorithm()"
      ]
    },
    {
      "cell_type": "code",
      "execution_count": 107,
      "metadata": {},
      "outputs": [
        {
          "name": "stdout",
          "output_type": "stream",
          "text": [
            "(array([61, 31, 42, 80, 56, 51, 81, 69, 13, 33, 95,  2, 89,  8, 79, 88, 22,\n",
            "       26, 70, 16, 94,  6,  1, 12, 55, 85, 76,  5, 37, 96, 60, 45, 98, 58,\n",
            "       28, 47, 49, 75, 19, 65, 66,  4, 97, 21, 59, 32, 91, 77, 62, 20, 86,\n",
            "        3,  0, 41, 43, 23, 11, 15, 10, 90, 46, 48, 30, 93, 72, 36, 38, 99,\n",
            "       24, 63, 92, 67, 25, 68, 82, 64, 40, 54, 87, 57,  9, 50, 44, 73, 53,\n",
            "       18, 84, 74, 17, 35, 27, 83, 39, 78, 52, 71, 14, 29, 34,  7]), 58826)\n"
          ]
        }
      ],
      "source": [
        "print(result)"
      ]
    }
  ],
  "metadata": {
    "accelerator": "GPU",
    "colab": {
      "gpuType": "T4",
      "provenance": []
    },
    "kernelspec": {
      "display_name": "Python 3",
      "name": "python3"
    },
    "language_info": {
      "codemirror_mode": {
        "name": "ipython",
        "version": 3
      },
      "file_extension": ".py",
      "mimetype": "text/x-python",
      "name": "python",
      "nbconvert_exporter": "python",
      "pygments_lexer": "ipython3",
      "version": "3.11.5"
    }
  },
  "nbformat": 4,
  "nbformat_minor": 0
}
