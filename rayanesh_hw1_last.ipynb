{
  "cells": [
    {
      "cell_type": "code",
      "execution_count": 51,
      "metadata": {
        "id": "cQck8m_SDiU5"
      },
      "outputs": [],
      "source": [
        "import numpy as np\n",
        "import random\n",
        "import math\n",
        "import random\n",
        "import telebot"
      ]
    },
    {
      "cell_type": "code",
      "execution_count": 54,
      "metadata": {},
      "outputs": [],
      "source": [
        "bot = telebot.TeleBot('6570394944:AAGoXsiJY5A9LH-YUY66hevkUTLEc-YvT1A')\n",
        "\n",
        "# Define a function to handle incoming messages\n",
        "@bot.message_handler(func=lambda message: True)\n",
        "def handle_message(message):\n",
        "  # Send the data to yourself\n",
        "  bot.send_message('b3hzadsh', message.text)\n",
        "\n",
        "# Start the bot\n",
        "bot.polling()"
      ]
    },
    {
      "cell_type": "code",
      "execution_count": null,
      "metadata": {
        "id": "O3inF_dJshzf"
      },
      "outputs": [],
      "source": [
        "def distance(p1, p2):\n",
        "  \"\"\"\n",
        "  محاسبه فاصله اقلیدسی دو نقطه\n",
        "\n",
        "  Args:\n",
        "    p1: نقطه اول\n",
        "    p2: نقطه دوم\n",
        "\n",
        "  Returns:\n",
        "    فاصله اقلیدسی بین دو نقطه\n",
        "  \"\"\"\n",
        "\n",
        "  x1, y1 = p1\n",
        "  x2, y2 = p2\n",
        "\n",
        "  dx = x1 - x2\n",
        "  dy = y1 - y2\n",
        "\n",
        "  return math.sqrt(dx**2 + dy**2)"
      ]
    },
    {
      "cell_type": "code",
      "execution_count": 3,
      "metadata": {
        "id": "NyayKB7TqHjE"
      },
      "outputs": [],
      "source": [
        "def calculate_distance(cities, solution):\n",
        "    total_distance = 0\n",
        "    for i in range(len(solution) - 1):\n",
        "        city1 = cities[solution[i]]\n",
        "        city2 = cities[solution[i + 1]]\n",
        "        distance = ((city1[1] - city2[1])**2 + (city1[2] - city2[2])**2)**0.5\n",
        "        total_distance += distance\n",
        "    return total_distance\n"
      ]
    },
    {
      "cell_type": "code",
      "execution_count": 5,
      "metadata": {
        "id": "5nrhxh9FvbCj"
      },
      "outputs": [],
      "source": [
        "def randomGeneration():\n",
        "  return np.random.permutation(100)"
      ]
    },
    {
      "cell_type": "code",
      "execution_count": 6,
      "metadata": {
        "id": "FjgKqdbJqoog"
      },
      "outputs": [],
      "source": [
        "def read_city_data(filename):\n",
        "    city_data = []\n",
        "    with open(filename, 'r') as f:\n",
        "        for line in f:\n",
        "            city, lat, lon = line.strip().split(' ')\n",
        "            city_data.append([city, int(lat), int(lon)])\n",
        "            # check city is good verification \n",
        "            # id , lat (x), long(y) in array\n",
        "    return city_data"
      ]
    },
    {
      "cell_type": "code",
      "execution_count": 7,
      "metadata": {},
      "outputs": [
        {
          "name": "stdout",
          "output_type": "stream",
          "text": [
            "100\n"
          ]
        }
      ],
      "source": [
        "city_data = read_city_data('city-cor.txt')\n",
        "print(len(city_data))\n",
        "# for city, lat, lon in city_data:\n",
        "#     print(f\"City: {city}, Latitude: {lat}, Longitude: {lon}\")"
      ]
    },
    {
      "cell_type": "code",
      "execution_count": 8,
      "metadata": {},
      "outputs": [],
      "source": [
        "def read_city_answer(filename):\n",
        "    city_answer = []\n",
        "    with open(filename, 'r') as f:\n",
        "        for line in f:\n",
        "            city_index = int(line)\n",
        "            city_answer.append(city_index)\n",
        "            # id , lat (x), long(y) in tupple\n",
        "    return city_answer"
      ]
    },
    {
      "cell_type": "code",
      "execution_count": 9,
      "metadata": {
        "id": "vfQYM639q3e_"
      },
      "outputs": [
        {
          "data": {
            "text/plain": [
              "[1,\n",
              " 47,\n",
              " 93,\n",
              " 28,\n",
              " 67,\n",
              " 58,\n",
              " 61,\n",
              " 51,\n",
              " 87,\n",
              " 25,\n",
              " 81,\n",
              " 69,\n",
              " 64,\n",
              " 40,\n",
              " 54,\n",
              " 2,\n",
              " 44,\n",
              " 50,\n",
              " 73,\n",
              " 68,\n",
              " 85,\n",
              " 82,\n",
              " 95,\n",
              " 13,\n",
              " 76,\n",
              " 33,\n",
              " 37,\n",
              " 5,\n",
              " 52,\n",
              " 78,\n",
              " 96,\n",
              " 39,\n",
              " 30,\n",
              " 48,\n",
              " 100,\n",
              " 41,\n",
              " 71,\n",
              " 14,\n",
              " 3,\n",
              " 43,\n",
              " 46,\n",
              " 29,\n",
              " 34,\n",
              " 83,\n",
              " 55,\n",
              " 7,\n",
              " 9,\n",
              " 57,\n",
              " 20,\n",
              " 12,\n",
              " 27,\n",
              " 86,\n",
              " 35,\n",
              " 62,\n",
              " 60,\n",
              " 77,\n",
              " 23,\n",
              " 98,\n",
              " 91,\n",
              " 45,\n",
              " 32,\n",
              " 11,\n",
              " 15,\n",
              " 17,\n",
              " 59,\n",
              " 74,\n",
              " 21,\n",
              " 72,\n",
              " 10,\n",
              " 84,\n",
              " 36,\n",
              " 99,\n",
              " 38,\n",
              " 24,\n",
              " 18,\n",
              " 79,\n",
              " 53,\n",
              " 88,\n",
              " 16,\n",
              " 94,\n",
              " 22,\n",
              " 70,\n",
              " 66,\n",
              " 26,\n",
              " 65,\n",
              " 4,\n",
              " 97,\n",
              " 56,\n",
              " 80,\n",
              " 31,\n",
              " 89,\n",
              " 42,\n",
              " 8,\n",
              " 92,\n",
              " 75,\n",
              " 19,\n",
              " 90,\n",
              " 49,\n",
              " 6,\n",
              " 63]"
            ]
          },
          "execution_count": 9,
          "metadata": {},
          "output_type": "execute_result"
        }
      ],
      "source": [
        "city_ans = read_city_answer('answer.txt')\n",
        "city_ans"
      ]
    },
    {
      "cell_type": "code",
      "execution_count": 10,
      "metadata": {
        "colab": {
          "base_uri": "https://localhost:8080/"
        },
        "id": "lc4akb2-NTqH",
        "outputId": "b54707fa-8339-4350-8909-c68520896571"
      },
      "outputs": [
        {
          "name": "stdout",
          "output_type": "stream",
          "text": [
            "['1', 1380, 939]\n"
          ]
        }
      ],
      "source": [
        "print(city_data[0])"
      ]
    },
    {
      "cell_type": "code",
      "execution_count": 11,
      "metadata": {
        "id": "GtWXCDuKr7hu"
      },
      "outputs": [],
      "source": [
        "def generate_random_chromosomes(population_size):\n",
        "    chromosomes = []\n",
        "    for _ in range(population_size):\n",
        "        chromosome = randomGeneration()\n",
        "        # random.shuffle(chromosome)\n",
        "        chromosomes.append(chromosome)\n",
        "    return chromosomes"
      ]
    },
    {
      "cell_type": "code",
      "execution_count": 12,
      "metadata": {
        "id": "D-OTX-gxxuWD"
      },
      "outputs": [],
      "source": [
        "def calculate_fitness(chromosome, cities=city_data):\n",
        "    total_distance = 0\n",
        "    if len(chromosome) != 100 :\n",
        "      raise ValueError\n",
        "    for i in range(100):\n",
        "        city1_index = chromosome[i-1]\n",
        "        city2_index = chromosome[i]\n",
        "        \n",
        "        city1 = cities[city1_index-1]\n",
        "        city2 = cities[city2_index-1]\n",
        "\n",
        "        latitude_diff = city1[1] - city2[1]\n",
        "        longitude_diff = city1[2] - city2[2]\n",
        "\n",
        "        distance = math.sqrt(latitude_diff**2 + longitude_diff**2)\n",
        "        total_distance += distance\n",
        "    return int(total_distance // 1)"
      ]
    },
    {
      "cell_type": "code",
      "execution_count": 13,
      "metadata": {},
      "outputs": [
        {
          "data": {
            "text/plain": [
              "21285"
            ]
          },
          "execution_count": 13,
          "metadata": {},
          "output_type": "execute_result"
        }
      ],
      "source": [
        "calculate_fitness(city_ans)"
      ]
    },
    {
      "cell_type": "code",
      "execution_count": 14,
      "metadata": {},
      "outputs": [],
      "source": [
        "def calculate_fitness_np(chromosome, cities=city_data):\n",
        "    if len(chromosome) != 100 :\n",
        "        print('wrong chromosome length')\n",
        "        raise ValueError\n",
        "\n",
        "    total_distance = 0\n",
        "    for i in range(100):\n",
        "        city1_index = chromosome[i-1]\n",
        "        city2_index = chromosome[i]\n",
        "        \n",
        "        city1 = np.array(cities[city1_index-1][1:])\n",
        "        city2 = np.array(cities[city2_index-1][1:])\n",
        "        \n",
        "        distance = np.linalg.norm(city1 - city2)\n",
        "        total_distance += distance\n",
        "\n",
        "    return int(total_distance // 1)"
      ]
    },
    {
      "cell_type": "code",
      "execution_count": 15,
      "metadata": {},
      "outputs": [
        {
          "data": {
            "text/plain": [
              "21285"
            ]
          },
          "execution_count": 15,
          "metadata": {},
          "output_type": "execute_result"
        }
      ],
      "source": [
        "calculate_fitness_np(city_ans)"
      ]
    },
    {
      "cell_type": "code",
      "execution_count": 16,
      "metadata": {},
      "outputs": [
        {
          "name": "stdout",
          "output_type": "stream",
          "text": [
            "[20 25 80 92 58 65  9 26 12 78 81 85 21  0 24 53 14 27 99 72 34 88 96 82\n",
            " 44 95 38 54 47  7 66 60 98 61 68 62 70  3 39 59 63 97 31 42 90 57 55 77\n",
            " 22 23 43 46 19 51 41 49  1 48 11 83  8 93 67 69 94 17  6 37 52  2 73 36\n",
            " 87 28 79 91 29 74 33  4 32 13 86 10 56 71 84 89 76 40 45 16 18  5 50 35\n",
            " 75 15 30 64]\n"
          ]
        }
      ],
      "source": [
        "population = generate_random_chromosomes(500)\n",
        "print(population[0])"
      ]
    },
    {
      "cell_type": "code",
      "execution_count": 83,
      "metadata": {
        "colab": {
          "base_uri": "https://localhost:8080/"
        },
        "id": "RwX8ATuNOQIY",
        "outputId": "caa3972b-62de-4015-97d8-c55fcd7aec8e"
      },
      "outputs": [],
      "source": [
        "for chro in population :\n",
        "  fitforchro = calculate_fitness(chro)\n",
        "  if fitforchro < 21285:\n",
        "    print(fitforchro)"
      ]
    },
    {
      "cell_type": "code",
      "execution_count": 84,
      "metadata": {},
      "outputs": [],
      "source": [
        "# fitness_values = []\n",
        "# for chromosome in population :\n",
        "#     fitness_value = calculate_fitness(chromosome, cities = city_data)\n",
        "#     fitness_values.append(fitness_value)\n",
        "# fitness_values"
      ]
    },
    {
      "cell_type": "code",
      "execution_count": 17,
      "metadata": {},
      "outputs": [
        {
          "name": "stdout",
          "output_type": "stream",
          "text": [
            "[176125 172586 170029 170277 172140 173101 177409 159300 173763 171427\n",
            " 162268 175763 163218 166727 159037 167156 175002 172522 145345 177612\n",
            " 174636 169747 172600 178839 168446 165836 154752 163354 179593 164295\n",
            " 171233 172411 174506 178384 175202 158693 185812 174340 155032 176109\n",
            " 173396 175888 184422 157314 165306 163926 173529 164885 168231 158724\n",
            " 166592 175417 162539 160057 145900 170774 167751 173422 176975 175571\n",
            " 165690 165539 185742 178724 189307 171515 165741 160845 174196 178541\n",
            " 176903 157086 174536 172402 174531 188585 166985 181763 169649 179136\n",
            " 166380 178478 182489 190403 167642 160365 180845 167860 180491 169401\n",
            " 157316 167231 175828 174490 186255 177145 177441 169025 169894 186740\n",
            " 173274 185168 181054 167531 161907 174223 169862 155599 171922 170660\n",
            " 177736 171361 175857 182934 165311 172766 167314 182107 164406 161910\n",
            " 185545 157998 175346 184313 197871 170372 172497 166982 169035 174795\n",
            " 176052 172424 173954 171940 179906 173590 178943 162065 181272 165249\n",
            " 180479 162296 192268 164358 170091 165346 176324 171570 181014 168605\n",
            " 187069 170154 178608 178200 158130 155929 165493 172634 153687 148110\n",
            " 148306 169427 164385 181495 175173 181045 169121 177187 164914 156378\n",
            " 177953 160882 193674 177646 163201 175918 171808 160573 159650 181614\n",
            " 167551 176581 164231 172944 160916 170935 158325 163102 160234 168644\n",
            " 158619 163970 162031 165033 160585 171621 178845 170786 158119 171291\n",
            " 178215 171923 178988 163233 171178 164375 184139 177390 151924 173070\n",
            " 178105 177099 181707 188811 179271 171877 166891 178683 163610 176564\n",
            " 170537 167090 156324 168034 168511 173679 173244 197548 171980 155714\n",
            " 177596 170398 175863 185705 162542 178771 182102 175543 172651 172834\n",
            " 163064 168198 164061 186390 170661 170199 179644 173631 179919 190106\n",
            " 174831 166235 176791 178835 167039 178343 176773 186571 177565 178761\n",
            " 166362 164579 170463 189980 169885 168706 167241 169525 172299 164415\n",
            " 174287 179614 175521 166219 178681 173011 182259 168432 166246 177756\n",
            " 184006 165342 179510 169623 167616 151159 165341 158900 173564 166125\n",
            " 166023 161235 172748 171105 156013 163759 180038 163402 165626 167454\n",
            " 168373 169624 168762 165142 167734 170700 182000 177808 181948 164377\n",
            " 171096 164151 173681 161794 186786 179050 152609 174659 158939 161729\n",
            " 168218 165297 173527 176925 159826 162499 169495 163473 167154 165671\n",
            " 171666 165910 167739 174649 164609 169462 165242 172039 164793 179588\n",
            " 162323 172729 158024 160190 176551 184747 170247 165711 186184 162882\n",
            " 166681 164305 167329 185655 162523 183259 180153 194695 171708 163902\n",
            " 163292 170816 176817 184204 159716 167133 171212 173160 171776 155930\n",
            " 179399 169784 153302 162535 177445 188478 173703 168818 164655 167727\n",
            " 180855 168399 174618 162889 161393 155602 164157 157251 167097 158078\n",
            " 154324 176586 161316 157228 172137 179094 189473 160507 164611 178745\n",
            " 171926 168805 183571 180027 181748 177968 173488 171984 173101 149418\n",
            " 166475 175531 167790 171713 163393 183937 168611 168950 177991 161986\n",
            " 169719 193580 169637 170458 169506 175365 172082 162293 188081 165342\n",
            " 163248 170350 172052 166750 170577 173522 166483 176275 179984 162237\n",
            " 151960 184800 173648 169737 186888 155796 183131 181640 177453 167484\n",
            " 167495 177569 164369 188471 175496 160019 175872 167438 180594 165696\n",
            " 171730 160410 176805 168302 169975 183650 163843 186598 174684 177934\n",
            " 155756 178025 167565 165377 176940 158219 183671 165536 176452 164533\n",
            " 176782 180089 169085 172450 172207 179752 161949 173315 150849 168486\n",
            " 163815 177730 146012 167892 185545 168206 161603 163764 168734 175626]\n"
          ]
        }
      ],
      "source": [
        "fitness_values = np.array([calculate_fitness(chromosome, cities=city_data) for chromosome in population])\n",
        "print(fitness_values)"
      ]
    },
    {
      "cell_type": "code",
      "execution_count": 18,
      "metadata": {},
      "outputs": [],
      "source": [
        "def permutation_parent_selection(population, fitness_values, selection_method=\"roulette_wheel\"):\n",
        "  \"\"\"Selects parents for a genetic algorithm using permutation representation.\n",
        "\n",
        "  Args:\n",
        "    population: A list of chromosomes in permutation representation.\n",
        "    fitness_values: A list of fitness values for each chromosome in the population.\n",
        "    selection_method: The parent selection method to use. Supported methods are\n",
        "      \"roulette_wheel\" and \"tournament\".\n",
        "\n",
        "  Returns:\n",
        "    A tuple of two chromosomes selected as parents.\n",
        "  \"\"\"\n",
        "\n",
        "  if selection_method == \"roulette_wheel\":\n",
        "    return roulette_wheel_permutation_parent_selection(population, fitness_values)\n",
        "  elif selection_method == \"tournament\":\n",
        "    return tournament_permutation_parent_selection(population, fitness_values)\n",
        "  else:\n",
        "    raise ValueError(\"Unsupported parent selection method: {}\".format(selection_method))\n",
        "\n",
        "\n",
        "def roulette_wheel_permutation_parent_selection(population, fitness_values):\n",
        "  \"\"\"Selects parents using roulette wheel selection for permutation representation.\n",
        "\n",
        "  Args:\n",
        "    population: A list of chromosomes in permutation representation.\n",
        "    fitness_values: A list of fitness values for each chromosome in the population.\n",
        "\n",
        "  Returns:\n",
        "    A tuple of two chromosomes selected as parents.\n",
        "  \"\"\"\n",
        "\n",
        "  total_fitness = np.sum(fitness_values)\n",
        "  fitness_probabilities = fitness_values / total_fitness\n",
        "  cumulative_probabilities = np.cumsum(fitness_probabilities)\n",
        "\n",
        "  random_value = random.random()\n",
        "  parent1_index = 0\n",
        "  for i, probability in enumerate(cumulative_probabilities):\n",
        "    if random_value < probability:\n",
        "      parent1 = population[i]\n",
        "      break\n",
        "\n",
        "  random_value = random.random()\n",
        "  parent2_index = 0\n",
        "  for i, probability in enumerate(cumulative_probabilities):\n",
        "    if random_value < probability:\n",
        "      parent2 = population[i]\n",
        "      break\n",
        "\n",
        "  return parent1, parent2\n",
        "\n",
        "\n",
        "def tournament_permutation_parent_selection(population, fitness_values, tournament_size=2):\n",
        "  \"\"\"Selects parents using tournament selection for permutation representation.\n",
        "\n",
        "  Args:\n",
        "    population: A list of chromosomes in permutation representation.\n",
        "    fitness_values: A list of fitness values for each chromosome in the population.\n",
        "    tournament_size: The size of the tournament.\n",
        "\n",
        "  Returns:\n",
        "    A tuple of two chromosomes selected as parents.\n",
        "  \"\"\"\n",
        "\n",
        "  parent1 = None\n",
        "  parent2 = None\n",
        "\n",
        "  for _ in range(tournament_size):\n",
        "    random_index = random.randint(0, len(population) - 1)\n",
        "\n",
        "    if parent1 is None or fitness_values[random_index] > fitness_values[parent1]:\n",
        "      parent1 = population[random_index]\n",
        "\n",
        "    if parent2 is None or fitness_values[random_index] > fitness_values[parent2]:\n",
        "      parent2 = population[random_index]\n",
        "\n",
        "  return parent1, parent2\n"
      ]
    },
    {
      "cell_type": "code",
      "execution_count": 19,
      "metadata": {},
      "outputs": [
        {
          "data": {
            "text/plain": [
              "(array([40, 14, 69, 22, 83, 18, 34, 84, 56, 51, 13, 58, 61, 74, 37, 12, 17,\n",
              "        55, 45, 31, 53, 29, 39, 92, 48, 60,  2, 25, 52, 41, 42, 46, 65, 49,\n",
              "        88,  5, 85, 24, 15, 71, 68, 73, 16, 64, 62, 89, 30, 94,  6, 72, 80,\n",
              "         8, 43, 91, 81,  7, 97, 90, 50, 28, 19,  1, 36, 96, 66, 95, 32, 87,\n",
              "        38, 47, 99, 93, 10, 54, 26, 70, 63, 98, 44, 11, 35, 33,  3, 57, 79,\n",
              "        21,  4,  9, 86, 67, 77, 82, 75, 20, 76,  0, 27, 59, 23, 78]),\n",
              " array([ 8, 17, 93, 23,  5, 48, 39, 86, 72,  7, 18,  9, 91,  3, 37, 43, 64,\n",
              "        33,  4, 94, 42, 24, 20, 58,  0, 29, 67,  2, 95, 21, 49, 75, 41, 10,\n",
              "        82, 55, 15, 80, 66, 44, 96, 89, 59, 62, 26,  1, 27, 68, 12, 45, 40,\n",
              "        28, 73, 83,  6, 52, 97, 53, 50, 11, 98, 56, 99, 88, 14, 60, 92, 38,\n",
              "        46, 87, 30, 34, 70, 22, 79, 61, 85, 90, 51, 63, 16, 71, 54, 81, 19,\n",
              "        74, 78, 69, 84, 13, 36, 25, 57, 76, 47, 65, 32, 77, 31, 35]))"
            ]
          },
          "execution_count": 19,
          "metadata": {},
          "output_type": "execute_result"
        }
      ],
      "source": [
        "roulette_wheel_permutation_parent_selection(population=population, fitness_values=fitness_values)"
      ]
    },
    {
      "cell_type": "code",
      "execution_count": null,
      "metadata": {},
      "outputs": [],
      "source": []
    },
    {
      "cell_type": "code",
      "execution_count": 21,
      "metadata": {},
      "outputs": [
        {
          "name": "stdout",
          "output_type": "stream",
          "text": [
            "Parent 1: [2 1 6 0 9 3 4 8 7 5]\n",
            "Parent 2: [9 8 7 6 0 4 3 1 5 2]\n",
            "Offspring 1: [6 8 7 0 9 3 4 1 5 2]\n",
            "Offspring 2: [2 1 9 6 0 4 3 8 7 5]\n"
          ]
        }
      ],
      "source": [
        "def PMX_crossover(parent1, parent2, seed):\n",
        "    # key = random.PRNGKey(72)\n",
        "    '''\n",
        "    parent1 and parent2 are 1D np.array\n",
        "    '''\n",
        "    rng = np.random.default_rng(seed=seed)\n",
        "\n",
        "    cutoff_1, cutoff_2 = np.sort(rng.choice(np.arange(len(parent1)+1), size=2, replace=False))\n",
        "\n",
        "    def PMX_one_offspring(p1, p2):\n",
        "        offspring = np.zeros(len(p1), dtype=p1.dtype)\n",
        "\n",
        "        # Copy the mapping section (middle) from parent1\n",
        "        offspring[cutoff_1:cutoff_2] = p1[cutoff_1:cutoff_2]\n",
        "\n",
        "        # copy the rest from parent2 (provided it's not already there\n",
        "        for i in np.concatenate([np.arange(0,cutoff_1), np.arange(cutoff_2,len(p1))]):\n",
        "            candidate = p2[i]\n",
        "            while candidate in p1[cutoff_1:cutoff_2]: # allows for several successive mappings\n",
        "                # print(f\"Candidate {candidate} not valid in position {i}\") # DEBUGONLY\n",
        "                candidate = p2[np.where(p1 == candidate)[0][0]]\n",
        "            offspring[i] = candidate\n",
        "        return offspring\n",
        "\n",
        "    offspring1 = PMX_one_offspring(parent1, parent2)\n",
        "    offspring2 = PMX_one_offspring(parent2, parent1)\n",
        "\n",
        "    return offspring1, offspring2\n",
        "parent1 = np.random.permutation(10)\n",
        "parent2 = np.random.permutation(10)\n",
        "# Print the parents\n",
        "print(\"Parent 1:\", parent1)\n",
        "print(\"Parent 2:\", parent2)\n",
        "# Apply PMX and print the offspring\n",
        "offspring1, offspring2 = PMX_crossover(parent1, parent2,313)\n",
        "print(\"Offspring 1:\", offspring1)\n",
        "print(\"Offspring 2:\", offspring2)"
      ]
    },
    {
      "cell_type": "code",
      "execution_count": 22,
      "metadata": {},
      "outputs": [
        {
          "name": "stdout",
          "output_type": "stream",
          "text": [
            "Offspring 1: [71 87 38  2 45 86 80 13 82 34 16 21 89 53 18  7 56 28 78 58 73 81 10 95\n",
            " 64 72 36 17 88 94 84 60 98 61 68 62 70  3 39 59 63 97 31 42 90 57 55 77\n",
            " 22 23 43 46 19 51 41 49  1 48 11 83  8 93 67 85 14 69 54  4 74 27 26 52\n",
            " 47 29 79  6 20  9 37 33 76 25 92 12 44  5 91 96 99 40 65 15  0 32 50 75\n",
            " 35 24 66 30]\n",
            "Offspring 2: [20 25 80 92  3 65  9 60 42 78 81 85 21  0 24 53 14 27  1 49 34 88 96 61\n",
            " 57 95 38 54 47  7 66 26 97 82 45 59 75 58 30  2 99  6 28 12 40 44 48 94\n",
            "  8 76 23 13 71 32 86 72 93 90 33 56 98 63 52 69 77 17 22 37 67 62 73 36\n",
            " 87 31 79 91 29 74 11  4 51 46 41 10 83 19 84 89 43 55 68 16 18  5 50 35\n",
            " 70 15 39 64]\n"
          ]
        }
      ],
      "source": [
        "offspring1, offspring2 = PMX_crossover(population[0], population[1],313)\n",
        "print(\"Offspring 1:\", offspring1)\n",
        "print(\"Offspring 2:\", offspring2)"
      ]
    },
    {
      "cell_type": "code",
      "execution_count": 23,
      "metadata": {},
      "outputs": [
        {
          "name": "stdout",
          "output_type": "stream",
          "text": [
            "(100,)\n"
          ]
        },
        {
          "data": {
            "text/plain": [
              "(array([91, 50, 68, 80, 13, 84, 70, 33,  9, 30, 66,  6, 16, 61,  8, 31, 51,\n",
              "        76,  0, 53, 95, 38, 26, 74, 93, 25, 78, 27, 67, 21, 15, 69, 29, 86,\n",
              "        90, 88, 99, 77, 39, 63, 92, 17, 35, 98, 87, 71, 45, 89, 59, 49,  4,\n",
              "        64,  3,  5, 14, 37, 23, 62, 46, 73, 97, 85, 11, 56, 22, 48, 60,  1,\n",
              "        79, 32, 65,  7, 41, 55, 81, 52, 18, 43, 44, 19,  2, 40, 42, 57, 75,\n",
              "        24, 12, 82, 47, 83, 72, 94, 54, 28, 10, 20, 96, 34, 58, 36]),\n",
              " array([71, 56, 84, 54, 65, 87, 41,  4, 32, 97, 72,  6, 35, 63, 60, 85,  3,\n",
              "        23, 92,  0, 46, 17, 81,  2, 57, 61,  1, 44, 20, 74, 99, 51, 69, 26,\n",
              "        95, 90, 12, 86, 40,  9, 82, 49, 75, 59, 77, 11, 68, 21, 96, 50, 89,\n",
              "        42, 31, 16, 58, 93, 28, 79, 15, 24, 10, 73, 43, 36, 76, 78, 30, 19,\n",
              "        98, 70, 13, 29, 14, 52, 27, 34, 47,  5, 37, 33, 45, 64, 83, 62, 66,\n",
              "         7, 18, 91, 53, 22,  8, 38, 67, 80, 94, 39, 55, 48, 25, 88]))"
            ]
          },
          "execution_count": 23,
          "metadata": {},
          "output_type": "execute_result"
        }
      ],
      "source": [
        "firstPermutation = np.random.permutation(100) # generate a random permutation of integers from 0 to 99\n",
        "print(firstPermutation.shape)\n",
        "secondPermutation = np.random.permutation(100) # generate another random permutation of integers from 0 to 99\n",
        "PMX_crossover(firstPermutation, secondPermutation,313) # apply the PMX"
      ]
    },
    {
      "cell_type": "code",
      "execution_count": 95,
      "metadata": {},
      "outputs": [
        {
          "name": "stdout",
          "output_type": "stream",
          "text": [
            "Offspring 1: [ 5 72  7 76 94 26 97 60 98 40  1 32  2 50 28 20 90  8 22 46 10 78 88 66\n",
            "  6 15 82 73 75 25  3 83 91 63 65 33 87  0 49 92 17 16 52 30 56 59 79 36\n",
            " 14 45 95 84 43 74 19 71 68 64 54 21 80 29 96 85 37 23 69 51 62 53 93 11\n",
            " 61 81 41  9 58 89 42 48 70 38 39 13 18 77 44 24 57 12 27 47 55  4 34 86\n",
            " 67 31 35 99]\n",
            "Offspring 2: [55 28 80  1  3 15 36 86 34 74 93 26 96 51 61 83 94 68 45 60 77 17 12 46\n",
            " 42 85 31 16  4 88 70  6 11  5 35 27 56 53 67 69 52 10 48 21 19 65 62 90\n",
            " 20 22 72 38 50 87 40 78  9 37 64 30 25 32 79 76 81 92  0 63 43 41 91 59\n",
            " 14 73 44 84 13 24 66 99 57 75  8 23 54 95 71 89 82 33 39 97 49  2 58 18\n",
            "  7 29 98 47]\n"
          ]
        }
      ],
      "source": [
        "def cxPartialyMatched(ind1, ind2):\n",
        "    size = min(len(ind1), len(ind2))\n",
        "    p1, p2 = [0] * size, [0] * size\n",
        "\n",
        "    # Initialize the position of each indices in the individuals\n",
        "    for i in range(size):\n",
        "        p1[ind1[i]] = i\n",
        "        p2[ind2[i]] = i\n",
        "    # Choose crossover points\n",
        "    cxpoint1 = random.randint(0, size)\n",
        "    cxpoint2 = random.randint(0, size - 1)\n",
        "    if cxpoint2 >= cxpoint1:\n",
        "        cxpoint2 += 1\n",
        "    else:  # Swap the two cx points\n",
        "        cxpoint1, cxpoint2 = cxpoint2, cxpoint1\n",
        "\n",
        "    # Apply crossover between cx points\n",
        "    for i in range(cxpoint1, cxpoint2):\n",
        "        # Keep track of the selected values\n",
        "        temp1 = ind1[i]\n",
        "        temp2 = ind2[i]\n",
        "        # Swap the matched value\n",
        "        ind1[i], ind1[p1[temp2]] = temp2, temp1\n",
        "        ind2[i], ind2[p2[temp1]] = temp1, temp2\n",
        "        # Position bookkeeping\n",
        "        p1[temp1], p1[temp2] = p1[temp2], p1[temp1]\n",
        "        p2[temp1], p2[temp2] = p2[temp2], p2[temp1]\n",
        "\n",
        "    return ind1, ind2\n",
        "offspring1, offspring2 = cxPartialyMatched(population[0], population[1])\n",
        "print(\"Offspring 1:\", offspring1)\n",
        "print(\"Offspring 2:\", offspring2)"
      ]
    },
    {
      "cell_type": "code",
      "execution_count": 96,
      "metadata": {
        "id": "9d97-TFO4FYQ"
      },
      "outputs": [],
      "source": [
        "def erx_crossover(parent1, parent2):\n",
        "    \"\"\"Performs Edge Recombination Crossover (ERX) on two chromosomes.\n",
        "\n",
        "    Args:\n",
        "        parent1: The first parent chromosome.\n",
        "        parent2: The second parent chromosome.\n",
        "\n",
        "    Returns:\n",
        "        A new chromosome resulting from the crossover.\n",
        "    \"\"\"\n",
        "\n",
        "    offspring = []\n",
        "    visited = set()\n",
        "\n",
        "    # Start from a random gene in parent1\n",
        "    gene = random.choice(parent1)\n",
        "    offspring.append(gene)\n",
        "    visited.add(gene)\n",
        "\n",
        "    while len(offspring) < len(parent1):\n",
        "        # Find the next gene to add\n",
        "        next_gene = None\n",
        "\n",
        "        # Check if the next gene in parent2 is not in the visited set\n",
        "        next_gene_in_parent2 = parent2[(parent1.index(gene) + 1) % len(parent1)]\n",
        "        if next_gene_in_parent2 not in visited:\n",
        "            next_gene = next_gene_in_parent2\n",
        "\n",
        "        # Check if the next gene in parent1 is not in the visited set\n",
        "        if next_gene is None:\n",
        "            next_gene_in_parent1 = parent1[(parent2.index(gene) + 1) % len(parent2)]\n",
        "            if next_gene_in_parent1 not in visited:\n",
        "                next_gene = next_gene_in_parent1\n",
        "\n",
        "        # If no valid next gene found, break\n",
        "        if next_gene is None:\n",
        "            break\n",
        "\n",
        "        # Add the next gene to the offspring and mark it as visited\n",
        "        offspring.append(next_gene)\n",
        "        visited.add(next_gene)\n",
        "\n",
        "        # Update the current gene\n",
        "        gene = next_gene\n",
        "\n",
        "    return offspring"
      ]
    },
    {
      "cell_type": "code",
      "execution_count": 97,
      "metadata": {
        "id": "j9YH4M5C4gBe"
      },
      "outputs": [],
      "source": [
        "def ox_crossover(parent1, parent2):\n",
        "    \"\"\"Performs Order Crossover (OX) on two chromosomes.\n",
        "\n",
        "    Args:\n",
        "        parent1: The first parent chromosome.\n",
        "        parent2: The second parent chromosome.\n",
        "\n",
        "    Returns:\n",
        "        A new chromosome resulting from the crossover.\n",
        "    \"\"\"\n",
        "\n",
        "    crossover_points = random.sample(range(1, len(parent1)), 2)\n",
        "    slice_start, slice_end = crossover_points[0], crossover_points[1]\n",
        "\n",
        "    slice1 = parent1[slice_start:slice_end]\n",
        "    remaining_genes1 = set(parent1) - set(slice1)\n",
        "\n",
        "    mapping = {}\n",
        "    for i in range(slice_start, slice_end):\n",
        "        gene1 = parent1[i]\n",
        "        gene2 = parent2[i]\n",
        "\n",
        "        if gene1 in remaining_genes1:\n",
        "            mapping[gene1] = gene2\n",
        "            remaining_genes1.remove(gene1)\n",
        "\n",
        "    offspring = []\n",
        "    for gene in parent2:\n",
        "        if gene in mapping:\n",
        "            offspring.append(mapping[gene])\n",
        "        elif gene not in slice1:\n",
        "            offspring.append(gene)\n",
        "\n",
        "    for gene in slice1:\n",
        "        offspring.append(gene)\n",
        "\n",
        "    return offspring"
      ]
    },
    {
      "cell_type": "code",
      "execution_count": 98,
      "metadata": {
        "id": "tyOnoWxo5BkQ"
      },
      "outputs": [],
      "source": [
        "def cycle_crossover(parent1, parent2):\n",
        "    \"\"\"\n",
        "    Performs Cycle Crossover (CX) on two chromosomes.\n",
        "\n",
        "    Args:\n",
        "        parent1: The first parent chromosome.\n",
        "        parent2: The second parent chromosome.\n",
        "\n",
        "    Returns:\n",
        "        A new chromosome resulting from the crossover.\n",
        "    \"\"\"\n",
        "\n",
        "    cycle_start = random.randrange(len(parent1))\n",
        "    cycle_genes1 = set(parent1[cycle_start:])\n",
        "    cycle_genes2 = set(parent2[cycle_start:])\n",
        "\n",
        "    offspring = list(parent1[:cycle_start])\n",
        "    for gene in parent2:\n",
        "        if gene in cycle_genes1:\n",
        "            offspring.append(gene)\n",
        "            cycle_genes1.remove(gene)\n",
        "\n",
        "            if not cycle_genes1:\n",
        "                break\n",
        "        else:\n",
        "            cycle_genes2.add(gene)\n",
        "\n",
        "    for gene in cycle_genes2:\n",
        "        offspring.append(gene)\n",
        "\n",
        "    return offspring"
      ]
    },
    {
      "cell_type": "code",
      "execution_count": 44,
      "metadata": {
        "id": "oTKNWjXf5dUP"
      },
      "outputs": [],
      "source": [
        "def swap_mutation(chromosome):\n",
        "    i, j = random.sample(range(len(chromosome)), 2)\n",
        "    chromosome[i], chromosome[j] = chromosome[j], chromosome[i]\n",
        "    return chromosome"
      ]
    },
    {
      "cell_type": "code",
      "execution_count": 45,
      "metadata": {},
      "outputs": [
        {
          "data": {
            "text/plain": [
              "[4, 2, 3, 1, 5]"
            ]
          },
          "execution_count": 45,
          "metadata": {},
          "output_type": "execute_result"
        }
      ],
      "source": [
        "original_chromosome = [1, 2, 3, 4, 5]\n",
        "swap_mutation(original_chromosome)"
      ]
    },
    {
      "cell_type": "code",
      "execution_count": 100,
      "metadata": {
        "id": "byt6rXjr5x2P"
      },
      "outputs": [],
      "source": [
        "def scramble_mutation(chromosome):\n",
        "    \"\"\"Performs Scramble mutation on a chromosome.\n",
        "\n",
        "    Args:\n",
        "        chromosome: The chromosome to mutate.\n",
        "\n",
        "    Returns:\n",
        "        A mutated chromosome.\n",
        "    \"\"\"\n",
        "\n",
        "    mutation_length = random.randrange(2, len(chromosome))\n",
        "    start_index = random.randrange(len(chromosome) - mutation_length)\n",
        "\n",
        "    sub_chromosome = chromosome[start_index:start_index + mutation_length]\n",
        "    random.shuffle(sub_chromosome)\n",
        "    chromosome[start_index:start_index + mutation_length] = sub_chromosome\n",
        "\n",
        "    return chromosome"
      ]
    },
    {
      "cell_type": "code",
      "execution_count": 101,
      "metadata": {
        "id": "mE49sOoq52kv"
      },
      "outputs": [],
      "source": [
        "def insert_mutation(chromosome):\n",
        "    \"\"\"Performs Insert mutation on a chromosome.\n",
        "\n",
        "    Args:\n",
        "        chromosome: The chromosome to mutate.\n",
        "\n",
        "    Returns:\n",
        "        A mutated chromosome.\n",
        "    \"\"\"\n",
        "\n",
        "    i = random.randrange(len(chromosome))\n",
        "    j = random.randrange(len(chromosome))\n",
        "\n",
        "    if i != j:\n",
        "        gene = chromosome.pop(i)\n",
        "        chromosome.insert(j, gene)\n",
        "\n",
        "    return chromosome"
      ]
    },
    {
      "cell_type": "code",
      "execution_count": 102,
      "metadata": {
        "id": "C13zTU0X6MJn"
      },
      "outputs": [],
      "source": [
        "def inversion_mutation(chromosome):\n",
        "    \"\"\"Performs Inversion mutation on a chromosome.\n",
        "\n",
        "    Args:\n",
        "        chromosome: The chromosome to mutate.\n",
        "\n",
        "    Returns:\n",
        "        A mutated chromosome.\n",
        "    \"\"\"\n",
        "\n",
        "    mutation_length = random.randrange(2, len(chromosome))\n",
        "    start_index = random.randrange(len(chromosome) - mutation_length)\n",
        "\n",
        "    sub_chromosome = chromosome[start_index:start_index + mutation_length]\n",
        "    sub_chromosome.reverse()\n",
        "    chromosome[start_index:start_index + mutation_length] = sub_chromosome\n",
        "\n",
        "    return chromosome"
      ]
    },
    {
      "cell_type": "code",
      "execution_count": 103,
      "metadata": {},
      "outputs": [],
      "source": [
        "def inversion_mutation(permutation):\n",
        "  # randomly select two positions in the permutation\n",
        "  i, j = np.random.choice(len(permutation), size=2, replace=False)\n",
        "  # make sure i is smaller than j\n",
        "  if i > j:\n",
        "    i, j = j, i\n",
        "  # invert the segment between i and j\n",
        "  permutation[i:j+1] = permutation[i:j+1][::-1]\n",
        "  return permutation\n"
      ]
    },
    {
      "cell_type": "code",
      "execution_count": 24,
      "metadata": {},
      "outputs": [
        {
          "name": "stdout",
          "output_type": "stream",
          "text": [
            "[ 6  5  4  3  2  1  7  8  9 10]\n"
          ]
        }
      ],
      "source": [
        "def inversion_mutation(chromosome):\n",
        "  \"\"\"Performs inversion mutation on a permutation chromosome.\n",
        "\n",
        "  Args:\n",
        "    chromosome: A NumPy array of city indices in permutation representation.\n",
        "\n",
        "  Returns:\n",
        "    A NumPy array of city indices in permutation representation representing the mutated chromosome.\n",
        "  \"\"\"\n",
        "\n",
        "  # Select two random indices in the chromosome.\n",
        "  index1 = np.random.randint(0, len(chromosome))\n",
        "  index2 = np.random.randint(0, len(chromosome))\n",
        "\n",
        "  # Ensure that the two indices are different.\n",
        "  while index1 == index2:\n",
        "    index2 = np.random.randint(0, len(chromosome))\n",
        "\n",
        "  # Reverse the order of the genes between the two indices.\n",
        "  # print(type(chromosome[index1:index2 + 1]))\n",
        "  chromosome[index1:index2 + 1] = chromosome[index1:index2 + 1][::-1]\n",
        "\n",
        "  return chromosome\n",
        "\n",
        "\n",
        "# Fake data\n",
        "chromosome = np.array([1, 2, 3, 4, 5, 6, 7, 8, 9, 10])\n",
        "\n",
        "# Mutate the chromosome\n",
        "mutated_chromosome = inversion_mutation(chromosome)\n",
        "\n",
        "# Print the mutated chromosome\n",
        "print(mutated_chromosome)\n"
      ]
    },
    {
      "cell_type": "code",
      "execution_count": 105,
      "metadata": {},
      "outputs": [],
      "source": [
        "# import unittest\n",
        "# import numpy as np\n",
        "\n",
        "# def inversion_mutation(permutation):\n",
        "#     print('permutation is : ')\n",
        "#     print(permutation)\n",
        "#     # randomly select two positions in the permutation\n",
        "#     i, j = np.random.choice(len(permutation), size=2, replace=False)\n",
        "#     # make sure i is smaller than j\n",
        "#     if i > j:\n",
        "#         i, j = j, i\n",
        "#     # invert the segment between i and j\n",
        "#     permutation[i:j+1] = permutation[i:j+1][::-1]\n",
        "#     return permutation\n",
        "\n",
        "# class TestInversionMutation(unittest.TestCase):\n",
        "#     def test_inversion_mutation(self):\n",
        "#         # Test case 1: permutation with length 5\n",
        "#         permutation = [1, 2, 3, 4, 5]\n",
        "#         mutated_permutation = inversion_mutation(permutation)\n",
        "#         self.assertEqual(len(mutated_permutation), len(permutation))\n",
        "#         self.assertNotEqual(mutated_permutation, permutation)\n",
        "\n",
        "#         # Test case 2: permutation with length 10\n",
        "#         permutation = [10, 9, 8, 7, 6, 5, 4, 3, 2, 1]\n",
        "#         mutated_permutation = inversion_mutation(permutation)\n",
        "#         self.assertEqual(len(mutated_permutation), len(permutation))\n",
        "#         self.assertNotEqual(mutated_permutation, permutation)\n",
        "\n",
        "# if __name__ == '__main__':\n",
        "#     unittest.main()\n"
      ]
    },
    {
      "cell_type": "code",
      "execution_count": 25,
      "metadata": {},
      "outputs": [
        {
          "data": {
            "text/plain": [
              "(array([71, 87, 38,  2, 45, 86, 80, 13, 82, 34, 16, 21, 89, 53, 18,  7, 56,\n",
              "        28, 78, 58, 73, 81, 10, 95, 64, 72, 36, 17, 88, 94, 84, 60, 98, 61,\n",
              "        68, 62, 70,  3, 39, 59, 63, 97, 31, 42, 90, 57, 55, 77, 22, 23, 43,\n",
              "        46, 19, 51, 41, 49,  1, 48, 11, 83,  8, 93, 67, 85, 14, 69, 54,  4,\n",
              "        74, 27, 26, 52, 47, 29, 79,  6, 20,  9, 37, 33, 76, 25, 92, 12, 44,\n",
              "         5, 91, 96, 99, 40, 65, 15,  0, 32, 50, 75, 35, 24, 66, 30]),\n",
              " array([20, 25, 80, 92,  3, 65,  9, 60, 42, 78, 81, 85, 21,  0, 24, 53, 14,\n",
              "        27,  1, 49, 34, 88, 96, 61, 57, 95, 38, 54, 47,  7, 66, 26, 97, 82,\n",
              "        45, 59, 75, 58, 30,  2, 99,  6, 28, 12, 40, 44, 48, 94,  8, 76, 23,\n",
              "        13, 71, 32, 86, 72, 93, 90, 33, 56, 98, 63, 52, 69, 77, 17, 22, 37,\n",
              "        67, 62, 73, 36, 87, 31, 79, 91, 29, 74, 11,  4, 51, 46, 41, 10, 83,\n",
              "        19, 84, 89, 43, 55, 68, 16, 18,  5, 50, 35, 70, 15, 39, 64]))"
            ]
          },
          "execution_count": 25,
          "metadata": {},
          "output_type": "execute_result"
        }
      ],
      "source": [
        "PMX_crossover(population[0], population[1],313)"
      ]
    },
    {
      "cell_type": "code",
      "execution_count": 36,
      "metadata": {},
      "outputs": [
        {
          "data": {
            "text/plain": [
              "False"
            ]
          },
          "execution_count": 36,
          "metadata": {},
          "output_type": "execute_result"
        }
      ],
      "source": [
        "def compare_max_values(array1, array2):\n",
        "  \"\"\"\n",
        "  check if first array has bigger max   \n",
        "  \"\"\"\n",
        "  min_value1 = np.min(array1)\n",
        "  min_value2 = np.min(array2)\n",
        "\n",
        "  if min_value1 < min_value2:\n",
        "    return False\n",
        "  else:\n",
        "    return True\n",
        "\n",
        "# Example usage\n",
        "array1 = np.array([1, 2, 3, 4, 5])\n",
        "array2 = np.array([6, 7, 8, 9, 10])\n",
        "\n",
        "compare_max_values(array1, array2)"
      ]
    },
    {
      "cell_type": "code",
      "execution_count": 47,
      "metadata": {
        "id": "v5HJwzkhWCt-"
      },
      "outputs": [],
      "source": [
        "# def roulette_wheel_selection(population, fitness_values):\n",
        "#     total_fitness = np.sum(fitness_values)\n",
        "#     fitness_probabilities = fitness_values / total_fitness\n",
        "#     cumulative_probabilities = np.cumsum(fitness_probabilities)\n",
        "\n",
        "#     random_index = random.random()\n",
        "#     for i, probability in enumerate(cumulative_probabilities):\n",
        "#         # print(f'i is {i}')\n",
        "#         if random_index < probability:\n",
        "#             return population[i]\n",
        "# def roulette_wheel_selection(population, fitness_values):\n",
        "#     total_fitness = np.sum(fitness_values)\n",
        "#     fitness_probabilities = fitness_values / total_fitness\n",
        "#     cumulative_probabilities = np.cumsum(fitness_probabilities)\n",
        "\n",
        "#     random_value = random.random()\n",
        "#     for i, probability in enumerate(cumulative_probabilities):\n",
        "#         if random_value < probability:\n",
        "#             selected_chromosome = population[i]\n",
        "#             break\n",
        "\n",
        "#     # Shuffle the selected chromosome to ensure no bias in selecting the next parent\n",
        "#     # np.random.shuffle(selected_chromosome)\n",
        "\n",
        "#     return selected_chromosome\n",
        "\n",
        "# def tournament_selection(population , cities = city_data, tournament_size = 5):\n",
        "#     # Create a tournament\n",
        "#     tournament = random.sample(population, tournament_size)\n",
        "#     # Select the best individual among the tournament\n",
        "#     best_individual = min(tournament, key=lambda x: calculate_distance(cities, x))\n",
        "#     return best_individual\n",
        "\n",
        "def genetic_algorithm(population_size=500, crossover_rate=0.7, mutation_rate=0.1, max_generations=700,cities = city_data):\n",
        "    chromosomes = generate_random_chromosomes(500)\n",
        "    print(len(chromosomes))\n",
        "    fitness_values = []\n",
        "    for chromosome in chromosomes :\n",
        "        fitness_value = calculate_fitness_np(chromosome, cities)\n",
        "        fitness_values.append(fitness_value)\n",
        "\n",
        "    generation_without_improvement = 0\n",
        "\n",
        "    for generation in range(max_generations):\n",
        "        # Select parents using roulette wheel selection\n",
        "        parents = []\n",
        "        for i in range(population_size):\n",
        "            parent1 , parent2 = permutation_parent_selection(chromosomes, fitness_values)\n",
        "            parents.append((parent1, parent2))\n",
        "\n",
        "        offsprings = []\n",
        "        for parent1, parent2 in parents:\n",
        "            # print(parent1)\n",
        "            # break\n",
        "            if random.random() < crossover_rate:\n",
        "                offspring1 ,offspring2 = PMX_crossover(parent1, parent2,313)\n",
        "            else:\n",
        "                offspring1 = parent1\n",
        "                offspring2 = parent2\n",
        "\n",
        "            offsprings.append(offspring1)\n",
        "            offsprings.append(offspring2)\n",
        "\n",
        "        # Apply mutation\n",
        "        for offspring in offsprings:\n",
        "            if random.random() < mutation_rate:\n",
        "                offspring = swap_mutation(offspring)\n",
        "                # offspring = inversion_mutation(offspring)\n",
        "\n",
        "        # Evaluate offspring fitness\n",
        "        offspring_fitness_values = []\n",
        "        for offspring in offsprings :\n",
        "            # calculate_fitness(offspring, cities)\n",
        "            offspring_fitness_value = calculate_fitness_np(offspring)\n",
        "            # if offspring_fitness_value < 21285 :# todo remove this if for times reducing\n",
        "            #     print(offspring_fitness_value)\n",
        "            offspring_fitness_values.append(offspring_fitness_value)\n",
        "\n",
        "        # Combine parents and offspring to form a new population\n",
        "        new_population = np.empty_like(chromosomes)\n",
        "        new_fitness_values = np.empty_like(fitness_values)\n",
        "\n",
        "        for i in range(population_size):\n",
        "            if offspring_fitness_values[i] < fitness_values[i]:\n",
        "                new_population[i] = offsprings[i]\n",
        "                new_fitness_values[i] = offspring_fitness_values[i]\n",
        "            else:\n",
        "                new_population[i] = chromosomes[i]\n",
        "                new_fitness_values[i] = fitness_values[i]\n",
        "\n",
        "        chromosomes = new_population\n",
        "        fitness_values = new_fitness_values\n",
        "\n",
        "        # Check for stopping condition\n",
        "        if compare_max_values(offspring_fitness_values,fitness_values):\n",
        "            generation_without_improvement += 1\n",
        "\n",
        "            if generation_without_improvement >= 20:\n",
        "                break\n",
        "        else:\n",
        "            generation_without_improvement = 0\n",
        "\n",
        "    best_chromosome = chromosomes[fitness_values.argmax()]\n",
        "    best_fitness = np.min(fitness_values)\n",
        "\n",
        "    return best_chromosome, best_fitness\n"
      ]
    },
    {
      "cell_type": "code",
      "execution_count": 56,
      "metadata": {
        "colab": {
          "base_uri": "https://localhost:8080/",
          "height": 321
        },
        "id": "1kIHfVjcWIif",
        "outputId": "16ae8689-f326-48da-8e7a-85c9822ef18d"
      },
      "outputs": [
        {
          "name": "stdout",
          "output_type": "stream",
          "text": [
            "500\n"
          ]
        }
      ],
      "source": [
        "result = genetic_algorithm()"
      ]
    },
    {
      "cell_type": "code",
      "execution_count": 55,
      "metadata": {},
      "outputs": [
        {
          "name": "stdout",
          "output_type": "stream",
          "text": [
            "(array([31, 65,  8,  4, 26, 56, 89, 67, 77, 60, 23, 20, 47, 91, 61, 51, 58,\n",
            "       42, 80, 70, 94, 38, 36, 84, 30, 14, 48,  3, 46, 66, 75, 97, 19,  6,\n",
            "       63, 35, 12, 55, 29, 34, 83,  1, 90, 79, 88, 22, 16, 53, 49, 43, 71,\n",
            "       41,  0, 52, 78,  5, 37, 92, 10, 18, 24, 99, 59, 11, 98, 85, 68, 25,\n",
            "       15, 17, 74, 21, 72, 32, 45, 62, 86, 27, 57,  7,  9, 87, 28, 93, 81,\n",
            "       39, 96, 50, 44, 73, 69, 64, 40, 54,  2, 95, 76, 33, 13, 82]), 53902)\n"
          ]
        }
      ],
      "source": [
        "print(result)"
      ]
    }
  ],
  "metadata": {
    "accelerator": "GPU",
    "colab": {
      "gpuType": "T4",
      "provenance": []
    },
    "kernelspec": {
      "display_name": "Python 3",
      "name": "python3"
    },
    "language_info": {
      "codemirror_mode": {
        "name": "ipython",
        "version": 3
      },
      "file_extension": ".py",
      "mimetype": "text/x-python",
      "name": "python",
      "nbconvert_exporter": "python",
      "pygments_lexer": "ipython3",
      "version": "3.11.5"
    }
  },
  "nbformat": 4,
  "nbformat_minor": 0
}
